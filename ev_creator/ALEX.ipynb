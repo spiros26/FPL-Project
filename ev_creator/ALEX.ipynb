{
  "cells": [
    {
      "attachments": {},
      "cell_type": "markdown",
      "metadata": {},
      "source": [
        "### Preprocessing"
      ]
    },
    {
      "cell_type": "code",
      "execution_count": 11,
      "metadata": {
        "colab": {
          "base_uri": "https://localhost:8080/"
        },
        "id": "noAj3v0QRP9F",
        "outputId": "14cece39-d2b4-4de9-85fb-b4eecb53e7ab"
      },
      "outputs": [],
      "source": [
        "# Get all the up to date data\n",
        "from modules.update_data import update_data, clone_data\n",
        "\n",
        "clone_data()\n",
        "#update_data()"
      ]
    },
    {
      "cell_type": "code",
      "execution_count": 2,
      "metadata": {},
      "outputs": [
        {
          "ename": "FileNotFoundError",
          "evalue": "[Errno 2] No such file or directory: '../data/Fantasy-Premier-League/data/2023-24/understat/Joelinton_87.csv'",
          "output_type": "error",
          "traceback": [
            "\u001b[1;31m---------------------------------------------------------------------------\u001b[0m",
            "\u001b[1;31mFileNotFoundError\u001b[0m                         Traceback (most recent call last)",
            "Cell \u001b[1;32mIn[2], line 15\u001b[0m\n\u001b[0;32m     11\u001b[0m id_dict_df \u001b[39m=\u001b[39m ids_formation(PATH, PATH2)\n\u001b[0;32m     12\u001b[0m \u001b[39m#id_dict_df = pd.read_csv(PATH2)\u001b[39;00m\n\u001b[0;32m     13\u001b[0m \u001b[39m#id_dict_df[['19-20','20-21', '21-22', '22-23', 'understat']] = id_dict_df[['19-20','20-21', '21-22', '22-23', 'understat']].fillna(0.0).astype(int)\u001b[39;00m\n\u001b[1;32m---> 15\u001b[0m player_info_dict \u001b[39m=\u001b[39m players_data(id_dict_df, ids, PATH)\n\u001b[0;32m     16\u001b[0m \u001b[39m#with open('./created_datasets/player_info_dict.pkl', 'rb') as f:\u001b[39;00m\n\u001b[0;32m     17\u001b[0m \u001b[39m#    player_info_dict = pickle.load(f)\u001b[39;00m\n",
            "File \u001b[1;32mc:\\Users\\spval\\OneDrive\\Desktop\\FPL-Project\\ev_creator\\modules\\players_data.py:583\u001b[0m, in \u001b[0;36mplayers_data\u001b[1;34m(id_dict_df, ids, PATH)\u001b[0m\n\u001b[0;32m    528\u001b[0m main_dfs_2022 \u001b[39m=\u001b[39m [\n\u001b[0;32m    529\u001b[0m             pd\u001b[39m.\u001b[39mread_csv(PATH \u001b[39m+\u001b[39m season \u001b[39m+\u001b[39m \u001b[39m'\u001b[39m\u001b[39m/players/Joelinton Cássio_Apolinário de Lira_371/gw.csv\u001b[39m\u001b[39m'\u001b[39m),\n\u001b[0;32m    530\u001b[0m             pd\u001b[39m.\u001b[39mread_csv(PATH \u001b[39m+\u001b[39m season \u001b[39m+\u001b[39m \u001b[39m'\u001b[39m\u001b[39m/players/Thiago_Alcántara do Nascimento_277/gw.csv\u001b[39m\u001b[39m'\u001b[39m),\n\u001b[1;32m   (...)\u001b[0m\n\u001b[0;32m    578\u001b[0m             pd\u001b[39m.\u001b[39mread_csv(PATH \u001b[39m+\u001b[39m season \u001b[39m+\u001b[39m \u001b[39m'\u001b[39m\u001b[39m/players/José_Malheiro de Sá_478/gw.csv\u001b[39m\u001b[39m'\u001b[39m)\n\u001b[0;32m    579\u001b[0m ]\n\u001b[0;32m    581\u001b[0m season \u001b[39m=\u001b[39m \u001b[39m'\u001b[39m\u001b[39m2023-24\u001b[39m\u001b[39m'\u001b[39m\n\u001b[0;32m    582\u001b[0m understat_dfs_2023 \u001b[39m=\u001b[39m [\n\u001b[1;32m--> 583\u001b[0m                 pd\u001b[39m.\u001b[39;49mread_csv(PATH \u001b[39m+\u001b[39;49m  season \u001b[39m+\u001b[39;49m \u001b[39m'\u001b[39;49m\u001b[39m/understat/Joelinton_87.csv\u001b[39;49m\u001b[39m'\u001b[39;49m),\n\u001b[0;32m    584\u001b[0m                 pd\u001b[39m.\u001b[39mread_csv(PATH \u001b[39m+\u001b[39m  season \u001b[39m+\u001b[39m \u001b[39m'\u001b[39m\u001b[39m/understat/Thiago_Alcántara_229.csv\u001b[39m\u001b[39m'\u001b[39m),\n\u001b[0;32m    585\u001b[0m                 pd\u001b[39m.\u001b[39mread_csv(PATH \u001b[39m+\u001b[39m season \u001b[39m+\u001b[39m \u001b[39m'\u001b[39m\u001b[39m/understat/Kevin_De_Bruyne_447.csv\u001b[39m\u001b[39m'\u001b[39m),\n\u001b[0;32m    586\u001b[0m                 pd\u001b[39m.\u001b[39mread_csv(PATH \u001b[39m+\u001b[39m season \u001b[39m+\u001b[39m \u001b[39m'\u001b[39m\u001b[39m/understat/Philippe_Coutinho_488.csv\u001b[39m\u001b[39m'\u001b[39m),\n\u001b[0;32m    587\u001b[0m             \u001b[39m#    pd.read_csv(PATH + season + '/understat/Mohamed_Elneny_496.csv'),\u001b[39;00m\n\u001b[0;32m    588\u001b[0m                 pd\u001b[39m.\u001b[39mread_csv(PATH \u001b[39m+\u001b[39m season \u001b[39m+\u001b[39m \u001b[39m'\u001b[39m\u001b[39m/understat/David_de_Gea_546.csv\u001b[39m\u001b[39m'\u001b[39m),\n\u001b[0;32m    589\u001b[0m                 pd\u001b[39m.\u001b[39mread_csv(PATH \u001b[39m+\u001b[39m season \u001b[39m+\u001b[39m \u001b[39m'\u001b[39m\u001b[39m/understat/Virgil_van_Dijk_833.csv\u001b[39m\u001b[39m'\u001b[39m),\n\u001b[0;32m    590\u001b[0m             \u001b[39m#    pd.read_csv(PATH + season + '/understat/Oriol_Romeu_842.csv'),\u001b[39;00m\n\u001b[0;32m    591\u001b[0m                 pd\u001b[39m.\u001b[39mread_csv(PATH \u001b[39m+\u001b[39m season \u001b[39m+\u001b[39m \u001b[39m'\u001b[39m\u001b[39m/understat/Bruno_Fernandes_1228.csv\u001b[39m\u001b[39m'\u001b[39m),\n\u001b[0;32m    592\u001b[0m                 pd\u001b[39m.\u001b[39mread_csv(PATH \u001b[39m+\u001b[39m season \u001b[39m+\u001b[39m \u001b[39m'\u001b[39m\u001b[39m/understat/Emerson_7430.csv\u001b[39m\u001b[39m'\u001b[39m),\n\u001b[0;32m    593\u001b[0m                 pd\u001b[39m.\u001b[39mread_csv(PATH \u001b[39m+\u001b[39m season \u001b[39m+\u001b[39m \u001b[39m'\u001b[39m\u001b[39m/understat/Alisson_1257.csv\u001b[39m\u001b[39m'\u001b[39m),\n\u001b[0;32m    594\u001b[0m             \u001b[39m#     pd.read_csv(PATH + season + '/understat/Allan_1379.csv'),\u001b[39;00m\n\u001b[0;32m    595\u001b[0m                 pd\u001b[39m.\u001b[39mread_csv(PATH \u001b[39m+\u001b[39m season \u001b[39m+\u001b[39m \u001b[39m'\u001b[39m\u001b[39m/understat/Jorginho_1389.csv\u001b[39m\u001b[39m'\u001b[39m),\n\u001b[0;32m    596\u001b[0m             \u001b[39m#     pd.read_csv(PATH + season + '/understat/Alex_Telles_1828.csv'),\u001b[39;00m\n\u001b[0;32m    597\u001b[0m                 pd\u001b[39m.\u001b[39mread_csv(PATH \u001b[39m+\u001b[39m season \u001b[39m+\u001b[39m \u001b[39m'\u001b[39m\u001b[39m/understat/Emiliano_Buendía_2203.csv\u001b[39m\u001b[39m'\u001b[39m),\n\u001b[0;32m    598\u001b[0m             \u001b[39m#    pd.read_csv(PATH + season + '/understat/Jonny_2280.csv'),\u001b[39;00m\n\u001b[0;32m    599\u001b[0m             \u001b[39m#    pd.read_csv(PATH + season + '/understat/Cristiano_Ronaldo_2371.csv'),\u001b[39;00m\n\u001b[0;32m    600\u001b[0m                 pd\u001b[39m.\u001b[39mread_csv(PATH \u001b[39m+\u001b[39m season \u001b[39m+\u001b[39m \u001b[39m'\u001b[39m\u001b[39m/understat/João_Cancelo_2379.csv\u001b[39m\u001b[39m'\u001b[39m),\n\u001b[0;32m    601\u001b[0m             \u001b[39m#    pd.read_csv(PATH + season + '/understat/André_Gomes_2383.csv'),\u001b[39;00m\n\u001b[0;32m    602\u001b[0m                 pd\u001b[39m.\u001b[39mread_csv(PATH \u001b[39m+\u001b[39m season \u001b[39m+\u001b[39m \u001b[39m'\u001b[39m\u001b[39m/understat/Thiago_Silva_3288.csv\u001b[39m\u001b[39m'\u001b[39m),\n\u001b[0;32m    603\u001b[0m                 pd\u001b[39m.\u001b[39mread_csv(PATH \u001b[39m+\u001b[39m season \u001b[39m+\u001b[39m \u001b[39m'\u001b[39m\u001b[39m/understat/Lucas_Moura_3293.csv\u001b[39m\u001b[39m'\u001b[39m),\n\u001b[0;32m    604\u001b[0m             \u001b[39m#    pd.read_csv(PATH + season + '/understat/Ricardo_Pereira_3303.csv'),\u001b[39;00m\n\u001b[0;32m    605\u001b[0m                 pd\u001b[39m.\u001b[39mread_csv(PATH \u001b[39m+\u001b[39m season \u001b[39m+\u001b[39m \u001b[39m'\u001b[39m\u001b[39m/understat/Fabinho_3420.csv\u001b[39m\u001b[39m'\u001b[39m),\n\u001b[0;32m    606\u001b[0m             \u001b[39m#    pd.read_csv(PATH + season + '/understat/João_Moutinho_3422.csv'),\u001b[39;00m\n\u001b[0;32m    607\u001b[0m                 pd\u001b[39m.\u001b[39mread_csv(PATH \u001b[39m+\u001b[39m season \u001b[39m+\u001b[39m \u001b[39m'\u001b[39m\u001b[39m/understat/Bernardo_Silva_3635.csv\u001b[39m\u001b[39m'\u001b[39m),\n\u001b[0;32m    608\u001b[0m                 pd\u001b[39m.\u001b[39mread_csv(PATH \u001b[39m+\u001b[39m season \u001b[39m+\u001b[39m \u001b[39m'\u001b[39m\u001b[39m/understat/Gabriel_Jesus_5543.csv\u001b[39m\u001b[39m'\u001b[39m),\n\u001b[0;32m    609\u001b[0m             \u001b[39m#    pd.read_csv(PATH + season + '/understat/Anwar_El_Ghazi_5612.csv'),\u001b[39;00m\n\u001b[0;32m    610\u001b[0m                 pd\u001b[39m.\u001b[39mread_csv(PATH \u001b[39m+\u001b[39m season \u001b[39m+\u001b[39m \u001b[39m'\u001b[39m\u001b[39m/understat/Richarlison_6026.csv\u001b[39m\u001b[39m'\u001b[39m),\n\u001b[0;32m    611\u001b[0m                 pd\u001b[39m.\u001b[39mread_csv(PATH \u001b[39m+\u001b[39m season \u001b[39m+\u001b[39m \u001b[39m'\u001b[39m\u001b[39m/understat/Ederson_6054.csv\u001b[39m\u001b[39m'\u001b[39m),\n\u001b[0;32m    612\u001b[0m                 pd\u001b[39m.\u001b[39mread_csv(PATH \u001b[39m+\u001b[39m season \u001b[39m+\u001b[39m \u001b[39m'\u001b[39m\u001b[39m/understat/Douglas_Luiz_6122.csv\u001b[39m\u001b[39m'\u001b[39m),\n\u001b[0;32m    613\u001b[0m             \u001b[39m#    pd.read_csv(PATH + season + '/understat/Nélson_Semedo_6163.csv'),\u001b[39;00m\n\u001b[0;32m    614\u001b[0m                 pd\u001b[39m.\u001b[39mread_csv(PATH \u001b[39m+\u001b[39m season \u001b[39m+\u001b[39m \u001b[39m'\u001b[39m\u001b[39m/understat/Pedro_Neto_6382.csv\u001b[39m\u001b[39m'\u001b[39m),\n\u001b[0;32m    615\u001b[0m             \u001b[39m#    pd.read_csv(PATH + season + '/understat/Júnior_Firpo_6485.csv'),\u001b[39;00m\n\u001b[0;32m    616\u001b[0m             \u001b[39m#    pd.read_csv(PATH + season + '/understat/Rayan_Ait_Nouri_6674.csv'),\u001b[39;00m\n\u001b[0;32m    617\u001b[0m                 pd\u001b[39m.\u001b[39mread_csv(PATH \u001b[39m+\u001b[39m season \u001b[39m+\u001b[39m \u001b[39m'\u001b[39m\u001b[39m/understat/Fred_6817.csv\u001b[39m\u001b[39m'\u001b[39m),\n\u001b[0;32m    618\u001b[0m             \u001b[39m#    pd.read_csv(PATH + season + '/understat/Rúben_Neves_6853.csv'),\u001b[39;00m\n\u001b[0;32m    619\u001b[0m                 pd\u001b[39m.\u001b[39mread_csv(PATH \u001b[39m+\u001b[39m season \u001b[39m+\u001b[39m \u001b[39m'\u001b[39m\u001b[39m/understat/Emile_Smith-Rowe_7230.csv\u001b[39m\u001b[39m'\u001b[39m),\n\u001b[0;32m    620\u001b[0m                 pd\u001b[39m.\u001b[39mread_csv(PATH \u001b[39m+\u001b[39m season \u001b[39m+\u001b[39m \u001b[39m'\u001b[39m\u001b[39m/understat/Diogo_Dalot_7281.csv\u001b[39m\u001b[39m'\u001b[39m),\n\u001b[0;32m    621\u001b[0m                 pd\u001b[39m.\u001b[39mread_csv(PATH \u001b[39m+\u001b[39m season \u001b[39m+\u001b[39m \u001b[39m'\u001b[39m\u001b[39m/understat/Ezri_Konsa_Ngoyo_7726.csv\u001b[39m\u001b[39m'\u001b[39m),\n\u001b[0;32m    622\u001b[0m                 pd\u001b[39m.\u001b[39mread_csv(PATH \u001b[39m+\u001b[39m season \u001b[39m+\u001b[39m \u001b[39m'\u001b[39m\u001b[39m/understat/Gabriel_Martinelli_7752.csv\u001b[39m\u001b[39m'\u001b[39m),\n\u001b[0;32m    623\u001b[0m             \u001b[39m#    pd.read_csv(PATH + season + '/understat/Daniel_Podence_8291.csv'),\u001b[39;00m\n\u001b[0;32m    624\u001b[0m                 pd\u001b[39m.\u001b[39mread_csv(PATH \u001b[39m+\u001b[39m season \u001b[39m+\u001b[39m \u001b[39m'\u001b[39m\u001b[39m/understat/Bruno_Guimarães_8327.csv\u001b[39m\u001b[39m'\u001b[39m),\n\u001b[0;32m    625\u001b[0m                 pd\u001b[39m.\u001b[39mread_csv(PATH \u001b[39m+\u001b[39m season \u001b[39m+\u001b[39m \u001b[39m'\u001b[39m\u001b[39m/understat/Alexis_Mac_Allister_8379.csv\u001b[39m\u001b[39m'\u001b[39m),\n\u001b[0;32m    626\u001b[0m                 pd\u001b[39m.\u001b[39mread_csv(PATH \u001b[39m+\u001b[39m season \u001b[39m+\u001b[39m \u001b[39m'\u001b[39m\u001b[39m/understat/Rúben_Dias_8961.csv\u001b[39m\u001b[39m'\u001b[39m),\n\u001b[0;32m    627\u001b[0m                 pd\u001b[39m.\u001b[39mread_csv(PATH \u001b[39m+\u001b[39m season \u001b[39m+\u001b[39m \u001b[39m'\u001b[39m\u001b[39m/understat/David_Raya_9676.csv\u001b[39m\u001b[39m'\u001b[39m),\n\u001b[0;32m    628\u001b[0m                 pd\u001b[39m.\u001b[39mread_csv(PATH \u001b[39m+\u001b[39m season \u001b[39m+\u001b[39m \u001b[39m'\u001b[39m\u001b[39m/understat/Mads_Bech_Sørensen_9683.csv\u001b[39m\u001b[39m'\u001b[39m),\n\u001b[0;32m    629\u001b[0m                 pd\u001b[39m.\u001b[39mread_csv(PATH \u001b[39m+\u001b[39m season \u001b[39m+\u001b[39m \u001b[39m'\u001b[39m\u001b[39m/understat/Mads_Roerslev_9685.csv\u001b[39m\u001b[39m'\u001b[39m),\n\u001b[0;32m    630\u001b[0m                 pd\u001b[39m.\u001b[39mread_csv(PATH \u001b[39m+\u001b[39m season \u001b[39m+\u001b[39m \u001b[39m'\u001b[39m\u001b[39m/understat/Albert_Sambi_Lokonga_9689.csv\u001b[39m\u001b[39m'\u001b[39m),\n\u001b[0;32m    631\u001b[0m             \u001b[39m#     pd.read_csv(PATH + season + '/understat/Nuno_Tavares_9691.csv'),\u001b[39;00m\n\u001b[0;32m    632\u001b[0m                 pd\u001b[39m.\u001b[39mread_csv(PATH \u001b[39m+\u001b[39m season \u001b[39m+\u001b[39m \u001b[39m'\u001b[39m\u001b[39m/understat/José_Sá_9740.csv\u001b[39m\u001b[39m'\u001b[39m)\n\u001b[0;32m    633\u001b[0m \n\u001b[0;32m    634\u001b[0m ]\n\u001b[0;32m    636\u001b[0m main_dfs_2023 \u001b[39m=\u001b[39m [\n\u001b[0;32m    637\u001b[0m             pd\u001b[39m.\u001b[39mread_csv(PATH \u001b[39m+\u001b[39m season \u001b[39m+\u001b[39m \u001b[39m'\u001b[39m\u001b[39m/players/Joelinton Cássio_Apolinário de Lira_371/gw.csv\u001b[39m\u001b[39m'\u001b[39m),\n\u001b[0;32m    638\u001b[0m             pd\u001b[39m.\u001b[39mread_csv(PATH \u001b[39m+\u001b[39m season \u001b[39m+\u001b[39m \u001b[39m'\u001b[39m\u001b[39m/players/Thiago_Alcántara do Nascimento_277/gw.csv\u001b[39m\u001b[39m'\u001b[39m),\n\u001b[1;32m   (...)\u001b[0m\n\u001b[0;32m    686\u001b[0m             pd\u001b[39m.\u001b[39mread_csv(PATH \u001b[39m+\u001b[39m season \u001b[39m+\u001b[39m \u001b[39m'\u001b[39m\u001b[39m/players/José_Malheiro de Sá_478/gw.csv\u001b[39m\u001b[39m'\u001b[39m)\n\u001b[0;32m    687\u001b[0m ]\n\u001b[0;32m    690\u001b[0m understat_dfs_2019 \u001b[39m=\u001b[39m understat_dfs_2019 \u001b[39m+\u001b[39m understat_dfs_promoted_players_2019\n",
            "File \u001b[1;32mc:\\Users\\spval\\AppData\\Local\\Programs\\Python\\Python39\\lib\\site-packages\\pandas\\io\\parsers.py:610\u001b[0m, in \u001b[0;36mread_csv\u001b[1;34m(filepath_or_buffer, sep, delimiter, header, names, index_col, usecols, squeeze, prefix, mangle_dupe_cols, dtype, engine, converters, true_values, false_values, skipinitialspace, skiprows, skipfooter, nrows, na_values, keep_default_na, na_filter, verbose, skip_blank_lines, parse_dates, infer_datetime_format, keep_date_col, date_parser, dayfirst, cache_dates, iterator, chunksize, compression, thousands, decimal, lineterminator, quotechar, quoting, doublequote, escapechar, comment, encoding, dialect, error_bad_lines, warn_bad_lines, delim_whitespace, low_memory, memory_map, float_precision, storage_options)\u001b[0m\n\u001b[0;32m    605\u001b[0m kwds_defaults \u001b[39m=\u001b[39m _refine_defaults_read(\n\u001b[0;32m    606\u001b[0m     dialect, delimiter, delim_whitespace, engine, sep, defaults\u001b[39m=\u001b[39m{\u001b[39m\"\u001b[39m\u001b[39mdelimiter\u001b[39m\u001b[39m\"\u001b[39m: \u001b[39m\"\u001b[39m\u001b[39m,\u001b[39m\u001b[39m\"\u001b[39m}\n\u001b[0;32m    607\u001b[0m )\n\u001b[0;32m    608\u001b[0m kwds\u001b[39m.\u001b[39mupdate(kwds_defaults)\n\u001b[1;32m--> 610\u001b[0m \u001b[39mreturn\u001b[39;00m _read(filepath_or_buffer, kwds)\n",
            "File \u001b[1;32mc:\\Users\\spval\\AppData\\Local\\Programs\\Python\\Python39\\lib\\site-packages\\pandas\\io\\parsers.py:462\u001b[0m, in \u001b[0;36m_read\u001b[1;34m(filepath_or_buffer, kwds)\u001b[0m\n\u001b[0;32m    459\u001b[0m _validate_names(kwds\u001b[39m.\u001b[39mget(\u001b[39m\"\u001b[39m\u001b[39mnames\u001b[39m\u001b[39m\"\u001b[39m, \u001b[39mNone\u001b[39;00m))\n\u001b[0;32m    461\u001b[0m \u001b[39m# Create the parser.\u001b[39;00m\n\u001b[1;32m--> 462\u001b[0m parser \u001b[39m=\u001b[39m TextFileReader(filepath_or_buffer, \u001b[39m*\u001b[39m\u001b[39m*\u001b[39mkwds)\n\u001b[0;32m    464\u001b[0m \u001b[39mif\u001b[39;00m chunksize \u001b[39mor\u001b[39;00m iterator:\n\u001b[0;32m    465\u001b[0m     \u001b[39mreturn\u001b[39;00m parser\n",
            "File \u001b[1;32mc:\\Users\\spval\\AppData\\Local\\Programs\\Python\\Python39\\lib\\site-packages\\pandas\\io\\parsers.py:819\u001b[0m, in \u001b[0;36mTextFileReader.__init__\u001b[1;34m(self, f, engine, **kwds)\u001b[0m\n\u001b[0;32m    816\u001b[0m \u001b[39mif\u001b[39;00m \u001b[39m\"\u001b[39m\u001b[39mhas_index_names\u001b[39m\u001b[39m\"\u001b[39m \u001b[39min\u001b[39;00m kwds:\n\u001b[0;32m    817\u001b[0m     \u001b[39mself\u001b[39m\u001b[39m.\u001b[39moptions[\u001b[39m\"\u001b[39m\u001b[39mhas_index_names\u001b[39m\u001b[39m\"\u001b[39m] \u001b[39m=\u001b[39m kwds[\u001b[39m\"\u001b[39m\u001b[39mhas_index_names\u001b[39m\u001b[39m\"\u001b[39m]\n\u001b[1;32m--> 819\u001b[0m \u001b[39mself\u001b[39m\u001b[39m.\u001b[39m_engine \u001b[39m=\u001b[39m \u001b[39mself\u001b[39;49m\u001b[39m.\u001b[39;49m_make_engine(\u001b[39mself\u001b[39;49m\u001b[39m.\u001b[39;49mengine)\n",
            "File \u001b[1;32mc:\\Users\\spval\\AppData\\Local\\Programs\\Python\\Python39\\lib\\site-packages\\pandas\\io\\parsers.py:1050\u001b[0m, in \u001b[0;36mTextFileReader._make_engine\u001b[1;34m(self, engine)\u001b[0m\n\u001b[0;32m   1046\u001b[0m     \u001b[39mraise\u001b[39;00m \u001b[39mValueError\u001b[39;00m(\n\u001b[0;32m   1047\u001b[0m         \u001b[39mf\u001b[39m\u001b[39m\"\u001b[39m\u001b[39mUnknown engine: \u001b[39m\u001b[39m{\u001b[39;00mengine\u001b[39m}\u001b[39;00m\u001b[39m (valid options are \u001b[39m\u001b[39m{\u001b[39;00mmapping\u001b[39m.\u001b[39mkeys()\u001b[39m}\u001b[39;00m\u001b[39m)\u001b[39m\u001b[39m\"\u001b[39m\n\u001b[0;32m   1048\u001b[0m     )\n\u001b[0;32m   1049\u001b[0m \u001b[39m# error: Too many arguments for \"ParserBase\"\u001b[39;00m\n\u001b[1;32m-> 1050\u001b[0m \u001b[39mreturn\u001b[39;00m mapping[engine](\u001b[39mself\u001b[39m\u001b[39m.\u001b[39mf, \u001b[39m*\u001b[39m\u001b[39m*\u001b[39m\u001b[39mself\u001b[39m\u001b[39m.\u001b[39moptions)\n",
            "File \u001b[1;32mc:\\Users\\spval\\AppData\\Local\\Programs\\Python\\Python39\\lib\\site-packages\\pandas\\io\\parsers.py:1867\u001b[0m, in \u001b[0;36mCParserWrapper.__init__\u001b[1;34m(self, src, **kwds)\u001b[0m\n\u001b[0;32m   1864\u001b[0m kwds[\u001b[39m\"\u001b[39m\u001b[39musecols\u001b[39m\u001b[39m\"\u001b[39m] \u001b[39m=\u001b[39m \u001b[39mself\u001b[39m\u001b[39m.\u001b[39musecols\n\u001b[0;32m   1866\u001b[0m \u001b[39m# open handles\u001b[39;00m\n\u001b[1;32m-> 1867\u001b[0m \u001b[39mself\u001b[39;49m\u001b[39m.\u001b[39;49m_open_handles(src, kwds)\n\u001b[0;32m   1868\u001b[0m \u001b[39massert\u001b[39;00m \u001b[39mself\u001b[39m\u001b[39m.\u001b[39mhandles \u001b[39mis\u001b[39;00m \u001b[39mnot\u001b[39;00m \u001b[39mNone\u001b[39;00m\n\u001b[0;32m   1869\u001b[0m \u001b[39mfor\u001b[39;00m key \u001b[39min\u001b[39;00m (\u001b[39m\"\u001b[39m\u001b[39mstorage_options\u001b[39m\u001b[39m\"\u001b[39m, \u001b[39m\"\u001b[39m\u001b[39mencoding\u001b[39m\u001b[39m\"\u001b[39m, \u001b[39m\"\u001b[39m\u001b[39mmemory_map\u001b[39m\u001b[39m\"\u001b[39m, \u001b[39m\"\u001b[39m\u001b[39mcompression\u001b[39m\u001b[39m\"\u001b[39m):\n",
            "File \u001b[1;32mc:\\Users\\spval\\AppData\\Local\\Programs\\Python\\Python39\\lib\\site-packages\\pandas\\io\\parsers.py:1362\u001b[0m, in \u001b[0;36mParserBase._open_handles\u001b[1;34m(self, src, kwds)\u001b[0m\n\u001b[0;32m   1358\u001b[0m \u001b[39mdef\u001b[39;00m \u001b[39m_open_handles\u001b[39m(\u001b[39mself\u001b[39m, src: FilePathOrBuffer, kwds: Dict[\u001b[39mstr\u001b[39m, Any]) \u001b[39m-\u001b[39m\u001b[39m>\u001b[39m \u001b[39mNone\u001b[39;00m:\n\u001b[0;32m   1359\u001b[0m     \u001b[39m\"\"\"\u001b[39;00m\n\u001b[0;32m   1360\u001b[0m \u001b[39m    Let the readers open IOHanldes after they are done with their potential raises.\u001b[39;00m\n\u001b[0;32m   1361\u001b[0m \u001b[39m    \"\"\"\u001b[39;00m\n\u001b[1;32m-> 1362\u001b[0m     \u001b[39mself\u001b[39m\u001b[39m.\u001b[39mhandles \u001b[39m=\u001b[39m get_handle(\n\u001b[0;32m   1363\u001b[0m         src,\n\u001b[0;32m   1364\u001b[0m         \u001b[39m\"\u001b[39;49m\u001b[39mr\u001b[39;49m\u001b[39m\"\u001b[39;49m,\n\u001b[0;32m   1365\u001b[0m         encoding\u001b[39m=\u001b[39;49mkwds\u001b[39m.\u001b[39;49mget(\u001b[39m\"\u001b[39;49m\u001b[39mencoding\u001b[39;49m\u001b[39m\"\u001b[39;49m, \u001b[39mNone\u001b[39;49;00m),\n\u001b[0;32m   1366\u001b[0m         compression\u001b[39m=\u001b[39;49mkwds\u001b[39m.\u001b[39;49mget(\u001b[39m\"\u001b[39;49m\u001b[39mcompression\u001b[39;49m\u001b[39m\"\u001b[39;49m, \u001b[39mNone\u001b[39;49;00m),\n\u001b[0;32m   1367\u001b[0m         memory_map\u001b[39m=\u001b[39;49mkwds\u001b[39m.\u001b[39;49mget(\u001b[39m\"\u001b[39;49m\u001b[39mmemory_map\u001b[39;49m\u001b[39m\"\u001b[39;49m, \u001b[39mFalse\u001b[39;49;00m),\n\u001b[0;32m   1368\u001b[0m         storage_options\u001b[39m=\u001b[39;49mkwds\u001b[39m.\u001b[39;49mget(\u001b[39m\"\u001b[39;49m\u001b[39mstorage_options\u001b[39;49m\u001b[39m\"\u001b[39;49m, \u001b[39mNone\u001b[39;49;00m),\n\u001b[0;32m   1369\u001b[0m     )\n",
            "File \u001b[1;32mc:\\Users\\spval\\AppData\\Local\\Programs\\Python\\Python39\\lib\\site-packages\\pandas\\io\\common.py:642\u001b[0m, in \u001b[0;36mget_handle\u001b[1;34m(path_or_buf, mode, encoding, compression, memory_map, is_text, errors, storage_options)\u001b[0m\n\u001b[0;32m    640\u001b[0m         errors \u001b[39m=\u001b[39m \u001b[39m\"\u001b[39m\u001b[39mreplace\u001b[39m\u001b[39m\"\u001b[39m\n\u001b[0;32m    641\u001b[0m     \u001b[39m# Encoding\u001b[39;00m\n\u001b[1;32m--> 642\u001b[0m     handle \u001b[39m=\u001b[39m \u001b[39mopen\u001b[39;49m(\n\u001b[0;32m    643\u001b[0m         handle,\n\u001b[0;32m    644\u001b[0m         ioargs\u001b[39m.\u001b[39;49mmode,\n\u001b[0;32m    645\u001b[0m         encoding\u001b[39m=\u001b[39;49mioargs\u001b[39m.\u001b[39;49mencoding,\n\u001b[0;32m    646\u001b[0m         errors\u001b[39m=\u001b[39;49merrors,\n\u001b[0;32m    647\u001b[0m         newline\u001b[39m=\u001b[39;49m\u001b[39m\"\u001b[39;49m\u001b[39m\"\u001b[39;49m,\n\u001b[0;32m    648\u001b[0m     )\n\u001b[0;32m    649\u001b[0m \u001b[39melse\u001b[39;00m:\n\u001b[0;32m    650\u001b[0m     \u001b[39m# Binary mode\u001b[39;00m\n\u001b[0;32m    651\u001b[0m     handle \u001b[39m=\u001b[39m \u001b[39mopen\u001b[39m(handle, ioargs\u001b[39m.\u001b[39mmode)\n",
            "\u001b[1;31mFileNotFoundError\u001b[0m: [Errno 2] No such file or directory: '../data/Fantasy-Premier-League/data/2023-24/understat/Joelinton_87.csv'"
          ]
        }
      ],
      "source": [
        "from modules.dataset_initialization import dataset_initialization\n",
        "from modules.ids_formation import ids_formation\n",
        "from modules.players_data import players_data\n",
        "import pandas as pd\n",
        "import pickle\n",
        "\n",
        "PATH = '../data/Fantasy-Premier-League/data/'\n",
        "PATH2 = '../data/FPL-ID-Map/Master.csv'\n",
        "\n",
        "team_stats_dict, fixtures, players_raw, teams, ids, seasons = dataset_initialization(PATH)\n",
        "id_dict_df = ids_formation(PATH, PATH2)\n",
        "#id_dict_df = pd.read_csv(PATH2)\n",
        "#id_dict_df[['19-20','20-21', '21-22', '22-23', 'understat']] = id_dict_df[['19-20','20-21', '21-22', '22-23', 'understat']].fillna(0.0).astype(int)\n",
        "\n",
        "player_info_dict = players_data(id_dict_df, ids, PATH)\n",
        "#with open('./created_datasets/player_info_dict.pkl', 'rb') as f:\n",
        "#    player_info_dict = pickle.load(f)"
      ]
    },
    {
      "attachments": {},
      "cell_type": "markdown",
      "metadata": {},
      "source": [
        "### Non-penalty goals"
      ]
    },
    {
      "cell_type": "code",
      "execution_count": 3,
      "metadata": {},
      "outputs": [
        {
          "name": "stderr",
          "output_type": "stream",
          "text": [
            "100%|██████████| 350/350 [10:01<00:00,  1.72s/it]\n",
            "100%|██████████| 456/456 [14:21<00:00,  1.89s/it]\n",
            "100%|██████████| 540/540 [15:59<00:00,  1.78s/it]\n",
            "100%|██████████| 484/484 [13:38<00:00,  1.69s/it]\n"
          ]
        },
        {
          "name": "stdout",
          "output_type": "stream",
          "text": [
            "Dataset size:  (52049, 16)\n"
          ]
        }
      ],
      "source": [
        "from modules.feature_extraction import npg_dataset_creation\n",
        "\n",
        "# Create the npgoals dataset\n",
        "gw_no_lim = 4\n",
        "npg_dataset = npg_dataset_creation(seasons, players_raw, player_info_dict, teams, team_stats_dict, fixtures, gw_no_lim)\n",
        "npg_dataset.to_csv('./created_datasets/npg_dataset538.csv', index=False)"
      ]
    },
    {
      "cell_type": "code",
      "execution_count": 4,
      "metadata": {},
      "outputs": [
        {
          "data": {
            "text/plain": [
              "(0.77, 2.68)"
            ]
          },
          "execution_count": 4,
          "metadata": {},
          "output_type": "execute_result"
        }
      ],
      "source": [
        "from modules.useful_functions2 import proj_scores, spis\n",
        "\n",
        "proj_scores_df = pd.read_csv('soccer-spi/spi_matches.csv')\n",
        "proj_scores_df = proj_scores_df[proj_scores_df['league_id']==2411]\n",
        "spis(proj_scores_df, 'Arsenal', 'Man City', 2019, False)\n",
        "proj_scores(proj_scores_df, 'Arsenal', 'Man City', 2019, False)"
      ]
    },
    {
      "cell_type": "code",
      "execution_count": 26,
      "metadata": {},
      "outputs": [
        {
          "name": "stdout",
          "output_type": "stream",
          "text": [
            "{'n_estimators': 300, 'max_depth': 2, 'learning_rate': 0.016}\n",
            "Mean Absolute Error = 0.23813054840787692\n",
            "Mean Squared Error = 0.15250297094124468\n",
            "Root Mean Squared Error = 0.39051628767728075\n",
            "r2 = 0.1805206762255135\n",
            "\n",
            "Mean Absolute Error = 0.25208678998093986\n",
            "Mean Squared Error = 0.17933158948325997\n",
            "Root Mean Squared Error = 0.42347560671573514\n",
            "r2 = 0.1206672487222279\n",
            "RMSE scores: [0.44228247 0.44311337 0.36149153 0.3672131  0.40857552]\n",
            "Mean RMSE: 0.40453519854202546\n",
            "Index(['npg_ratel100', 'npxGp90l100', 'sh_ratel100', 'npg_rate', 'npxGp90',\n",
            "       'npxGp90(L4)', 'shp90', 'teamnpxGp90', 'opp_npxGAp90', 'opp_spi_team',\n",
            "       'spi_team', 'minutes', 'was_home', 'npg'],\n",
            "      dtype='object')\n"
          ]
        },
        {
          "data": {
            "image/png": "[encoded data removed]",
            "text/plain": [
              "<Figure size 432x288 with 1 Axes>"
            ]
          },
          "metadata": {
            "needs_background": "light"
          },
          "output_type": "display_data"
        }
      ],
      "source": [
        "from modules.feature_extraction import npg_dataset_creation\n",
        "\n",
        "# Create the npgoals dataset\n",
        "gw_no_lim = 4\n",
        "#npg_dataset = npg_dataset_creation(seasons, players_raw, player_info_dict, teams, team_stats_dict, fixtures, gw_no_lim)\n",
        "#npg_dataset.to_csv('./created_datasets/npg_dataset538.csv', index=False)\n",
        "\n",
        "from modules.model_creation import model_creation\n",
        "import pandas as pd\n",
        "\n",
        "#Get the dataset \n",
        "npg_dataset = pd.read_csv('./created_datasets/npg_dataset538.csv')\n",
        "npg_dataset = npg_dataset.drop(['proj_goals', 'opp_proj_goals'], axis=1)\n",
        "npg_dataset = npg_dataset[npg_dataset['npxGp90']>0.3]\n",
        "npg_dataset = npg_dataset.dropna()\n",
        "xgb_model = model_creation(npg_dataset, 13, 'xgb', [300,400,600,800], [2,3,4], [0.01, 0.012, 0.014, 0.016])"
      ]
    },
    {
      "cell_type": "code",
      "execution_count": 5,
      "metadata": {},
      "outputs": [],
      "source": [
        "import pickle\n",
        "\n",
        "filename = './models/npgoals_xgb_model6.sav'\n",
        "model5 = pickle.load(open(filename, 'rb'))"
      ]
    },
    {
      "cell_type": "code",
      "execution_count": 35,
      "metadata": {},
      "outputs": [
        {
          "name": "stdout",
          "output_type": "stream",
          "text": [
            "Haaland\n",
            "[0.5374316]\n",
            "[0.64694875]\n",
            "\n",
            "Salah\n",
            "[0.5802085]\n",
            "[0.46259013]\n"
          ]
        }
      ],
      "source": [
        "npg_ratel100 = 0.9\n",
        "npxGp90l100 = 0.88\n",
        "sh_ratel100 = 3.61\n",
        "npg_rate = 0.95\n",
        "npxGp90 = 0.85\n",
        "npxGp90l4 = 0.83\n",
        "shp90 = 3.73 \n",
        "teamnpxGp90 = 2.1\n",
        "opp_npxGAp90 = 1\n",
        "spi_opp = 65\n",
        "spi = 90\n",
        "minutes = 77\n",
        "was_home = True\n",
        "\n",
        "npg_ratel1002 = 0.63 \n",
        "npxGp90l1002 = 0.62\n",
        "sh_ratel1002 = 3.61\n",
        "npg_rate2 = 0.45\n",
        "npxGp902 = 0.53\n",
        "npxGp90l42 = 0.55\n",
        "shp902 = 3.14 \n",
        "teamnpxGp902 = 2\n",
        "opp_npxGAp902 = 1\n",
        "spi_opp2 = 65\n",
        "spi2 = 85\n",
        "minutes2 = 84 \n",
        "was_home2 = True\n",
        "\n",
        "print('Haaland')\n",
        "#print(xgb_model2.predict([[npg_ratel100, npxGp90l100, sh_ratel100, npg_rate, npxGp90, npxGp90l4, shp90, teamnpxGp90, opp_npxGAp90, minutes, was_home]]))\n",
        "#print(xgb_model3.predict([[npg_ratel100, npxGp90l100, sh_ratel100, npg_rate, npxGp90, npxGp90l4, shp90, teamnpxGp90, opp_npxGAp90, minutes, was_home]]))\n",
        "print(model5.predict([[npg_ratel100, npxGp90l100, sh_ratel100, npg_rate, npxGp90, npxGp90l4, shp90, teamnpxGp90, opp_npxGAp90, spi_opp, spi, minutes, was_home]]))\n",
        "#print(model4.predict([[npg_ratel100, npxGp90l100, sh_ratel100, npg_rate, npxGp90, npxGp90l4, shp90, teamnpxGp90, opp_npxGAp90, spi_opp, spi, minutes, was_home]]))\n",
        "print(xgb_model.predict([[npg_ratel100, npxGp90l100, sh_ratel100, npg_rate, npxGp90, npxGp90l4, shp90, teamnpxGp90, opp_npxGAp90, spi_opp, spi, minutes, was_home]]))\n",
        "#print(xgb_model2.predict([[npg_rate, npxGp90, npxGp90l4, shp90, teamnpxGp90, opp_npxGAp90, minutes, was_home]]))\n",
        "print()\n",
        "print('Salah')\n",
        "#print(xgb_model2.predict([[npg_ratel1002, npxGp90l1002, sh_ratel1002, npg_rate2, npxGp902, npxGp90l42, shp902, teamnpxGp902, opp_npxGAp902, minutes2, was_home2]]))\n",
        "#print(xgb_model3.predict([[npg_ratel1002, npxGp90l1002, sh_ratel1002, npg_rate2, npxGp902, npxGp90l42, shp902, teamnpxGp902, opp_npxGAp902, minutes2, was_home2]]))\n",
        "print(model5.predict([[npg_ratel1002, npxGp90l1002, sh_ratel1002, npg_rate2, npxGp902, npxGp90l42, shp902, teamnpxGp902, opp_npxGAp902, spi_opp2, spi2, minutes2, was_home2]]))\n",
        "#print(model4.predict([[npg_ratel1002, npxGp90l1002, sh_ratel1002, npg_rate2, npxGp902, npxGp90l42, shp902, teamnpxGp902, opp_npxGAp902, spi_opp2, spi2, minutes2, was_home2]]))\n",
        "print(xgb_model.predict([[npg_ratel1002, npxGp90l1002, sh_ratel1002, npg_rate2, npxGp902, npxGp90l42, shp902, teamnpxGp902, opp_npxGAp902, spi_opp2, spi2, minutes2, was_home2]]))\n",
        "#print(xgb_model2.predict([[npg_rate2, npxGp902, npxGp90l42, shp902, teamnpxGp902, opp_npxGAp902, minutes2, was_home2]]))"
      ]
    },
    {
      "cell_type": "code",
      "execution_count": 19,
      "metadata": {},
      "outputs": [],
      "source": [
        "import pickle\n",
        "\n",
        "filename = './models/npgoals_xgb_model7.sav'\n",
        "pickle.dump(xgb_model, open(filename, 'wb'))"
      ]
    },
    {
      "attachments": {},
      "cell_type": "markdown",
      "metadata": {},
      "source": [
        "### Penalties"
      ]
    },
    {
      "cell_type": "code",
      "execution_count": 10,
      "metadata": {},
      "outputs": [
        {
          "name": "stderr",
          "output_type": "stream",
          "text": [
            "100%|██████████| 20/20 [02:39<00:00,  7.97s/it]\n",
            "100%|██████████| 20/20 [02:37<00:00,  7.86s/it]\n",
            "100%|██████████| 20/20 [02:37<00:00,  7.87s/it]\n",
            "100%|██████████| 20/20 [01:43<00:00,  5.20s/it]\n"
          ]
        },
        {
          "name": "stdout",
          "output_type": "stream",
          "text": [
            "{'n_estimators': 500, 'max_depth': 2, 'learning_rate': 0.01}\n",
            "Mean Absolute Error = 0.2069426461293479\n",
            "Mean Squared Error = 0.11125139141524461\n",
            "Root Mean Squared Error = 0.33354368741627327\n",
            "r2 = 0.09553453530668987\n",
            "\n",
            "Mean Absolute Error = 0.23361464172880025\n",
            "Mean Squared Error = 0.137046950526048\n",
            "Root Mean Squared Error = 0.3701985285303657\n",
            "r2 = 0.009951001625142508\n",
            "RMSE scores: [0.36048403 0.40483231 0.38454993 0.38363854 0.30697454]\n",
            "Mean RMSE: 0.3680958704213359\n",
            "Index(['team_npxG', 'oppteam_npxGA', 'was_home', 'pen_rate', 'proj_goals',\n",
            "       'spi_team', 'spi_opp_team', 'team_npxGp90(L4)', 'oppteam_npxGAp90(L4)',\n",
            "       'team_pens'],\n",
            "      dtype='object')\n"
          ]
        },
        {
          "data": {
            "image/png": "[encoded data removed]",
            "text/plain": [
              "<Figure size 432x288 with 1 Axes>"
            ]
          },
          "metadata": {
            "needs_background": "light"
          },
          "output_type": "display_data"
        }
      ],
      "source": [
        "from modules.feature_extraction import penalties_dataset_creation\n",
        "from modules.model_creation import model_creation\n",
        "import pandas as pd\n",
        "\n",
        "gw_no_limit = 4\n",
        "pens_dataset = penalties_dataset_creation(seasons, fixtures, teams, team_stats_dict, gw_no_limit)\n",
        "pens_dataset.to_csv('./created_datasets/pens_dataset538.csv', index=False)\n",
        "\n",
        "#Get the dataset\n",
        "pens_dataset = pd.read_csv('./created_datasets/pens_dataset538.csv')\n",
        "#pens_dataset = pens_dataset.drop('pen_rate', axis=1)\n",
        "pens_xgb_model2 = model_creation(pens_dataset, 9, 'xgb', [300, 400, 500, 600], [2,3,4])"
      ]
    },
    {
      "cell_type": "code",
      "execution_count": 87,
      "metadata": {
        "colab": {
          "base_uri": "https://localhost:8080/",
          "height": 311
        },
        "id": "ob0RJNkOFcm8",
        "outputId": "000df613-2ae1-4b1d-c9cc-d722a45c2375"
      },
      "outputs": [],
      "source": [
        "import pickle\n",
        "\n",
        "filename = './models/pens_xgb_model.sav'\n",
        "pickle.dump(pens_xgb_model1, open(filename, 'wb'))"
      ]
    },
    {
      "cell_type": "code",
      "execution_count": 11,
      "metadata": {},
      "outputs": [],
      "source": [
        "filename = './models/pens_xgb_model.sav'\n",
        "pens = pickle.load(open(filename, 'rb'))"
      ]
    },
    {
      "cell_type": "code",
      "execution_count": 24,
      "metadata": {},
      "outputs": [
        {
          "name": "stdout",
          "output_type": "stream",
          "text": [
            "[0.22384809]\n",
            "[0.15933712]\n"
          ]
        }
      ],
      "source": [
        "team_npxG = 2.1\n",
        "oppteam_npxGA = 1.8\n",
        "was_home = True \n",
        "pen_rate = 0.35\n",
        "proj_goals = 2.2\n",
        "spi_team = 90\n",
        "spi_opp_team = 55\n",
        "team_npxGp90l4 = 2.1\n",
        "oppteam_npxGAp90l4 = 1.9\n",
        "\n",
        "#print(pens_xgb_model.predict([[team_npxG, oppteam_npxGA, was_home, pen_rate, proj_goals, team_npxGp90l4, oppteam_npxGAp90l4]]))\n",
        "print(pens.predict([[team_npxG, oppteam_npxGA, was_home, pen_rate, proj_goals, team_npxGp90l4, oppteam_npxGAp90l4]]))\n",
        "print(pens_xgb_model2.predict([[team_npxG, oppteam_npxGA, was_home, pen_rate, proj_goals, spi_team, spi_opp_team, team_npxGp90l4, oppteam_npxGAp90l4]]))\n",
        "#print(pens_xgb_model1.predict([[team_npxG, oppteam_npxGA, was_home, pen_rate, proj_goals, team_npxGp90l4, oppteam_npxGAp90l4]]))"
      ]
    },
    {
      "cell_type": "code",
      "execution_count": 88,
      "metadata": {},
      "outputs": [
        {
          "data": {
            "text/plain": [
              "{'Arsenal': [(13, 1)],\n",
              " 'Aston Villa': [(40, 0.4)],\n",
              " 'Brentford': [(80, 1), (95, 0)],\n",
              " 'Brighton': [(116, 0.98), (104, 0.02)],\n",
              " 'Bournemouth': [(105, 1)],\n",
              " 'Chelsea': [(130, 1), (142, 0)],\n",
              " 'Crystal Palace': [(160, 1), (166, 0)],\n",
              " 'Everton': [(191, 1)],\n",
              " 'Leeds': [(227, 0), (225, 1)],\n",
              " 'Leicester': [(255, 0.5), (259, 0.4), (261, 0.1)],\n",
              " 'Liverpool': [(283, 1), (282, 0)],\n",
              " 'Man City': [(318, 1), (303, 0)],\n",
              " 'Man Utd': [(335, 0.75), (333, 0.25)],\n",
              " 'Newcastle': [(356, 1), (354, 0)],\n",
              " \"Nott'm Forest\": [(315, 1)],\n",
              " 'Southampton': [(407, 1)],\n",
              " 'Spurs': [(427, 1), (428, 0)],\n",
              " 'Fulham': [(210, 1), (346, 0)],\n",
              " 'West Ham': [(464, 0.9), (465, 0.1)],\n",
              " 'Wolves': [(476, 0.8), (480, 0.2)]}"
            ]
          },
          "execution_count": 88,
          "metadata": {},
          "output_type": "execute_result"
        }
      ],
      "source": [
        "from modules.useful_functions import xpens_2022\n",
        "\n",
        "xpens_2022 "
      ]
    },
    {
      "cell_type": "code",
      "execution_count": 2,
      "metadata": {},
      "outputs": [
        {
          "data": {
            "text/plain": [
              "[(318, 1), (303, 0)]"
            ]
          },
          "execution_count": 2,
          "metadata": {},
          "output_type": "execute_result"
        }
      ],
      "source": [
        "xpens_2022['Man City']"
      ]
    },
    {
      "attachments": {},
      "cell_type": "markdown",
      "metadata": {},
      "source": [
        "### Assists"
      ]
    },
    {
      "cell_type": "code",
      "execution_count": 44,
      "metadata": {},
      "outputs": [
        {
          "name": "stderr",
          "output_type": "stream",
          "text": [
            "100%|██████████| 350/350 [12:05<00:00,  2.07s/it]\n",
            "100%|██████████| 456/456 [14:19<00:00,  1.88s/it]\n",
            "100%|██████████| 540/540 [18:30<00:00,  2.06s/it]  \n",
            "100%|██████████| 426/426 [04:42<00:00,  1.51it/s]\n"
          ]
        },
        {
          "name": "stdout",
          "output_type": "stream",
          "text": [
            "Dataset size:  (47783, 14)\n"
          ]
        }
      ],
      "source": [
        "from modules.feature_extraction import assists_dataset_creation\n",
        "\n",
        "gw_no_lim = 4\n",
        "#assists_dataset = assists_dataset_creation(seasons, player_info_dict, teams, players_raw, team_stats_dict, fixtures, gw_no_lim)\n",
        "#assists_dataset.to_csv('./created_datasets/assists_dataset.csv', index=False)"
      ]
    },
    {
      "cell_type": "code",
      "execution_count": 25,
      "metadata": {},
      "outputs": [
        {
          "name": "stderr",
          "output_type": "stream",
          "text": [
            "100%|██████████| 350/350 [11:20<00:00,  1.95s/it]\n",
            "100%|██████████| 456/456 [16:59<00:00,  2.24s/it]\n",
            "100%|██████████| 540/540 [15:43<00:00,  1.75s/it]\n",
            "100%|██████████| 433/433 [07:20<00:00,  1.02s/it]\n"
          ]
        },
        {
          "name": "stdout",
          "output_type": "stream",
          "text": [
            "Dataset size:  (51554, 15)\n"
          ]
        }
      ],
      "source": [
        "from modules.feature_extraction import assists_dataset_creation\n",
        "\n",
        "gw_no_lim = 4\n",
        "assists_dataset = assists_dataset_creation(seasons, player_info_dict, teams, players_raw, team_stats_dict, fixtures, gw_no_lim)\n",
        "assists_dataset.to_csv('./created_datasets/assists_dataset538.csv', index=False)"
      ]
    },
    {
      "cell_type": "code",
      "execution_count": 46,
      "metadata": {},
      "outputs": [
        {
          "name": "stdout",
          "output_type": "stream",
          "text": [
            "{'n_estimators': 600, 'max_depth': 3, 'learning_rate': 0.014}\n",
            "Mean Absolute Error = 0.09615219910603438\n",
            "Mean Squared Error = 0.05537788770965064\n",
            "Root Mean Squared Error = 0.2353250681709253\n",
            "r2 = 0.11350266494397343\n",
            "\n",
            "Mean Absolute Error = 0.10008243871548374\n",
            "Mean Squared Error = 0.05847443780136633\n",
            "Root Mean Squared Error = 0.2418148833330288\n",
            "r2 = 0.08964261882131741\n",
            "RMSE scores: [0.25365492 0.24487537 0.23081092 0.23928428 0.23241326]\n",
            "Mean RMSE: 0.24020774804319772\n",
            "Index(['assist_ratel100', 'xAp90l100', 'kp_ratel100', 'assist_rate', 'xAp90',\n",
            "       'xAp90(L4)', 'kpp90', 'teamnpxGp90', 'opp_npxGp90', 'spi_opp_team',\n",
            "       'opp_npxGAp90', 'spi_team', 'minutes', 'was_home', 'assists'],\n",
            "      dtype='object')\n"
          ]
        },
        {
          "data": {
            "image/png": "[encoded data removed]",
            "text/plain": [
              "<Figure size 432x288 with 1 Axes>"
            ]
          },
          "metadata": {},
          "output_type": "display_data"
        }
      ],
      "source": [
        "from modules.model_creation import model_creation\n",
        "import pandas as pd\n",
        "\n",
        "#Get the dataset\n",
        "assists_dataset = pd.read_csv('./created_datasets/assists_dataset538.csv')\n",
        "assists_dataset = assists_dataset[['assist_ratel100', 'xAp90l100', 'kp_ratel100', 'assist_rate', 'xAp90',\n",
        "       'xAp90(L4)', 'kpp90', 'teamnpxGp90', 'opp_npxGp90', 'spi_opp_team',\n",
        "       'opp_npxGAp90', 'spi_team', 'minutes', 'was_home', 'assists']]\n",
        "axgb_model1 = model_creation(assists_dataset, 14, 'xgb', [200,300,400,600], [3,4,5,6], [0.01, 0.012, 0.014, 0.016])"
      ]
    },
    {
      "cell_type": "code",
      "execution_count": 28,
      "metadata": {},
      "outputs": [
        {
          "name": "stdout",
          "output_type": "stream",
          "text": [
            "Bruno\n",
            "[0.2823267]\n",
            "\n",
            "KDB\n",
            "[0.47451156]\n"
          ]
        }
      ],
      "source": [
        "assist_ratel100 = 0.24 \n",
        "xAp90l100 = 0.23\n",
        "kp_ratel100 = 2.6\n",
        "assist_rate = 0.21\n",
        "xAp90 = 0.38\n",
        "xAp90l4 = 0.4\n",
        "kpp90 = 2.62 \n",
        "spi_team = 85\n",
        "spi_opp = 60\n",
        "teamnpxGp90 = 1.8\n",
        "opp_npxGp90 = 1\n",
        "opp_npxGAp90 = 1.7\n",
        "minutes = 84 \n",
        "was_home = True\n",
        "\n",
        "assist_ratel1002 = 0.42\n",
        "xAp90l1002 = 0.57\n",
        "kp_ratel1002 = 3.6\n",
        "assist_rate2 = 0.58\n",
        "xAp902 = 0.59\n",
        "xAp90l42 = 0.65\n",
        "kpp902 = 3.52 \n",
        "spi_team2 = 90\n",
        "spi_opp2 = 60\n",
        "teamnpxGp902 = 2.1\n",
        "opp_npxGp902 = 1\n",
        "opp_npxGAp902 = 1.65\n",
        "minutes2 = 70\n",
        "was_home2 = False\n",
        "\n",
        "print('Bruno')\n",
        "#print(assists2.predict([[assist_ratel100, xAp90l100, kp_ratel100, assist_rate, xAp90, xAp90l4, kpp90, teamnpxGp90, opp_npxGp90, opp_npxGAp90, minutes, was_home]]))\n",
        "#print(assists.predict([[xAp90, xAp90l4, kpp90, teamnpxGp90, opp_npxGp90, opp_npxGAp90, minutes, was_home]]))\n",
        "print(axgb_model1.predict([[assist_ratel100, xAp90l100, kp_ratel100, assist_rate, xAp90, xAp90l4, kpp90, teamnpxGp90, opp_npxGp90, spi_opp, opp_npxGAp90, spi_team, minutes, was_home]]))\n",
        "#print(axgb_model6.predict([[assist_ratel100, xAp90l100, kp_ratel100, assist_rate, xAp90, xAp90l4, kpp90, teamnpxGp90, opp_npxGp90, opp_npxGAp90, minutes, was_home]]))\n",
        "#print(assists2.predict([[assist_ratel100, xAp90l100, kp_ratel100, assist_rate, xAp90, xAp90l4, kpp90, teamnpxGp90, opp_npxGp90, opp_npxGAp90, minutes, was_home]]))\n",
        "print()\n",
        "print('KDB')\n",
        "#print(assists2.predict([[assist_ratel1002, xAp90l1002, kp_ratel1002, assist_rate2, xAp902, xAp90l42, kpp902, teamnpxGp902, opp_npxGp902, opp_npxGAp902, minutes2, was_home2]]))\n",
        "#print(assists.predict([[xAp902, xAp90l42, kpp902, teamnpxGp902, opp_npxGp902, opp_npxGAp902, minutes2, was_home2]]))\n",
        "print(axgb_model1.predict([[assist_ratel1002, xAp90l1002, kp_ratel1002, assist_rate2, xAp902, xAp90l42, kpp902, teamnpxGp902, opp_npxGp902, spi_opp2, opp_npxGAp902, spi_team2, minutes2, was_home2]]))\n",
        "#print(axgb_model6.predict([[assist_ratel1002, xAp90l1002, kp_ratel1002, assist_rate2, xAp902, xAp90l42, kpp902, teamnpxGp902, opp_npxGp902, opp_npxGAp902, minutes2, was_home2]]))\n",
        "#print(assists2.predict([[assist_ratel1002, xAp90l1002, kp_ratel1002, assist_rate2, xAp902, xAp90l42, kpp902, teamnpxGp902, opp_npxGp902, opp_npxGAp902, minutes2, was_home2]]))\n"
      ]
    },
    {
      "cell_type": "code",
      "execution_count": 77,
      "metadata": {},
      "outputs": [
        {
          "name": "stdout",
          "output_type": "stream",
          "text": [
            "TAA\n",
            "[0.32780632]\n",
            "[0.21941015]\n",
            "[0.36353144]\n",
            "\n",
            "Trippier\n",
            "[0.23753595]\n",
            "[0.31681734]\n",
            "[0.22469221]\n"
          ]
        }
      ],
      "source": [
        "assist_ratel100 = 0.25\n",
        "xAp90l100 = 0.32\n",
        "kp_ratel100 = 2.4\n",
        "assist_rate = 0.06\n",
        "xAp90 = 0.33\n",
        "xAp90l4 = 0.33\n",
        "kpp90 = 2.16 \n",
        "teamnpxGp90 = 2\n",
        "opp_npxGp90 = 1\n",
        "opp_npxGAp90 = 1.8\n",
        "minutes = 81 \n",
        "was_home = True\n",
        "\n",
        "assist_ratel1002 = 0.14\n",
        "xAp90l1002 = 0.26\n",
        "kp_ratel1002 = 2.1\n",
        "assist_rate2 = 0.2\n",
        "xAp902 = 0.39\n",
        "xAp90l42 = 0.39\n",
        "kpp902 = 2.97 \n",
        "teamnpxGp902 = 1.8\n",
        "opp_npxGp902 = 1.8\n",
        "opp_npxGAp902 = 0.8\n",
        "minutes2 = 84 \n",
        "was_home2 = True\n",
        "\n",
        "print('TAA')\n",
        "print(axgb_model1.predict([[assist_ratel100, xAp90l100, kp_ratel100, assist_rate, xAp90, xAp90l4, kpp90, teamnpxGp90, opp_npxGp90, opp_npxGAp90, minutes, was_home]]))\n",
        "print(assists.predict([[xAp90, xAp90l4, kpp90, teamnpxGp90, opp_npxGp90, opp_npxGAp90, minutes, was_home]]))\n",
        "print(assists2.predict([[assist_ratel100, xAp90l100, kp_ratel100, assist_rate, xAp90, xAp90l4, kpp90, teamnpxGp90, opp_npxGp90, opp_npxGAp90, minutes, was_home]]))\n",
        "#print(axgb_model6.predict([[assist_ratel100, xAp90l100, kp_ratel100, assist_rate, xAp90, xAp90l4, kpp90, teamnpxGp90, opp_npxGp90, opp_npxGAp90, minutes, was_home]]))\n",
        "#print(assists2.predict([[assist_ratel100, xAp90l100, kp_ratel100, assist_rate, xAp90, xAp90l4, kpp90, teamnpxGp90, opp_npxGp90, opp_npxGAp90, minutes, was_home]]))\n",
        "print()\n",
        "print('Trippier')\n",
        "print(axgb_model1.predict([[assist_ratel1002, xAp90l1002, kp_ratel1002, assist_rate2, xAp902, xAp90l42, kpp902, teamnpxGp902, opp_npxGp902, opp_npxGAp902, minutes2, was_home2]]))\n",
        "print(assists.predict([[ xAp902, xAp90l42, kpp902, teamnpxGp902, opp_npxGp902, opp_npxGAp902, minutes2, was_home2]]))\n",
        "print(assists2.predict([[assist_ratel1002, xAp90l1002, kp_ratel1002, assist_rate2, xAp902, xAp90l42, kpp902, teamnpxGp902, opp_npxGp902, opp_npxGAp902, minutes2, was_home2]]))\n",
        "#print(axgb_model6.predict([[assist_ratel1002, xAp90l1002, kp_ratel1002, assist_rate2, xAp902, xAp90l42, kpp902, teamnpxGp902, opp_npxGp902, opp_npxGAp902, minutes2, was_home2]]))\n",
        "#print(assists2.predict([[assist_ratel1002, xAp90l1002, kp_ratel1002, assist_rate2, xAp902, xAp90l42, kpp902, teamnpxGp902, opp_npxGp902, opp_npxGAp902, minutes2, was_home2]]))\n"
      ]
    },
    {
      "cell_type": "code",
      "execution_count": 29,
      "metadata": {},
      "outputs": [],
      "source": [
        "import pickle\n",
        "\n",
        "filename = './models/assists_xgb_model3.sav'\n",
        "pickle.dump(axgb_model1, open(filename, 'wb'))"
      ]
    },
    {
      "attachments": {},
      "cell_type": "markdown",
      "metadata": {},
      "source": [
        "### Team goals"
      ]
    },
    {
      "cell_type": "code",
      "execution_count": 2,
      "metadata": {},
      "outputs": [],
      "source": [
        "from modules.feature_extraction import team_goals_dataset_creation\n",
        "\n",
        "gw_no_lim = 4\n",
        "team_goals_dataset = team_goals_dataset_creation(seasons, fixtures, teams, team_stats_dict, gw_no_lim)\n",
        "team_goals_dataset.to_csv('./created_datasets/team_goals_dataset.csv', index=False)"
      ]
    },
    {
      "cell_type": "code",
      "execution_count": 11,
      "metadata": {},
      "outputs": [
        {
          "name": "stdout",
          "output_type": "stream",
          "text": [
            "{'n_estimators': 400, 'max_depth': 4}\n",
            "Mean Absolute Error = 0.877909524441294\n",
            "Mean Squared Error = 1.2839078805009725\n",
            "Root Mean Squared Error = 1.1330965892195477\n",
            "r2 = 0.19825278365747656\n",
            "\n",
            "Mean Absolute Error = 0.9544495124937843\n",
            "Mean Squared Error = 1.4948952007630927\n",
            "Root Mean Squared Error = 1.2226590697177577\n",
            "r2 = 0.08783561345745416\n",
            "Index(['team1_npxG', 'team2_npxGA', 'was_home', 'team1_npxGp90(L4)',\n",
            "       'team2_npxGAp90(L4)', 'team1_goals'],\n",
            "      dtype='object')\n"
          ]
        },
        {
          "data": {
            "image/png": "[encoded data removed]",
            "text/plain": [
              "<Figure size 432x288 with 1 Axes>"
            ]
          },
          "metadata": {
            "needs_background": "light"
          },
          "output_type": "display_data"
        }
      ],
      "source": [
        "from modules.model_creation import model_creation\n",
        "import pandas as pd\n",
        "\n",
        "#Get the dataset\n",
        "team_goals_dataset = pd.read_csv('./created_datasets/team_goals_dataset.csv')\n",
        "team_goals_xgb_model = model_creation(team_goals_dataset, 5, 'xgb', [300,400,500,600], [2,3,4], [0.008, 0.01, 0.012])"
      ]
    },
    {
      "cell_type": "code",
      "execution_count": 28,
      "metadata": {},
      "outputs": [],
      "source": [
        "import pickle\n",
        "\n",
        "filename = './models/team_goals_xgb_model.sav'\n",
        "pickle.dump(team_goals_xgb_model, open(filename, 'wb'))"
      ]
    },
    {
      "attachments": {},
      "cell_type": "markdown",
      "metadata": {},
      "source": [
        "### Bonus"
      ]
    },
    {
      "cell_type": "code",
      "execution_count": 3,
      "metadata": {},
      "outputs": [
        {
          "name": "stderr",
          "output_type": "stream",
          "text": [
            "100%|██████████| 350/350 [07:56<00:00,  1.36s/it]\n",
            "100%|██████████| 456/456 [10:13<00:00,  1.34s/it]\n",
            "100%|██████████| 540/540 [11:36<00:00,  1.29s/it]\n",
            "100%|██████████| 430/430 [04:06<00:00,  1.74it/s]\n"
          ]
        }
      ],
      "source": [
        "from modules.feature_extraction import bps_dataset_creation\n",
        "\n",
        "gw_no_lim = 4\n",
        "bps_dataset = bps_dataset_creation(seasons, player_info_dict, teams, players_raw, team_stats_dict, fixtures, gw_no_lim)\n",
        "bps_dataset.to_csv('./created_datasets/bps_dataset.csv', index=False)"
      ]
    },
    {
      "cell_type": "code",
      "execution_count": 26,
      "metadata": {},
      "outputs": [
        {
          "name": "stdout",
          "output_type": "stream",
          "text": [
            "{'n_estimators': 500, 'max_depth': 3, 'learning_rate': 0.01}\n",
            "Mean Absolute Error = 0.24864321314128135\n",
            "Mean Squared Error = 0.2903319314110684\n",
            "Root Mean Squared Error = 0.5388245831539875\n",
            "r2 = 0.15096917214266214\n",
            "\n",
            "Mean Absolute Error = 0.24567517831132055\n",
            "Mean Squared Error = 0.28618606317229567\n",
            "Root Mean Squared Error = 0.5349636092037435\n",
            "r2 = 0.13240082089787253\n",
            "Index(['bonusp90', 'position', 'npxGp90', 'xAp90', 'npxGAp90', 'opp_npxGp90',\n",
            "       'opp_npxGAp90', 'minutes', 'was_home', 'bonus'],\n",
            "      dtype='object')\n"
          ]
        },
        {
          "data": {
            "image/png": "[encoded data removed]",
            "text/plain": [
              "<Figure size 432x288 with 1 Axes>"
            ]
          },
          "metadata": {
            "needs_background": "light"
          },
          "output_type": "display_data"
        }
      ],
      "source": [
        "from modules.model_creation import model_creation\n",
        "import pandas as pd\n",
        "\n",
        "#Get the dataset\n",
        "bps_dataset = pd.read_csv('./created_datasets/bps_dataset.csv')\n",
        "bps_xgb_model2 = model_creation(bps_dataset, 9, 'xgb', [400,500,600,700], [3,4,5,6], [0.008, 0.01, 0.012])"
      ]
    },
    {
      "cell_type": "code",
      "execution_count": 64,
      "metadata": {},
      "outputs": [],
      "source": [
        "import pickle\n",
        "\n",
        "filename = './models/bps_xgb_model.sav'\n",
        "pickle.dump(bps_xgb_model2, open(filename, 'wb'))"
      ]
    },
    {
      "cell_type": "code",
      "execution_count": 62,
      "metadata": {
        "colab": {
          "base_uri": "https://localhost:8080/"
        },
        "id": "GwmpEodaEJxq",
        "outputId": "1161fea8-90f0-4132-d11f-4cf51d5c18ff"
      },
      "outputs": [
        {
          "name": "stdout",
          "output_type": "stream",
          "text": [
            "[0.5506361]\n",
            "[0.7412933]\n",
            "[0.79441285]\n"
          ]
        }
      ],
      "source": [
        "bonusp90 = 0.75\n",
        "position = 3\n",
        "npxGp90 = 0.17\n",
        "xAp90 = 0.59 \n",
        "npxGAp90 = 0.8 \n",
        "opp_npxGp90 = 1.2\n",
        "opp_npxGAp90 = 1.4 \n",
        "minutes = 79\n",
        "was_home = True\n",
        "\n",
        "print(bps_xgb_model.predict([[bonusp90,position,npxGp90,xAp90,npxGAp90,opp_npxGp90,opp_npxGAp90,minutes,was_home]]))\n",
        "print(bps_xgb_model1.predict([[bonusp90,position,npxGp90,xAp90,npxGAp90,opp_npxGp90,opp_npxGAp90,minutes,was_home]]))\n",
        "print(bps_xgb_model2.predict([[bonusp90,position,npxGp90,xAp90,npxGAp90,opp_npxGp90,opp_npxGAp90,minutes,was_home]]))"
      ]
    },
    {
      "attachments": {},
      "cell_type": "markdown",
      "metadata": {},
      "source": [
        "### Saves"
      ]
    },
    {
      "cell_type": "code",
      "execution_count": 3,
      "metadata": {},
      "outputs": [
        {
          "name": "stderr",
          "output_type": "stream",
          "text": [
            "100%|██████████| 350/350 [04:50<00:00,  1.20it/s]\n",
            "100%|██████████| 456/456 [05:56<00:00,  1.28it/s]\n",
            "100%|██████████| 540/540 [06:43<00:00,  1.34it/s]\n",
            "100%|██████████| 430/430 [01:59<00:00,  3.59it/s]\n"
          ]
        }
      ],
      "source": [
        "from modules.feature_extraction import saves_dataset_creation\n",
        "\n",
        "gw_no_lim = 4\n",
        "saves_dataset = saves_dataset_creation(seasons, player_info_dict, players_raw, teams, team_stats_dict, fixtures, gw_no_lim)\n",
        "saves_dataset.to_csv('./created_datasets/saves_dataset.csv', index=False)"
      ]
    },
    {
      "cell_type": "code",
      "execution_count": 9,
      "metadata": {},
      "outputs": [
        {
          "name": "stdout",
          "output_type": "stream",
          "text": [
            "{'n_estimators': 700, 'max_depth': 2, 'learning_rate': 0.01}\n",
            "Mean Absolute Error = 0.8319897286418387\n",
            "Mean Squared Error = 1.8137962414026567\n",
            "Root Mean Squared Error = 1.3467725277130718\n",
            "r2 = 0.5823438862951176\n",
            "\n",
            "Mean Absolute Error = 0.8701776131326193\n",
            "Mean Squared Error = 1.9158874663350323\n",
            "Root Mean Squared Error = 1.384155867789113\n",
            "r2 = 0.5440027292501437\n",
            "Index(['savesp90', 'opp_proj_goals', 'npxGAp90', 'opp_npxGp90', 'npxGAp90(L4)',\n",
            "       'opp_npxGp90(L4)', 'minutes', 'was_home', 'saves'],\n",
            "      dtype='object')\n"
          ]
        },
        {
          "data": {
            "image/png": "[encoded data removed]",
            "text/plain": [
              "<Figure size 432x288 with 1 Axes>"
            ]
          },
          "metadata": {
            "needs_background": "light"
          },
          "output_type": "display_data"
        }
      ],
      "source": [
        "from modules.model_creation import model_creation\n",
        "import pandas as pd\n",
        "\n",
        "#Get the dataset\n",
        "saves_dataset = pd.read_csv('./created_datasets/saves_dataset.csv')\n",
        "saves_xgb_model4 = model_creation(saves_dataset, 8, 'xgb', [700], [2,3,4,5], [0.008, 0.01, 0.012, 0.014])"
      ]
    },
    {
      "cell_type": "code",
      "execution_count": 26,
      "metadata": {},
      "outputs": [],
      "source": [
        "import pickle\n",
        "\n",
        "filename = './models/saves_xgb_model.sav'\n",
        "pickle.dump(saves_xgb_model3, open(filename, 'wb'))"
      ]
    },
    {
      "cell_type": "code",
      "execution_count": 25,
      "metadata": {},
      "outputs": [
        {
          "data": {
            "text/plain": [
              "-6.025343698222532e-05"
            ]
          },
          "execution_count": 25,
          "metadata": {},
          "output_type": "execute_result"
        }
      ],
      "source": [
        "from modules.useful_functions import save_points\n",
        "save_points(-0.07)"
      ]
    },
    {
      "cell_type": "code",
      "execution_count": 24,
      "metadata": {
        "colab": {
          "base_uri": "https://localhost:8080/"
        },
        "id": "1kyfJa8s5xG4",
        "outputId": "6ea8c09a-b248-4678-cb1b-b34e024de9be"
      },
      "outputs": [
        {
          "name": "stdout",
          "output_type": "stream",
          "text": [
            "[-0.07073015]\n",
            "[-0.03735984]\n",
            "[-0.11968241]\n",
            "[-0.07841796]\n",
            "[-0.02939505]\n"
          ]
        }
      ],
      "source": [
        "spg = 1.5\n",
        "opp_proj_goals = 0.55\n",
        "npxGAp90 = 0.8 \n",
        "opp_npxGp90 = 1\n",
        "npxGAp90l4 = 0.8\n",
        "opp_npxGp90l4 = 1\n",
        "minutes = 18\n",
        "was_home = True\n",
        "\n",
        "print(saves_xgb_model.predict([[spg,opp_proj_goals,npxGAp90,opp_npxGp90,npxGAp90l4,opp_npxGp90l4,minutes,was_home]]))\n",
        "print(saves_xgb_model1.predict([[spg,opp_proj_goals,npxGAp90,opp_npxGp90,npxGAp90l4,opp_npxGp90l4,minutes,was_home]]))\n",
        "print(saves_xgb_model2.predict([[spg,opp_proj_goals,npxGAp90,opp_npxGp90,npxGAp90l4,opp_npxGp90l4,minutes,was_home]]))\n",
        "print(saves_xgb_model3.predict([[spg,opp_proj_goals,npxGAp90,opp_npxGp90,npxGAp90l4,opp_npxGp90l4,minutes,was_home]]))\n",
        "print(saves_xgb_model4.predict([[spg,opp_proj_goals,npxGAp90,opp_npxGp90,npxGAp90l4,opp_npxGp90l4,minutes,was_home]]))"
      ]
    },
    {
      "attachments": {},
      "cell_type": "markdown",
      "metadata": {},
      "source": [
        "### SPIs"
      ]
    },
    {
      "cell_type": "code",
      "execution_count": 3,
      "metadata": {},
      "outputs": [],
      "source": [
        "from modules.feature_extraction import spi_dataset_creation\n",
        "\n",
        "matches_path = '../data/soccer-spi/spi_matches.csv'\n",
        "data = spi_dataset_creation(matches_path)"
      ]
    },
    {
      "cell_type": "code",
      "execution_count": 5,
      "metadata": {},
      "outputs": [
        {
          "name": "stdout",
          "output_type": "stream",
          "text": [
            "{'n_estimators': 700, 'max_depth': 5, 'learning_rate': 0.014}\n",
            "Mean Absolute Error = 0.27279525160188034\n",
            "Mean Squared Error = 0.2023234549086289\n",
            "Root Mean Squared Error = 0.44980379601402753\n",
            "r2 = 0.9984584200654321\n",
            "\n",
            "Mean Absolute Error = 0.3908267022621973\n",
            "Mean Squared Error = 0.5435112012525961\n",
            "Root Mean Squared Error = 0.737232121690717\n",
            "r2 = 0.9958600801921503\n",
            "RMSE scores: [0.81974779 0.64672034 0.60911424 0.89930695 0.50567115]\n",
            "Mean RMSE: 0.6961120949706021\n",
            "Index(['spi1', 'spi2', 'score1', 'score2', 'xg1', 'xg2', 'was_home',\n",
            "       'next_spi'],\n",
            "      dtype='object')\n"
          ]
        },
        {
          "data": {
            "image/png": "[encoded data removed]",
            "text/plain": [
              "<Figure size 640x480 with 1 Axes>"
            ]
          },
          "metadata": {},
          "output_type": "display_data"
        }
      ],
      "source": [
        "from modules.model_creation import model_creation\n",
        "import pandas as pd\n",
        "\n",
        "# Get the dataset\n",
        "#saves_dataset = pd.read_csv('./created_datasets/saves_dataset.csv')\n",
        "spi_model = model_creation(data, 7, 'xgb', [700], [2,3,4,5], [0.008, 0.01, 0.012, 0.014])"
      ]
    },
    {
      "cell_type": "code",
      "execution_count": 14,
      "metadata": {},
      "outputs": [],
      "source": [
        "import pickle\n",
        "\n",
        "filename = './models/spi_model.sav'\n",
        "pickle.dump(spi_model, open(filename, 'wb'))"
      ]
    },
    {
      "cell_type": "code",
      "execution_count": 17,
      "metadata": {},
      "outputs": [
        {
          "name": "stdout",
          "output_type": "stream",
          "text": [
            "[52.254787]\n"
          ]
        }
      ],
      "source": [
        "spi1 = 50\n",
        "spi2 = 80 \n",
        "score1 = 3\n",
        "score2 = 0 \n",
        "xg1 = 2.1 \n",
        "xg2 = 0.82\n",
        "was_home = True\n",
        "\n",
        "print(spi_model.predict([[spi1, spi2, score1, score2, xg1, xg2, was_home]]))"
      ]
    },
    {
      "cell_type": "code",
      "execution_count": 5,
      "metadata": {},
      "outputs": [
        {
          "name": "stdout",
          "output_type": "stream",
          "text": [
            "{'n_estimators': 300, 'max_depth': 4, 'learning_rate': 0.014}\n",
            "Mean Absolute Error = 0.11313298237084746\n",
            "Mean Squared Error = 0.02108192194342693\n",
            "Root Mean Squared Error = 0.14519614989188567\n",
            "r2 = 0.9273729586989763\n",
            "\n",
            "Mean Absolute Error = 0.11705927160359864\n",
            "Mean Squared Error = 0.02311824382120672\n",
            "Root Mean Squared Error = 0.15204684745566652\n",
            "r2 = 0.9184562622168847\n",
            "RMSE scores: [0.20099993 0.16512377 0.15453644 0.15267035 0.16552181]\n",
            "Mean RMSE: 0.16777045836130794\n",
            "Index(['spi1', 'spi2', 'was_home', 'proj_goals'], dtype='object')\n"
          ]
        },
        {
          "data": {
            "image/png": "[encoded data removed]",
            "text/plain": [
              "<Figure size 640x480 with 1 Axes>"
            ]
          },
          "metadata": {},
          "output_type": "display_data"
        }
      ],
      "source": [
        "from modules.feature_extraction import proj_goals_dataset_creation\n",
        "\n",
        "matches_path = '../data/soccer-spi/spi_matches.csv'\n",
        "data = proj_goals_dataset_creation(matches_path)\n",
        "\n",
        "from modules.model_creation import model_creation\n",
        "import pandas as pd\n",
        "\n",
        "proj_goals_model = model_creation(data, 3, 'xgb', [200, 300, 400], [2,3,4,5], [0.008, 0.01, 0.012, 0.014])"
      ]
    },
    {
      "cell_type": "code",
      "execution_count": 11,
      "metadata": {},
      "outputs": [
        {
          "name": "stdout",
          "output_type": "stream",
          "text": [
            "[2.8941996]\n"
          ]
        }
      ],
      "source": [
        "spi1 = 92\n",
        "spi2 = 56 \n",
        "was_home = True\n",
        "\n",
        "print(proj_goals_model.predict([[spi1, spi2, was_home]]))"
      ]
    },
    {
      "cell_type": "code",
      "execution_count": 12,
      "metadata": {},
      "outputs": [],
      "source": [
        "import pickle\n",
        "\n",
        "filename = './models/proj_goals_model.sav'\n",
        "pickle.dump(proj_goals_model, open(filename, 'wb'))"
      ]
    },
    {
      "attachments": {},
      "cell_type": "markdown",
      "metadata": {
        "id": "6btrXLcJj-hP"
      },
      "source": [
        "### endgame"
      ]
    },
    {
      "cell_type": "code",
      "execution_count": 36,
      "metadata": {},
      "outputs": [],
      "source": [
        "import shutil\n",
        "import os\n",
        "\n",
        "# Remove old files\n",
        "os.remove('../data/fplreview.csv')\n",
        "os.remove('../data/review_detailed.csv')\n",
        "os.remove('../data/soccer-spi.zip')\n",
        "shutil.rmtree('../data/soccer-spi')\n"
      ]
    },
    {
      "cell_type": "code",
      "execution_count": 37,
      "metadata": {
        "id": "p2g2KmlGDrI8"
      },
      "outputs": [],
      "source": [
        "import zipfile\n",
        "\n",
        "with zipfile.ZipFile('../data/soccer-spi.zip', 'r') as zip_ref:\n",
        "    zip_ref.extractall('../data/')"
      ]
    },
    {
      "cell_type": "code",
      "execution_count": 1,
      "metadata": {},
      "outputs": [],
      "source": [
        "%%capture \n",
        "import nest_asyncio\n",
        "nest_asyncio.apply()\n",
        "\n",
        "from modules.dataset_initialization import dataset_initialization\n",
        "from modules.ids_formation import ids_formation\n",
        "\n",
        "PATH = '../data/Fantasy-Premier-League/data/'\n",
        "PATH2 = '../data/FPL-ID-Map/Master.csv'\n",
        "\n",
        "team_stats_dict, fixtures, players_raw, teams, ids, seasons = dataset_initialization(PATH)\n",
        "#id_dict_df = ids_formation(PATH, PATH2)\n",
        "\n",
        "# Get the saved models\n",
        "import pickle\n",
        "import pandas as pd\n",
        "\n",
        "filename = './models/npgoals_xgb_model6.sav'\n",
        "npgoals = pickle.load(open(filename, 'rb'))\n",
        "\n",
        "filename = './models/assists_xgb_model3.sav'\n",
        "assists = pickle.load(open(filename, 'rb'))\n",
        "\n",
        "filename = './models/team_goals_xgb_model.sav'\n",
        "team_goals = pickle.load(open(filename, 'rb'))\n",
        "\n",
        "filename = './models/bps_xgb_model.sav'\n",
        "bonus = pickle.load(open(filename, 'rb'))\n",
        "\n",
        "filename = './models/saves_xgb_model.sav'\n",
        "saves = pickle.load(open(filename, 'rb'))\n",
        "\n",
        "filename = './models/pens_xgb_model.sav'\n",
        "pens = pickle.load(open(filename, 'rb'))\n",
        "\n",
        "filename = './models/spi_model.sav'\n",
        "strengths = pickle.load(open(filename, 'rb'))\n",
        "\n",
        "filename = './models/proj_goals_model.sav'\n",
        "projected_goals = pickle.load(open(filename, 'rb'))"
      ]
    },
    {
      "cell_type": "code",
      "execution_count": 2,
      "metadata": {},
      "outputs": [],
      "source": [
        "from modules.season_changes import produce_player_dfs, compute_new_spis\n",
        "\n",
        "season = '2023-24'\n",
        "master_path = '../data/FPL-ID-Map/Master.csv'\n",
        "master = pd.read_csv(master_path)\n",
        "horizon = 12\n",
        "next_gw = 1\n",
        "\n",
        "review_detailed, review_df = produce_player_dfs(season, master_path, players_raw, teams, fixtures, horizon, next_gw)\n",
        "spis2023 = compute_new_spis(strengths, teams, team_stats_dict, season, next_gw)"
      ]
    },
    {
      "cell_type": "code",
      "execution_count": 3,
      "metadata": {},
      "outputs": [
        {
          "name": "stderr",
          "output_type": "stream",
          "text": [
            "c:\\Users\\spval\\AppData\\Local\\Programs\\Python\\Python39\\lib\\site-packages\\pandas\\core\\frame.py:3191: SettingWithCopyWarning: \n",
            "A value is trying to be set on a copy of a slice from a DataFrame.\n",
            "Try using .loc[row_indexer,col_indexer] = value instead\n",
            "\n",
            "See the caveats in the documentation: https://pandas.pydata.org/pandas-docs/stable/user_guide/indexing.html#returning-a-view-versus-a-copy\n",
            "  self[k1] = value[k2]\n",
            "100%|██████████| 4/4 [00:10<00:00,  2.71s/it]\n"
          ]
        }
      ],
      "source": [
        "from modules.useful_functions2 import compute_analytical_ev\n",
        "import pandas as pd\n",
        "\n",
        "next_gw = 1\n",
        "gw_no_lim = 4\n",
        "horizon = 12\n",
        "review_horizon = 12\n",
        "season = '2023-24'\n",
        "#data538_PATH = '../data/soccer-spi/spi_matches.csv'\n",
        "#review_df = pd.read_csv('../data/fplreview.csv')\n",
        "review_df = review_df.loc[(review_df['ID']==437) |(review_df['ID']==447) |(review_df['ID']==450) | (review_df['ID']==28)]\n",
        "#review_df = review_df.loc[(review_df['Team']=='Newcastle')].reset_index()\n",
        "#master_path = '../data/FPL-ID-Map/Master.csv'\n",
        "master_path = 'master.csv'\n",
        "#review_detailed = pd.read_csv('../data/review_detailed.csv') \n",
        "\n",
        "an_ev_df = compute_analytical_ev(next_gw, horizon, review_horizon, season, review_df, review_detailed, players_raw, ids, master_path, spis2023, fixtures, teams, team_stats_dict, npgoals, assists, team_goals, bonus, saves, strengths, projected_goals, pens, gw_no_lim, seasons)"
      ]
    },
    {
      "cell_type": "code",
      "execution_count": 4,
      "metadata": {},
      "outputs": [
        {
          "data": {
            "text/html": [
              "<div>\n",
              "<style scoped>\n",
              "    .dataframe tbody tr th:only-of-type {\n",
              "        vertical-align: middle;\n",
              "    }\n",
              "\n",
              "    .dataframe tbody tr th {\n",
              "        vertical-align: top;\n",
              "    }\n",
              "\n",
              "    .dataframe thead th {\n",
              "        text-align: right;\n",
              "    }\n",
              "</style>\n",
              "<table border=\"1\" class=\"dataframe\">\n",
              "  <thead>\n",
              "    <tr style=\"text-align: right;\">\n",
              "      <th></th>\n",
              "      <th>Pos</th>\n",
              "      <th>ID</th>\n",
              "      <th>Name</th>\n",
              "      <th>BV</th>\n",
              "      <th>SV</th>\n",
              "      <th>Team</th>\n",
              "      <th>total</th>\n",
              "      <th>1_xMins</th>\n",
              "      <th>1_Pts</th>\n",
              "      <th>2_xMins</th>\n",
              "      <th>...</th>\n",
              "      <th>8_Pts</th>\n",
              "      <th>9_xMins</th>\n",
              "      <th>9_Pts</th>\n",
              "      <th>10_xMins</th>\n",
              "      <th>10_Pts</th>\n",
              "      <th>11_xMins</th>\n",
              "      <th>11_Pts</th>\n",
              "      <th>12_xMins</th>\n",
              "      <th>12_Pts</th>\n",
              "      <th>sum</th>\n",
              "    </tr>\n",
              "  </thead>\n",
              "  <tbody>\n",
              "    <tr>\n",
              "      <th>308</th>\n",
              "      <td>F</td>\n",
              "      <td>437.0</td>\n",
              "      <td>Awoniyi</td>\n",
              "      <td>65</td>\n",
              "      <td>65</td>\n",
              "      <td>Nott'm Forest</td>\n",
              "      <td>47.033</td>\n",
              "      <td>75.0</td>\n",
              "      <td>3.391</td>\n",
              "      <td>75.0</td>\n",
              "      <td>...</td>\n",
              "      <td>3.843</td>\n",
              "      <td>75.0</td>\n",
              "      <td>4.909</td>\n",
              "      <td>75.0</td>\n",
              "      <td>3.403</td>\n",
              "      <td>75.0</td>\n",
              "      <td>3.895</td>\n",
              "      <td>75.0</td>\n",
              "      <td>3.952</td>\n",
              "      <td>47.034</td>\n",
              "    </tr>\n",
              "    <tr>\n",
              "      <th>349</th>\n",
              "      <td>M</td>\n",
              "      <td>447.0</td>\n",
              "      <td>Gibbs-White</td>\n",
              "      <td>60</td>\n",
              "      <td>60</td>\n",
              "      <td>Nott'm Forest</td>\n",
              "      <td>45.729</td>\n",
              "      <td>80.0</td>\n",
              "      <td>3.458</td>\n",
              "      <td>80.0</td>\n",
              "      <td>...</td>\n",
              "      <td>3.813</td>\n",
              "      <td>80.0</td>\n",
              "      <td>4.415</td>\n",
              "      <td>80.0</td>\n",
              "      <td>3.515</td>\n",
              "      <td>80.0</td>\n",
              "      <td>3.782</td>\n",
              "      <td>80.0</td>\n",
              "      <td>3.844</td>\n",
              "      <td>45.726</td>\n",
              "    </tr>\n",
              "    <tr>\n",
              "      <th>396</th>\n",
              "      <td>M</td>\n",
              "      <td>450.0</td>\n",
              "      <td>Johnson</td>\n",
              "      <td>60</td>\n",
              "      <td>60</td>\n",
              "      <td>Nott'm Forest</td>\n",
              "      <td>43.609</td>\n",
              "      <td>77.0</td>\n",
              "      <td>3.233</td>\n",
              "      <td>77.0</td>\n",
              "      <td>...</td>\n",
              "      <td>3.673</td>\n",
              "      <td>77.0</td>\n",
              "      <td>4.169</td>\n",
              "      <td>77.0</td>\n",
              "      <td>3.248</td>\n",
              "      <td>77.0</td>\n",
              "      <td>3.637</td>\n",
              "      <td>77.0</td>\n",
              "      <td>3.746</td>\n",
              "      <td>43.609</td>\n",
              "    </tr>\n",
              "    <tr>\n",
              "      <th>358</th>\n",
              "      <td>G</td>\n",
              "      <td>28.0</td>\n",
              "      <td>Turner</td>\n",
              "      <td>40</td>\n",
              "      <td>40</td>\n",
              "      <td>Arsenal</td>\n",
              "      <td>0.000</td>\n",
              "      <td>85.0</td>\n",
              "      <td>0.000</td>\n",
              "      <td>85.0</td>\n",
              "      <td>...</td>\n",
              "      <td>0.000</td>\n",
              "      <td>85.0</td>\n",
              "      <td>0.000</td>\n",
              "      <td>85.0</td>\n",
              "      <td>0.000</td>\n",
              "      <td>85.0</td>\n",
              "      <td>0.000</td>\n",
              "      <td>85.0</td>\n",
              "      <td>0.000</td>\n",
              "      <td>0.000</td>\n",
              "    </tr>\n",
              "  </tbody>\n",
              "</table>\n",
              "<p>4 rows × 32 columns</p>\n",
              "</div>"
            ],
            "text/plain": [
              "    Pos     ID         Name  BV  SV           Team   total  1_xMins  1_Pts  \\\n",
              "308   F  437.0      Awoniyi  65  65  Nott'm Forest  47.033     75.0  3.391   \n",
              "349   M  447.0  Gibbs-White  60  60  Nott'm Forest  45.729     80.0  3.458   \n",
              "396   M  450.0      Johnson  60  60  Nott'm Forest  43.609     77.0  3.233   \n",
              "358   G   28.0       Turner  40  40        Arsenal   0.000     85.0  0.000   \n",
              "\n",
              "     2_xMins  ...  8_Pts  9_xMins  9_Pts  10_xMins  10_Pts  11_xMins  11_Pts  \\\n",
              "308     75.0  ...  3.843     75.0  4.909      75.0   3.403      75.0   3.895   \n",
              "349     80.0  ...  3.813     80.0  4.415      80.0   3.515      80.0   3.782   \n",
              "396     77.0  ...  3.673     77.0  4.169      77.0   3.248      77.0   3.637   \n",
              "358     85.0  ...  0.000     85.0  0.000      85.0   0.000      85.0   0.000   \n",
              "\n",
              "     12_xMins  12_Pts     sum  \n",
              "308      75.0   3.952  47.034  \n",
              "349      80.0   3.844  45.726  \n",
              "396      77.0   3.746  43.609  \n",
              "358      85.0   0.000   0.000  \n",
              "\n",
              "[4 rows x 32 columns]"
            ]
          },
          "execution_count": 4,
          "metadata": {},
          "output_type": "execute_result"
        }
      ],
      "source": [
        "from modules.useful_functions2 import filter_df\n",
        "\n",
        "ev_df = filter_df(an_ev_df, next_gw, horizon, '_Pts', 'total', an_ev_df.shape[0])\n",
        "df = an_ev_df[an_ev_df['Team']=='Brighton']\n",
        "df = an_ev_df\n",
        "filter_df(df, next_gw, horizon, '_Pts', 'total', 30)"
      ]
    },
    {
      "cell_type": "code",
      "execution_count": 5,
      "metadata": {},
      "outputs": [
        {
          "data": {
            "text/html": [
              "<div>\n",
              "<style scoped>\n",
              "    .dataframe tbody tr th:only-of-type {\n",
              "        vertical-align: middle;\n",
              "    }\n",
              "\n",
              "    .dataframe tbody tr th {\n",
              "        vertical-align: top;\n",
              "    }\n",
              "\n",
              "    .dataframe thead th {\n",
              "        text-align: right;\n",
              "    }\n",
              "</style>\n",
              "<table border=\"1\" class=\"dataframe\">\n",
              "  <thead>\n",
              "    <tr style=\"text-align: right;\">\n",
              "      <th></th>\n",
              "      <th>Pos</th>\n",
              "      <th>ID</th>\n",
              "      <th>Name</th>\n",
              "      <th>value</th>\n",
              "      <th>BV</th>\n",
              "      <th>SV</th>\n",
              "      <th>Team</th>\n",
              "      <th>total</th>\n",
              "      <th>1_xMins</th>\n",
              "      <th>1_Pts</th>\n",
              "      <th>...</th>\n",
              "      <th>8_Pts</th>\n",
              "      <th>9_xMins</th>\n",
              "      <th>9_Pts</th>\n",
              "      <th>10_xMins</th>\n",
              "      <th>10_Pts</th>\n",
              "      <th>11_xMins</th>\n",
              "      <th>11_Pts</th>\n",
              "      <th>12_xMins</th>\n",
              "      <th>12_Pts</th>\n",
              "      <th>sum</th>\n",
              "    </tr>\n",
              "  </thead>\n",
              "  <tbody>\n",
              "    <tr>\n",
              "      <th>104</th>\n",
              "      <td>G</td>\n",
              "      <td>230.0</td>\n",
              "      <td>Johnstone</td>\n",
              "      <td>1.07</td>\n",
              "      <td>45</td>\n",
              "      <td>45</td>\n",
              "      <td>Crystal Palace</td>\n",
              "      <td>47.957</td>\n",
              "      <td>88.0</td>\n",
              "      <td>4.326</td>\n",
              "      <td>...</td>\n",
              "      <td>4.750</td>\n",
              "      <td>88.0</td>\n",
              "      <td>3.155</td>\n",
              "      <td>88.0</td>\n",
              "      <td>4.110</td>\n",
              "      <td>88.0</td>\n",
              "      <td>4.239</td>\n",
              "      <td>88.0</td>\n",
              "      <td>4.389</td>\n",
              "      <td>47.958</td>\n",
              "    </tr>\n",
              "    <tr>\n",
              "      <th>24</th>\n",
              "      <td>G</td>\n",
              "      <td>148.0</td>\n",
              "      <td>Steele</td>\n",
              "      <td>1.06</td>\n",
              "      <td>45</td>\n",
              "      <td>45</td>\n",
              "      <td>Brighton</td>\n",
              "      <td>47.827</td>\n",
              "      <td>89.0</td>\n",
              "      <td>5.165</td>\n",
              "      <td>...</td>\n",
              "      <td>3.326</td>\n",
              "      <td>89.0</td>\n",
              "      <td>2.768</td>\n",
              "      <td>89.0</td>\n",
              "      <td>4.410</td>\n",
              "      <td>89.0</td>\n",
              "      <td>3.967</td>\n",
              "      <td>89.0</td>\n",
              "      <td>5.124</td>\n",
              "      <td>47.828</td>\n",
              "    </tr>\n",
              "    <tr>\n",
              "      <th>284</th>\n",
              "      <td>D</td>\n",
              "      <td>131.0</td>\n",
              "      <td>Estupiñán</td>\n",
              "      <td>1.00</td>\n",
              "      <td>50</td>\n",
              "      <td>50</td>\n",
              "      <td>Brighton</td>\n",
              "      <td>50.022</td>\n",
              "      <td>77.0</td>\n",
              "      <td>5.615</td>\n",
              "      <td>...</td>\n",
              "      <td>3.346</td>\n",
              "      <td>77.0</td>\n",
              "      <td>2.463</td>\n",
              "      <td>77.0</td>\n",
              "      <td>4.621</td>\n",
              "      <td>77.0</td>\n",
              "      <td>4.249</td>\n",
              "      <td>77.0</td>\n",
              "      <td>5.575</td>\n",
              "      <td>50.021</td>\n",
              "    </tr>\n",
              "    <tr>\n",
              "      <th>363</th>\n",
              "      <td>D</td>\n",
              "      <td>5.0</td>\n",
              "      <td>Gabriel</td>\n",
              "      <td>1.00</td>\n",
              "      <td>50</td>\n",
              "      <td>50</td>\n",
              "      <td>Arsenal</td>\n",
              "      <td>50.193</td>\n",
              "      <td>83.0</td>\n",
              "      <td>5.338</td>\n",
              "      <td>...</td>\n",
              "      <td>2.582</td>\n",
              "      <td>83.0</td>\n",
              "      <td>3.592</td>\n",
              "      <td>83.0</td>\n",
              "      <td>5.603</td>\n",
              "      <td>83.0</td>\n",
              "      <td>2.848</td>\n",
              "      <td>83.0</td>\n",
              "      <td>5.342</td>\n",
              "      <td>50.192</td>\n",
              "    </tr>\n",
              "    <tr>\n",
              "      <th>526</th>\n",
              "      <td>G</td>\n",
              "      <td>101.0</td>\n",
              "      <td>Flekken</td>\n",
              "      <td>0.98</td>\n",
              "      <td>45</td>\n",
              "      <td>45</td>\n",
              "      <td>Brentford</td>\n",
              "      <td>43.881</td>\n",
              "      <td>89.0</td>\n",
              "      <td>3.811</td>\n",
              "      <td>...</td>\n",
              "      <td>3.093</td>\n",
              "      <td>89.0</td>\n",
              "      <td>4.433</td>\n",
              "      <td>89.0</td>\n",
              "      <td>3.330</td>\n",
              "      <td>89.0</td>\n",
              "      <td>3.880</td>\n",
              "      <td>89.0</td>\n",
              "      <td>2.806</td>\n",
              "      <td>43.881</td>\n",
              "    </tr>\n",
              "    <tr>\n",
              "      <th>371</th>\n",
              "      <td>D</td>\n",
              "      <td>112.0</td>\n",
              "      <td>Pinnock</td>\n",
              "      <td>0.98</td>\n",
              "      <td>45</td>\n",
              "      <td>45</td>\n",
              "      <td>Brentford</td>\n",
              "      <td>44.121</td>\n",
              "      <td>85.0</td>\n",
              "      <td>3.878</td>\n",
              "      <td>...</td>\n",
              "      <td>2.996</td>\n",
              "      <td>85.0</td>\n",
              "      <td>4.671</td>\n",
              "      <td>85.0</td>\n",
              "      <td>3.247</td>\n",
              "      <td>85.0</td>\n",
              "      <td>3.941</td>\n",
              "      <td>85.0</td>\n",
              "      <td>2.637</td>\n",
              "      <td>44.121</td>\n",
              "    </tr>\n",
              "    <tr>\n",
              "      <th>473</th>\n",
              "      <td>D</td>\n",
              "      <td>20.0</td>\n",
              "      <td>Saliba</td>\n",
              "      <td>0.96</td>\n",
              "      <td>50</td>\n",
              "      <td>50</td>\n",
              "      <td>Arsenal</td>\n",
              "      <td>47.940</td>\n",
              "      <td>80.0</td>\n",
              "      <td>5.157</td>\n",
              "      <td>...</td>\n",
              "      <td>2.409</td>\n",
              "      <td>80.0</td>\n",
              "      <td>3.407</td>\n",
              "      <td>80.0</td>\n",
              "      <td>5.421</td>\n",
              "      <td>80.0</td>\n",
              "      <td>2.672</td>\n",
              "      <td>80.0</td>\n",
              "      <td>5.161</td>\n",
              "      <td>47.942</td>\n",
              "    </tr>\n",
              "    <tr>\n",
              "      <th>542</th>\n",
              "      <td>D</td>\n",
              "      <td>584.0</td>\n",
              "      <td>Pau</td>\n",
              "      <td>0.96</td>\n",
              "      <td>45</td>\n",
              "      <td>45</td>\n",
              "      <td>Aston Villa</td>\n",
              "      <td>43.148</td>\n",
              "      <td>82.0</td>\n",
              "      <td>2.442</td>\n",
              "      <td>...</td>\n",
              "      <td>3.766</td>\n",
              "      <td>82.0</td>\n",
              "      <td>3.845</td>\n",
              "      <td>82.0</td>\n",
              "      <td>4.892</td>\n",
              "      <td>82.0</td>\n",
              "      <td>3.855</td>\n",
              "      <td>82.0</td>\n",
              "      <td>3.938</td>\n",
              "      <td>43.148</td>\n",
              "    </tr>\n",
              "    <tr>\n",
              "      <th>294</th>\n",
              "      <td>D</td>\n",
              "      <td>31.0</td>\n",
              "      <td>Zinchenko</td>\n",
              "      <td>0.96</td>\n",
              "      <td>50</td>\n",
              "      <td>50</td>\n",
              "      <td>Arsenal</td>\n",
              "      <td>47.853</td>\n",
              "      <td>77.0</td>\n",
              "      <td>5.100</td>\n",
              "      <td>...</td>\n",
              "      <td>2.481</td>\n",
              "      <td>77.0</td>\n",
              "      <td>3.377</td>\n",
              "      <td>77.0</td>\n",
              "      <td>5.362</td>\n",
              "      <td>77.0</td>\n",
              "      <td>2.769</td>\n",
              "      <td>77.0</td>\n",
              "      <td>5.105</td>\n",
              "      <td>47.854</td>\n",
              "    </tr>\n",
              "    <tr>\n",
              "      <th>126</th>\n",
              "      <td>G</td>\n",
              "      <td>263.0</td>\n",
              "      <td>Pickford</td>\n",
              "      <td>0.95</td>\n",
              "      <td>45</td>\n",
              "      <td>45</td>\n",
              "      <td>Everton</td>\n",
              "      <td>42.938</td>\n",
              "      <td>89.0</td>\n",
              "      <td>4.008</td>\n",
              "      <td>...</td>\n",
              "      <td>4.097</td>\n",
              "      <td>89.0</td>\n",
              "      <td>2.873</td>\n",
              "      <td>89.0</td>\n",
              "      <td>3.495</td>\n",
              "      <td>89.0</td>\n",
              "      <td>3.201</td>\n",
              "      <td>89.0</td>\n",
              "      <td>3.451</td>\n",
              "      <td>42.938</td>\n",
              "    </tr>\n",
              "    <tr>\n",
              "      <th>99</th>\n",
              "      <td>G</td>\n",
              "      <td>49.0</td>\n",
              "      <td>Martínez</td>\n",
              "      <td>0.95</td>\n",
              "      <td>50</td>\n",
              "      <td>50</td>\n",
              "      <td>Aston Villa</td>\n",
              "      <td>47.594</td>\n",
              "      <td>89.0</td>\n",
              "      <td>3.030</td>\n",
              "      <td>...</td>\n",
              "      <td>4.043</td>\n",
              "      <td>89.0</td>\n",
              "      <td>4.184</td>\n",
              "      <td>89.0</td>\n",
              "      <td>5.064</td>\n",
              "      <td>89.0</td>\n",
              "      <td>4.133</td>\n",
              "      <td>89.0</td>\n",
              "      <td>4.322</td>\n",
              "      <td>47.594</td>\n",
              "    </tr>\n",
              "    <tr>\n",
              "      <th>8</th>\n",
              "      <td>G</td>\n",
              "      <td>533.0</td>\n",
              "      <td>Fabianski</td>\n",
              "      <td>0.94</td>\n",
              "      <td>45</td>\n",
              "      <td>45</td>\n",
              "      <td>West Ham</td>\n",
              "      <td>42.082</td>\n",
              "      <td>80.0</td>\n",
              "      <td>3.660</td>\n",
              "      <td>...</td>\n",
              "      <td>3.108</td>\n",
              "      <td>80.0</td>\n",
              "      <td>3.090</td>\n",
              "      <td>80.0</td>\n",
              "      <td>3.950</td>\n",
              "      <td>80.0</td>\n",
              "      <td>3.294</td>\n",
              "      <td>80.0</td>\n",
              "      <td>4.258</td>\n",
              "      <td>42.081</td>\n",
              "    </tr>\n",
              "    <tr>\n",
              "      <th>64</th>\n",
              "      <td>G</td>\n",
              "      <td>275.0</td>\n",
              "      <td>Leno</td>\n",
              "      <td>0.94</td>\n",
              "      <td>45</td>\n",
              "      <td>45</td>\n",
              "      <td>Fulham</td>\n",
              "      <td>42.368</td>\n",
              "      <td>89.0</td>\n",
              "      <td>3.704</td>\n",
              "      <td>...</td>\n",
              "      <td>4.482</td>\n",
              "      <td>89.0</td>\n",
              "      <td>3.561</td>\n",
              "      <td>89.0</td>\n",
              "      <td>2.968</td>\n",
              "      <td>89.0</td>\n",
              "      <td>3.446</td>\n",
              "      <td>89.0</td>\n",
              "      <td>3.141</td>\n",
              "      <td>42.368</td>\n",
              "    </tr>\n",
              "    <tr>\n",
              "      <th>336</th>\n",
              "      <td>D</td>\n",
              "      <td>405.0</td>\n",
              "      <td>Botman</td>\n",
              "      <td>0.93</td>\n",
              "      <td>45</td>\n",
              "      <td>45</td>\n",
              "      <td>Newcastle</td>\n",
              "      <td>41.715</td>\n",
              "      <td>84.0</td>\n",
              "      <td>3.292</td>\n",
              "      <td>...</td>\n",
              "      <td>3.465</td>\n",
              "      <td>84.0</td>\n",
              "      <td>3.962</td>\n",
              "      <td>84.0</td>\n",
              "      <td>3.792</td>\n",
              "      <td>84.0</td>\n",
              "      <td>2.988</td>\n",
              "      <td>84.0</td>\n",
              "      <td>3.775</td>\n",
              "      <td>41.715</td>\n",
              "    </tr>\n",
              "    <tr>\n",
              "      <th>58</th>\n",
              "      <td>D</td>\n",
              "      <td>430.0</td>\n",
              "      <td>Trippier</td>\n",
              "      <td>0.93</td>\n",
              "      <td>65</td>\n",
              "      <td>65</td>\n",
              "      <td>Newcastle</td>\n",
              "      <td>60.548</td>\n",
              "      <td>85.0</td>\n",
              "      <td>4.899</td>\n",
              "      <td>...</td>\n",
              "      <td>5.110</td>\n",
              "      <td>85.0</td>\n",
              "      <td>5.633</td>\n",
              "      <td>85.0</td>\n",
              "      <td>5.477</td>\n",
              "      <td>85.0</td>\n",
              "      <td>4.415</td>\n",
              "      <td>85.0</td>\n",
              "      <td>5.440</td>\n",
              "      <td>60.547</td>\n",
              "    </tr>\n",
              "    <tr>\n",
              "      <th>543</th>\n",
              "      <td>G</td>\n",
              "      <td>597.0</td>\n",
              "      <td>Onana</td>\n",
              "      <td>0.92</td>\n",
              "      <td>50</td>\n",
              "      <td>50</td>\n",
              "      <td>Man Utd</td>\n",
              "      <td>45.988</td>\n",
              "      <td>89.0</td>\n",
              "      <td>4.473</td>\n",
              "      <td>...</td>\n",
              "      <td>3.749</td>\n",
              "      <td>89.0</td>\n",
              "      <td>4.038</td>\n",
              "      <td>89.0</td>\n",
              "      <td>2.789</td>\n",
              "      <td>89.0</td>\n",
              "      <td>3.814</td>\n",
              "      <td>89.0</td>\n",
              "      <td>4.867</td>\n",
              "      <td>45.988</td>\n",
              "    </tr>\n",
              "    <tr>\n",
              "      <th>128</th>\n",
              "      <td>D</td>\n",
              "      <td>151.0</td>\n",
              "      <td>Veltman</td>\n",
              "      <td>0.91</td>\n",
              "      <td>45</td>\n",
              "      <td>45</td>\n",
              "      <td>Brighton</td>\n",
              "      <td>41.080</td>\n",
              "      <td>75.0</td>\n",
              "      <td>4.741</td>\n",
              "      <td>...</td>\n",
              "      <td>2.748</td>\n",
              "      <td>75.0</td>\n",
              "      <td>1.911</td>\n",
              "      <td>75.0</td>\n",
              "      <td>3.797</td>\n",
              "      <td>75.0</td>\n",
              "      <td>3.445</td>\n",
              "      <td>75.0</td>\n",
              "      <td>4.702</td>\n",
              "      <td>41.079</td>\n",
              "    </tr>\n",
              "    <tr>\n",
              "      <th>125</th>\n",
              "      <td>D</td>\n",
              "      <td>153.0</td>\n",
              "      <td>Webster</td>\n",
              "      <td>0.91</td>\n",
              "      <td>45</td>\n",
              "      <td>45</td>\n",
              "      <td>Brighton</td>\n",
              "      <td>40.790</td>\n",
              "      <td>82.0</td>\n",
              "      <td>4.755</td>\n",
              "      <td>...</td>\n",
              "      <td>2.726</td>\n",
              "      <td>82.0</td>\n",
              "      <td>1.854</td>\n",
              "      <td>82.0</td>\n",
              "      <td>3.787</td>\n",
              "      <td>82.0</td>\n",
              "      <td>3.405</td>\n",
              "      <td>82.0</td>\n",
              "      <td>4.714</td>\n",
              "      <td>40.790</td>\n",
              "    </tr>\n",
              "    <tr>\n",
              "      <th>458</th>\n",
              "      <td>M</td>\n",
              "      <td>108.0</td>\n",
              "      <td>Mbeumo</td>\n",
              "      <td>0.91</td>\n",
              "      <td>65</td>\n",
              "      <td>65</td>\n",
              "      <td>Brentford</td>\n",
              "      <td>58.872</td>\n",
              "      <td>80.0</td>\n",
              "      <td>5.109</td>\n",
              "      <td>...</td>\n",
              "      <td>4.437</td>\n",
              "      <td>80.0</td>\n",
              "      <td>5.476</td>\n",
              "      <td>80.0</td>\n",
              "      <td>4.648</td>\n",
              "      <td>80.0</td>\n",
              "      <td>5.141</td>\n",
              "      <td>80.0</td>\n",
              "      <td>4.231</td>\n",
              "      <td>58.871</td>\n",
              "    </tr>\n",
              "    <tr>\n",
              "      <th>60</th>\n",
              "      <td>D</td>\n",
              "      <td>407.0</td>\n",
              "      <td>Burn</td>\n",
              "      <td>0.90</td>\n",
              "      <td>45</td>\n",
              "      <td>45</td>\n",
              "      <td>Newcastle</td>\n",
              "      <td>40.528</td>\n",
              "      <td>82.0</td>\n",
              "      <td>3.191</td>\n",
              "      <td>...</td>\n",
              "      <td>3.364</td>\n",
              "      <td>82.0</td>\n",
              "      <td>3.860</td>\n",
              "      <td>82.0</td>\n",
              "      <td>3.689</td>\n",
              "      <td>82.0</td>\n",
              "      <td>2.897</td>\n",
              "      <td>82.0</td>\n",
              "      <td>3.672</td>\n",
              "      <td>40.529</td>\n",
              "    </tr>\n",
              "  </tbody>\n",
              "</table>\n",
              "<p>20 rows × 33 columns</p>\n",
              "</div>"
            ],
            "text/plain": [
              "    Pos     ID       Name  value  BV  SV            Team   total  1_xMins  \\\n",
              "104   G  230.0  Johnstone   1.07  45  45  Crystal Palace  47.957     88.0   \n",
              "24    G  148.0     Steele   1.06  45  45        Brighton  47.827     89.0   \n",
              "284   D  131.0  Estupiñán   1.00  50  50        Brighton  50.022     77.0   \n",
              "363   D    5.0    Gabriel   1.00  50  50         Arsenal  50.193     83.0   \n",
              "526   G  101.0    Flekken   0.98  45  45       Brentford  43.881     89.0   \n",
              "371   D  112.0    Pinnock   0.98  45  45       Brentford  44.121     85.0   \n",
              "473   D   20.0     Saliba   0.96  50  50         Arsenal  47.940     80.0   \n",
              "542   D  584.0        Pau   0.96  45  45     Aston Villa  43.148     82.0   \n",
              "294   D   31.0  Zinchenko   0.96  50  50         Arsenal  47.853     77.0   \n",
              "126   G  263.0   Pickford   0.95  45  45         Everton  42.938     89.0   \n",
              "99    G   49.0   Martínez   0.95  50  50     Aston Villa  47.594     89.0   \n",
              "8     G  533.0  Fabianski   0.94  45  45        West Ham  42.082     80.0   \n",
              "64    G  275.0       Leno   0.94  45  45          Fulham  42.368     89.0   \n",
              "336   D  405.0     Botman   0.93  45  45       Newcastle  41.715     84.0   \n",
              "58    D  430.0   Trippier   0.93  65  65       Newcastle  60.548     85.0   \n",
              "543   G  597.0      Onana   0.92  50  50         Man Utd  45.988     89.0   \n",
              "128   D  151.0    Veltman   0.91  45  45        Brighton  41.080     75.0   \n",
              "125   D  153.0    Webster   0.91  45  45        Brighton  40.790     82.0   \n",
              "458   M  108.0     Mbeumo   0.91  65  65       Brentford  58.872     80.0   \n",
              "60    D  407.0       Burn   0.90  45  45       Newcastle  40.528     82.0   \n",
              "\n",
              "     1_Pts  ...  8_Pts  9_xMins  9_Pts  10_xMins  10_Pts  11_xMins  11_Pts  \\\n",
              "104  4.326  ...  4.750     88.0  3.155      88.0   4.110      88.0   4.239   \n",
              "24   5.165  ...  3.326     89.0  2.768      89.0   4.410      89.0   3.967   \n",
              "284  5.615  ...  3.346     77.0  2.463      77.0   4.621      77.0   4.249   \n",
              "363  5.338  ...  2.582     83.0  3.592      83.0   5.603      83.0   2.848   \n",
              "526  3.811  ...  3.093     89.0  4.433      89.0   3.330      89.0   3.880   \n",
              "371  3.878  ...  2.996     85.0  4.671      85.0   3.247      85.0   3.941   \n",
              "473  5.157  ...  2.409     80.0  3.407      80.0   5.421      80.0   2.672   \n",
              "542  2.442  ...  3.766     82.0  3.845      82.0   4.892      82.0   3.855   \n",
              "294  5.100  ...  2.481     77.0  3.377      77.0   5.362      77.0   2.769   \n",
              "126  4.008  ...  4.097     89.0  2.873      89.0   3.495      89.0   3.201   \n",
              "99   3.030  ...  4.043     89.0  4.184      89.0   5.064      89.0   4.133   \n",
              "8    3.660  ...  3.108     80.0  3.090      80.0   3.950      80.0   3.294   \n",
              "64   3.704  ...  4.482     89.0  3.561      89.0   2.968      89.0   3.446   \n",
              "336  3.292  ...  3.465     84.0  3.962      84.0   3.792      84.0   2.988   \n",
              "58   4.899  ...  5.110     85.0  5.633      85.0   5.477      85.0   4.415   \n",
              "543  4.473  ...  3.749     89.0  4.038      89.0   2.789      89.0   3.814   \n",
              "128  4.741  ...  2.748     75.0  1.911      75.0   3.797      75.0   3.445   \n",
              "125  4.755  ...  2.726     82.0  1.854      82.0   3.787      82.0   3.405   \n",
              "458  5.109  ...  4.437     80.0  5.476      80.0   4.648      80.0   5.141   \n",
              "60   3.191  ...  3.364     82.0  3.860      82.0   3.689      82.0   2.897   \n",
              "\n",
              "     12_xMins  12_Pts     sum  \n",
              "104      88.0   4.389  47.958  \n",
              "24       89.0   5.124  47.828  \n",
              "284      77.0   5.575  50.021  \n",
              "363      83.0   5.342  50.192  \n",
              "526      89.0   2.806  43.881  \n",
              "371      85.0   2.637  44.121  \n",
              "473      80.0   5.161  47.942  \n",
              "542      82.0   3.938  43.148  \n",
              "294      77.0   5.105  47.854  \n",
              "126      89.0   3.451  42.938  \n",
              "99       89.0   4.322  47.594  \n",
              "8        80.0   4.258  42.081  \n",
              "64       89.0   3.141  42.368  \n",
              "336      84.0   3.775  41.715  \n",
              "58       85.0   5.440  60.547  \n",
              "543      89.0   4.867  45.988  \n",
              "128      75.0   4.702  41.079  \n",
              "125      82.0   4.714  40.790  \n",
              "458      80.0   4.231  58.871  \n",
              "60       82.0   3.672  40.529  \n",
              "\n",
              "[20 rows x 33 columns]"
            ]
          },
          "execution_count": 5,
          "metadata": {},
          "output_type": "execute_result"
        }
      ],
      "source": [
        "ev_df.insert(3, 'value', [round(ev_df['total'].iloc[x]/ev_df['BV'].iloc[x],2) for x in range(ev_df.shape[0])])\n",
        "ev_df.sort_values(by='value',ascending=False)[:20]"
      ]
    },
    {
      "cell_type": "code",
      "execution_count": 6,
      "metadata": {},
      "outputs": [
        {
          "data": {
            "image/png": "[encoded data removed]",
            "text/plain": [
              "<Figure size 600x400 with 1 Axes>"
            ]
          },
          "metadata": {},
          "output_type": "display_data"
        },
        {
          "data": {
            "image/png": "[encoded data removed]",
            "text/plain": [
              "<Figure size 600x400 with 1 Axes>"
            ]
          },
          "metadata": {},
          "output_type": "display_data"
        }
      ],
      "source": [
        "from modules.data_viz import best_options, barplots\n",
        "\n",
        "#next_gw = 27\n",
        "horizon = 38\n",
        "num = 10\n",
        "\n",
        "df = ev_df[ev_df['Pos']=='G']\n",
        "df = an_ev_df\n",
        "best_options(df, next_gw, horizon, num)\n",
        "\n",
        "ids_list = filter_df(df, next_gw, horizon, '_Pts', 'sum', num)['ID'].to_list()\n",
        "barplots(an_ev_df, next_gw, horizon, ids_list)"
      ]
    },
    {
      "cell_type": "code",
      "execution_count": 7,
      "metadata": {},
      "outputs": [],
      "source": [
        "#ev_df = ev_df.drop(['total', 'sum', 'value'], axis=1)\n",
        "ev_df.to_csv('alex-GW1.csv', index=False)"
      ]
    },
    {
      "attachments": {},
      "cell_type": "markdown",
      "metadata": {},
      "source": [
        "### Tests"
      ]
    },
    {
      "cell_type": "code",
      "execution_count": 83,
      "metadata": {},
      "outputs": [],
      "source": [
        "import pandas as pd\n",
        "from sklearn.metrics import mean_squared_error, mean_absolute_error, r2_score\n",
        "\n",
        "def results(df, start_gw, end_gw):\n",
        "    df = df[(df['gw'] >= start_gw)  & (df['gw'] <= end_gw)]\n",
        "    n = df.shape[0]\n",
        "    print('Samples', n)\n",
        "    y_true = df['rP'].to_list()\n",
        "    y_pred = df['pP'].to_list()\n",
        "    y_true_mins = df['rMin'].to_list()\n",
        "    y_true_mins = df['pMin'].to_list()\n",
        "\n",
        "    print('RMSE points: ', mean_squared_error(y_true, y_pred, squared=False))\n",
        "    print('MAE points: ', mean_absolute_error(y_true, y_pred))\n",
        "    print('R2 Score: ', r2_score(y_true, y_pred))\n",
        "\n",
        "def model_perf(final, start_gw, end_gw):\n",
        "    print('Review Premium')\n",
        "    review_premium = final[final['source']=='review-premium']\n",
        "    results(review_premium, start_gw, end_gw)\n",
        "    print()\n",
        "    print('Review Free')\n",
        "    review_free = final[final['source']=='review-free']\n",
        "    results(review_free, start_gw, end_gw)\n",
        "    print()\n",
        "    print('Review Odds')\n",
        "    review_mop = final[final['source']=='review-market-odds-planner']\n",
        "    results(review_mop, start_gw, end_gw)\n",
        "    print()\n",
        "    print('Mikkel')\n",
        "    mikkel = final[final['source']=='mikkel']\n",
        "    results(mikkel, start_gw, end_gw)\n",
        "    print()\n",
        "    print('Kiwi')\n",
        "    kiwi = final[final['source']=='kiwi']\n",
        "    results(kiwi, start_gw, end_gw)\n",
        "    print()\n",
        "    print('FFFix')\n",
        "    fffix = final[final['source']=='fffix']\n",
        "    results(fffix, start_gw, end_gw)\n",
        "    print()\n",
        "    print('FFHub')\n",
        "    ffhub = final[final['source']=='ffhub']\n",
        "    results(ffhub, start_gw, end_gw)\n",
        "    print()\n",
        "    print('FFScout')\n",
        "    ffscout = final[final['source']=='ffscout']\n",
        "    results(ffscout, start_gw, end_gw)\n",
        "    print()\n"
      ]
    },
    {
      "cell_type": "code",
      "execution_count": 64,
      "metadata": {},
      "outputs": [
        {
          "name": "stdout",
          "output_type": "stream",
          "text": [
            "Samples 9971\n",
            "RMSE points:  1.8849245841930855\n",
            "MAE points:  0.9020983853174206\n",
            "R2 Score:  0.415727040491803\n"
          ]
        }
      ],
      "source": [
        "import pandas as pd\n",
        "\n",
        "final = pd.read_csv('../final.csv')\n",
        "final = final.loc[:, ~final.columns.str.contains('^Unnamed')]\n",
        "review_premium = final[final['source']=='review-premium']\n",
        "results(review_premium, 26, 38)"
      ]
    },
    {
      "cell_type": "code",
      "execution_count": 66,
      "metadata": {},
      "outputs": [
        {
          "name": "stdout",
          "output_type": "stream",
          "text": [
            "Review Premium\n",
            "Samples 3813\n",
            "RMSE points:  2.926411500477762\n",
            "MAE points:  1.9798520849724628\n",
            "R2 Score:  0.16099933476331996\n",
            "\n",
            "Review Free\n",
            "Samples 3813\n",
            "RMSE points:  2.9309155781338005\n",
            "MAE points:  1.985609493836874\n",
            "R2 Score:  0.1584147138072397\n",
            "\n",
            "Review Odds\n",
            "Samples 3810\n",
            "RMSE points:  2.9261430186987214\n",
            "MAE points:  1.9879160104986875\n",
            "R2 Score:  0.16154530493596186\n",
            "\n",
            "Mikkel\n",
            "Samples 3813\n",
            "RMSE points:  3.0084433329713844\n",
            "MAE points:  2.0953422501966954\n",
            "R2 Score:  0.1133031073591605\n",
            "\n",
            "Kiwi\n",
            "Samples 1111\n",
            "RMSE points:  2.8834041126767898\n",
            "MAE points:  2.0033267759964\n",
            "R2 Score:  0.09291849977374822\n",
            "\n",
            "FFFix\n",
            "Samples 3810\n",
            "RMSE points:  3.01702861205109\n",
            "MAE points:  2.0424849829396328\n",
            "R2 Score:  0.10865186380269842\n",
            "\n",
            "FFHub\n",
            "Samples 3809\n",
            "RMSE points:  3.0325189725928214\n",
            "MAE points:  2.172134284112905\n",
            "R2 Score:  0.09961576092864655\n",
            "\n",
            "FFScout\n",
            "Samples 3771\n",
            "RMSE points:  2.9429814390731805\n",
            "MAE points:  1.9842482100238663\n",
            "R2 Score:  0.15726128370426928\n",
            "\n"
          ]
        }
      ],
      "source": [
        "import pandas as pd\n",
        "\n",
        "final = pd.read_csv('../final.csv')\n",
        "final = final.loc[:, ~final.columns.str.contains('^Unnamed')]\n",
        "final = final[final['rMin']>0]\n",
        "#final = final[final['id'] == 303]\n",
        "#final = final[final['pP']>0]\n",
        "model_perf(final, 26, 38)"
      ]
    },
    {
      "cell_type": "code",
      "execution_count": 67,
      "metadata": {},
      "outputs": [
        {
          "name": "stderr",
          "output_type": "stream",
          "text": [
            "c:\\Users\\User\\AppData\\Local\\Programs\\Python\\Python39\\lib\\site-packages\\pandas\\core\\indexing.py:1637: SettingWithCopyWarning: \n",
            "A value is trying to be set on a copy of a slice from a DataFrame\n",
            "\n",
            "See the caveats in the documentation: https://pandas.pydata.org/pandas-docs/stable/user_guide/indexing.html#returning-a-view-versus-a-copy\n",
            "  self._setitem_single_block(indexer, value, name)\n"
          ]
        }
      ],
      "source": [
        "import pandas as pd\n",
        "\n",
        "alex_list = []\n",
        "for i in range(26,39):\n",
        "    final = pd.read_csv('../final.csv')\n",
        "    final = final.loc[:, ~final.columns.str.contains('^Unnamed')]\n",
        "    final = final[final['gw']==i]\n",
        "    rp = final[final['source']=='review-premium']\n",
        "    rp = rp[['id', 'rP', 'rMin']]\n",
        "\n",
        "    alex_gw = pd.read_csv('../Projections/ALEX/alex-GW' + str(i) + '.csv')\n",
        "    alex_gw = alex_gw[['ID', 'Team', 'Name', 'Pos', str(i)+'_Pts', str(i)+'_xMins']]\n",
        "    alex_gw.insert(4, 'gw', [i]*alex_gw.shape[0], True)\n",
        "    alex_gw.rename(columns={'ID':'id', str(i)+'_Pts':'pP', str(i)+'_xMins':'pMin'}, inplace=True)\n",
        "    alex_list.append(alex_gw.merge(rp, on='id', how='inner'))\n",
        "alex = pd.concat(alex_list)\n",
        "alex[['id', 'gw', 'pP', 'pMin', 'rP', 'rMin']] = alex[['id', 'gw', 'pP', 'pMin', 'rP', 'rMin']].apply(pd.to_numeric)\n",
        "# optimizations\n",
        "alex[['pP', 'pMin']] = alex[['pP', 'pMin']].clip(lower=0)\n",
        "for i in range(alex.shape[0]):\n",
        "    xmins = alex['pMin'].iloc[i]\n",
        "    #until gw34 - from 35 it's good\n",
        "    if xmins < 30:\n",
        "        alex['pP'].iloc[i] = alex['pP'].iloc[i] - 1 + 0.033*xmins\n",
        "    if xmins==0:\n",
        "        alex['pP'].iloc[i] = 0\n",
        "    if alex['pP'].iloc[i] < 0:\n",
        "        alex['pP'].iloc[i] = 0"
      ]
    },
    {
      "cell_type": "code",
      "execution_count": 68,
      "metadata": {},
      "outputs": [],
      "source": [
        "import pandas as pd\n",
        "\n",
        "rev_list = []\n",
        "for i in range(26,39):\n",
        "    final = pd.read_csv('../final.csv')\n",
        "    final = final.loc[:, ~final.columns.str.contains('^Unnamed')]\n",
        "    final = final[final['gw']==i]\n",
        "    rp = final[final['source']=='review-premium']\n",
        "    rp = rp[['id', 'rP', 'rMin']]\n",
        "\n",
        "    rev = pd.read_csv('../Projections/REVIEW-PREMIUM/fplreview_premium-GW' + str(i) + '.csv')\n",
        "    rev = rev[['ID', 'Team', 'Name', 'Pos', str(i)+'_Pts', str(i)+'_xMins']]\n",
        "    rev.insert(4, 'gw', [i]*rev.shape[0], True)\n",
        "    rev.rename(columns={'ID':'id', str(i)+'_Pts':'pP', str(i)+'_xMins':'pMin'}, inplace=True)\n",
        "    rev_list.append(rev.merge(rp, on='id', how='inner'))\n",
        "rev_premium = pd.concat(rev_list)\n",
        "rev_premium[['id', 'gw', 'pP', 'pMin', 'rP', 'rMin']] = rev_premium[['id', 'gw', 'pP', 'pMin', 'rP', 'rMin']].apply(pd.to_numeric)"
      ]
    },
    {
      "cell_type": "code",
      "execution_count": 69,
      "metadata": {},
      "outputs": [],
      "source": [
        "import pandas as pd\n",
        "\n",
        "final = pd.read_csv('../final.csv')\n",
        "final = final.loc[:, ~final.columns.str.contains('^Unnamed')]\n",
        "rp = final[final['source']=='review-premium']\n",
        "rf = final[final['source']=='review-free']\n",
        "mk = final[final['source']=='mikkel']\n",
        "fix = final[final['source']=='fffix']\n",
        "scout = final[final['source']=='ffscout']\n",
        "hub = final[final['source']=='ffhub']\n",
        "kw = final[final['source']=='kiwi']\n",
        "aux = alex[['id', 'gw']]\n",
        "review_premium = rp.merge(aux, on=['id', 'gw'], how='inner')\n",
        "review_free = rf.merge(aux, on=['id', 'gw'], how='inner')\n",
        "mikkel = mk.merge(aux, on=['id', 'gw'], how='inner')\n",
        "fffix = fix.merge(aux, on=['id', 'gw'], how='inner')\n",
        "ffscout = scout.merge(aux, on=['id', 'gw'], how='inner')\n",
        "ffhub = hub.merge(aux, on=['id', 'gw'], how='inner')\n",
        "kiwi = kw.merge(aux, on=['id', 'gw'], how='inner')\n"
      ]
    },
    {
      "cell_type": "code",
      "execution_count": 96,
      "metadata": {},
      "outputs": [
        {
          "name": "stdout",
          "output_type": "stream",
          "text": [
            "Samples 2317\n",
            "RMSE points:  2.0934647436044194\n",
            "MAE points:  1.1282952093223997\n",
            "R2 Score:  0.33090624560804605\n",
            "Samples 2317\n",
            "RMSE points:  2.1211723314874606\n",
            "MAE points:  1.205795464984031\n",
            "R2 Score:  0.31307775501963175\n"
          ]
        }
      ],
      "source": [
        "#kiwi comparison\n",
        "\n",
        "aux = kiwi[['id', 'gw']]\n",
        "alx = alex.merge(aux, on=['id', 'gw'], how='inner')\n",
        "s = 0\n",
        "e = 180\n",
        "alx_aux = alx[(alx['rMin']>=s) & (alx['rMin']<=e)]\n",
        "kiwi_aux = kiwi[(kiwi['rMin']>=s) & (kiwi['rMin']<=e)]\n",
        "\n",
        "results(alx_aux, 26, 38)\n",
        "results(kiwi_aux, 26, 38)"
      ]
    },
    {
      "attachments": {},
      "cell_type": "markdown",
      "metadata": {},
      "source": [
        "until 33 if we include kiwi"
      ]
    },
    {
      "cell_type": "code",
      "execution_count": 214,
      "metadata": {},
      "outputs": [
        {
          "name": "stdout",
          "output_type": "stream",
          "text": [
            "Samples 3771\n",
            "RMSE points:  3.004641085207163\n",
            "MAE points:  2.025942720763723\n",
            "R2 Score:  0.12157820436107658\n",
            "Samples 3771\n",
            "RMSE points:  3.048789909516819\n",
            "MAE points:  2.18364705219976\n",
            "R2 Score:  0.0955742952759362\n",
            "Samples 3771\n",
            "RMSE points:  2.9429814390731805\n",
            "MAE points:  1.9842482100238663\n",
            "R2 Score:  0.15726128370426928\n",
            "Samples 1100\n",
            "RMSE points:  2.8440241860721835\n",
            "MAE points:  1.9746427895354546\n",
            "R2 Score:  0.10253164841531803\n",
            "Samples 3771\n",
            "RMSE points:  3.0302006669072394\n",
            "MAE points:  2.0548400066295414\n",
            "R2 Score:  0.10656969610265854\n",
            "Samples 3771\n",
            "RMSE points:  3.0315817588765634\n",
            "MAE points:  2.1127578891540706\n",
            "R2 Score:  0.10575510278259592\n",
            "Samples 3771\n",
            "RMSE points:  2.9494156390782305\n",
            "MAE points:  1.9986422699549191\n",
            "R2 Score:  0.15357231931955373\n"
          ]
        }
      ],
      "source": [
        "#ffhub comparison\n",
        "\n",
        "aux1 = ffhub[['id', 'gw']]\n",
        "aux2 = ffscout[['id', 'gw']]\n",
        "#aux3 = kiwi[['id', 'gw']]\n",
        "aux4 = rev_premium[['id', 'gw']]\n",
        "aux5 = fffix[['id', 'gw']]\n",
        "aux6 = mikkel[['id', 'gw']]\n",
        "aux = aux1.merge(aux2, on=['id', 'gw'], how='inner')\n",
        "#aux = aux.merge(aux3, on=['id', 'gw'], how='inner')\n",
        "aux = aux.merge(aux4, on=['id', 'gw'], how='inner')\n",
        "aux = aux.merge(aux5, on=['id', 'gw'], how='inner')\n",
        "aux = aux.merge(aux6, on=['id', 'gw'], how='inner')\n",
        "\n",
        "alx = alex.merge(aux, on=['id', 'gw'], how='inner')\n",
        "ffh = ffhub.merge(aux, on=['id', 'gw'], how='inner')\n",
        "kw = kiwi.merge(aux, on=['id', 'gw'], how='inner')\n",
        "fff = fffix.merge(aux, on=['id', 'gw'], how='inner')\n",
        "rev = rev_premium.merge(aux, on=['id', 'gw'], how='inner')\n",
        "mt = mikkel.merge(aux, on=['id', 'gw'], how='inner')\n",
        "ffs = ffscout.merge(aux, on=['id', 'gw'], how='inner').drop_duplicates()\n",
        "\n",
        "\n",
        "s = 1\n",
        "e = 180\n",
        "alx_aux = alx[(alx['rMin']>=s) & (alx['rMin']<=e)]\n",
        "ffhub_aux = ffh[(ffh['rMin']>=s) & (ffh['rMin']<=e)]\n",
        "ffscout_aux = ffs[(ffs['rMin']>=s) & (ffs['rMin']<=e)]\n",
        "kiwi_aux = kw[(kw['rMin']>=s) & (kw['rMin']<=e)]\n",
        "fffix_aux = fff[(fff['rMin']>=s) & (fff['rMin']<=e)]\n",
        "mikkel_aux = mt[(mt['rMin']>=s) & (mt['rMin']<=e)]\n",
        "review_aux = rev[(rev['rMin']>=s) & (rev['rMin']<=e)]\n",
        "\n",
        "results(alx_aux, 26, 38)\n",
        "results(ffhub_aux, 26, 38)\n",
        "results(ffscout_aux, 26, 38)\n",
        "results(kiwi_aux, 26, 38)\n",
        "results(fffix_aux, 26, 38)\n",
        "results(mikkel_aux, 26, 38)\n",
        "results(review_aux, 26, 38)"
      ]
    },
    {
      "cell_type": "code",
      "execution_count": 100,
      "metadata": {},
      "outputs": [
        {
          "name": "stdout",
          "output_type": "stream",
          "text": [
            "Samples 6673\n",
            "RMSE points:  2.183534478779985\n",
            "MAE points:  1.202302112992657\n",
            "R2 Score:  0.2544442118231274\n",
            "Samples 6673\n",
            "RMSE points:  2.1708227558082034\n",
            "MAE points:  1.255032219391578\n",
            "R2 Score:  0.2630996391433613\n"
          ]
        }
      ],
      "source": [
        "#ffscout comparison\n",
        "\n",
        "aux = ffscout[['id', 'gw']]\n",
        "alx = alex.merge(aux, on=['id', 'gw'], how='inner')\n",
        "s = 0\n",
        "e = 90\n",
        "alx_aux = alx[(alx['rMin']>=s) & (alx['rMin']<=e)]\n",
        "ffscout_aux = ffscout[(ffscout['rMin']>=s) & (ffscout['rMin']<=e)]\n",
        "\n",
        "results(alx_aux, 26, 38)\n",
        "results(ffscout_aux, 26, 38)"
      ]
    },
    {
      "attachments": {},
      "cell_type": "markdown",
      "metadata": {},
      "source": [
        "**Notes**\n",
        "\n",
        "30-60 pMin players better than review\n",
        "\n",
        "70-90 pMin players review is better"
      ]
    },
    {
      "cell_type": "code",
      "execution_count": 14,
      "metadata": {},
      "outputs": [
        {
          "data": {
            "text/html": [
              "<div>\n",
              "<style scoped>\n",
              "    .dataframe tbody tr th:only-of-type {\n",
              "        vertical-align: middle;\n",
              "    }\n",
              "\n",
              "    .dataframe tbody tr th {\n",
              "        vertical-align: top;\n",
              "    }\n",
              "\n",
              "    .dataframe thead th {\n",
              "        text-align: right;\n",
              "    }\n",
              "</style>\n",
              "<table border=\"1\" class=\"dataframe\">\n",
              "  <thead>\n",
              "    <tr style=\"text-align: right;\">\n",
              "      <th></th>\n",
              "      <th>id</th>\n",
              "      <th>Team</th>\n",
              "      <th>Name</th>\n",
              "      <th>Pos</th>\n",
              "      <th>gw</th>\n",
              "      <th>pP</th>\n",
              "      <th>pMin</th>\n",
              "      <th>rP</th>\n",
              "      <th>rMin</th>\n",
              "    </tr>\n",
              "  </thead>\n",
              "  <tbody>\n",
              "    <tr>\n",
              "      <th>0</th>\n",
              "      <td>318</td>\n",
              "      <td>Man City</td>\n",
              "      <td>Haaland</td>\n",
              "      <td>F</td>\n",
              "      <td>34</td>\n",
              "      <td>11.717</td>\n",
              "      <td>75</td>\n",
              "      <td>16</td>\n",
              "      <td>180</td>\n",
              "    </tr>\n",
              "    <tr>\n",
              "      <th>4</th>\n",
              "      <td>283</td>\n",
              "      <td>Liverpool</td>\n",
              "      <td>Salah</td>\n",
              "      <td>M</td>\n",
              "      <td>34</td>\n",
              "      <td>11.544</td>\n",
              "      <td>80</td>\n",
              "      <td>18</td>\n",
              "      <td>173</td>\n",
              "    </tr>\n",
              "    <tr>\n",
              "      <th>0</th>\n",
              "      <td>333</td>\n",
              "      <td>Man Utd</td>\n",
              "      <td>Fernandes</td>\n",
              "      <td>M</td>\n",
              "      <td>37</td>\n",
              "      <td>11.389</td>\n",
              "      <td>87</td>\n",
              "      <td>11</td>\n",
              "      <td>175</td>\n",
              "    </tr>\n",
              "    <tr>\n",
              "      <th>8</th>\n",
              "      <td>301</td>\n",
              "      <td>Man City</td>\n",
              "      <td>De Bruyne</td>\n",
              "      <td>M</td>\n",
              "      <td>34</td>\n",
              "      <td>10.294</td>\n",
              "      <td>71</td>\n",
              "      <td>0</td>\n",
              "      <td>0</td>\n",
              "    </tr>\n",
              "    <tr>\n",
              "      <th>1</th>\n",
              "      <td>124</td>\n",
              "      <td>Brighton</td>\n",
              "      <td>Mitoma</td>\n",
              "      <td>M</td>\n",
              "      <td>29</td>\n",
              "      <td>10.134</td>\n",
              "      <td>77</td>\n",
              "      <td>14</td>\n",
              "      <td>180</td>\n",
              "    </tr>\n",
              "    <tr>\n",
              "      <th>...</th>\n",
              "      <td>...</td>\n",
              "      <td>...</td>\n",
              "      <td>...</td>\n",
              "      <td>...</td>\n",
              "      <td>...</td>\n",
              "      <td>...</td>\n",
              "      <td>...</td>\n",
              "      <td>...</td>\n",
              "      <td>...</td>\n",
              "    </tr>\n",
              "    <tr>\n",
              "      <th>555</th>\n",
              "      <td>735</td>\n",
              "      <td>Leicester</td>\n",
              "      <td>Marçal-Madivadua</td>\n",
              "      <td>M</td>\n",
              "      <td>33</td>\n",
              "      <td>0.000</td>\n",
              "      <td>0</td>\n",
              "      <td>0</td>\n",
              "      <td>0</td>\n",
              "    </tr>\n",
              "    <tr>\n",
              "      <th>554</th>\n",
              "      <td>653</td>\n",
              "      <td>Chelsea</td>\n",
              "      <td>Hutchinson</td>\n",
              "      <td>M</td>\n",
              "      <td>33</td>\n",
              "      <td>0.000</td>\n",
              "      <td>0</td>\n",
              "      <td>0</td>\n",
              "      <td>0</td>\n",
              "    </tr>\n",
              "    <tr>\n",
              "      <th>553</th>\n",
              "      <td>654</td>\n",
              "      <td>Crystal Palace</td>\n",
              "      <td>Wells-Morrison</td>\n",
              "      <td>M</td>\n",
              "      <td>33</td>\n",
              "      <td>0.000</td>\n",
              "      <td>2</td>\n",
              "      <td>0</td>\n",
              "      <td>0</td>\n",
              "    </tr>\n",
              "    <tr>\n",
              "      <th>552</th>\n",
              "      <td>719</td>\n",
              "      <td>Brighton</td>\n",
              "      <td>Ayari</td>\n",
              "      <td>M</td>\n",
              "      <td>33</td>\n",
              "      <td>0.000</td>\n",
              "      <td>11</td>\n",
              "      <td>0</td>\n",
              "      <td>0</td>\n",
              "    </tr>\n",
              "    <tr>\n",
              "      <th>421</th>\n",
              "      <td>620</td>\n",
              "      <td>Liverpool</td>\n",
              "      <td>Arthur</td>\n",
              "      <td>M</td>\n",
              "      <td>32</td>\n",
              "      <td>0.000</td>\n",
              "      <td>1</td>\n",
              "      <td>0</td>\n",
              "      <td>0</td>\n",
              "    </tr>\n",
              "  </tbody>\n",
              "</table>\n",
              "<p>9846 rows × 9 columns</p>\n",
              "</div>"
            ],
            "text/plain": [
              "      id            Team              Name Pos  gw      pP  pMin  rP  rMin\n",
              "0    318        Man City           Haaland   F  34  11.717    75  16   180\n",
              "4    283       Liverpool             Salah   M  34  11.544    80  18   173\n",
              "0    333         Man Utd         Fernandes   M  37  11.389    87  11   175\n",
              "8    301        Man City         De Bruyne   M  34  10.294    71   0     0\n",
              "1    124        Brighton            Mitoma   M  29  10.134    77  14   180\n",
              "..   ...             ...               ...  ..  ..     ...   ...  ..   ...\n",
              "555  735       Leicester  Marçal-Madivadua   M  33   0.000     0   0     0\n",
              "554  653         Chelsea        Hutchinson   M  33   0.000     0   0     0\n",
              "553  654  Crystal Palace    Wells-Morrison   M  33   0.000     2   0     0\n",
              "552  719        Brighton             Ayari   M  33   0.000    11   0     0\n",
              "421  620       Liverpool            Arthur   M  32   0.000     1   0     0\n",
              "\n",
              "[9846 rows x 9 columns]"
            ]
          },
          "execution_count": 14,
          "metadata": {},
          "output_type": "execute_result"
        }
      ],
      "source": [
        "alex.sort_values(by='pP', ascending=False)"
      ]
    },
    {
      "cell_type": "code",
      "execution_count": 93,
      "metadata": {},
      "outputs": [
        {
          "name": "stdout",
          "output_type": "stream",
          "text": [
            "ALEX\n",
            "Samples 9846\n",
            "RMSE points:  1.9287004581694598\n",
            "MAE points:  0.9101835263050987\n",
            "R2 Score:  0.39427964043470054\n",
            "\n",
            "REVIEW PREMIUM WITH THE SAME MINS\n",
            "Samples 9846\n",
            "RMSE points:  1.9016834647227703\n",
            "MAE points:  0.9166016656510259\n",
            "R2 Score:  0.4111304948898815\n",
            "\n",
            "REVIEW PREMIUM\n",
            "Samples 9846\n",
            "RMSE points:  1.8967144468984594\n",
            "MAE points:  0.9128547633556775\n",
            "R2 Score:  0.4142038561826602\n",
            "\n",
            "REVIEW FREE\n",
            "Samples 9846\n",
            "RMSE points:  1.9011202162622136\n",
            "MAE points:  0.9167061750964858\n",
            "R2 Score:  0.4114792708341659\n",
            "\n",
            "MIKKEL\n",
            "Samples 9846\n",
            "RMSE points:  1.9452137336633057\n",
            "MAE points:  0.9269043266301035\n",
            "R2 Score:  0.3838630442760437\n",
            "\n",
            "FFFIX\n",
            "Samples 9846\n",
            "RMSE points:  1.9789291441022925\n",
            "MAE points:  0.965181766199472\n",
            "R2 Score:  0.36231956383292374\n"
          ]
        }
      ],
      "source": [
        "'''\n",
        "#HAULS/BLANKS\n",
        "haul = 6\n",
        "alex_aux = alex[alex['rP']>=haul]\n",
        "rev_premium_aux = rev_premium[rev_premium['rP']>=haul]\n",
        "review_premium_aux = review_premium[review_premium['rP']>=haul]\n",
        "review_free_aux = review_free[review_free['rP']>=haul]\n",
        "mikkel_aux = mikkel[mikkel['rP']>=haul]\n",
        "fffix_aux = fffix[fffix['rP']>=haul]\n",
        "'''\n",
        "s = 0\n",
        "e = 91\n",
        "alex_aux = alex[(alex['pMin']>=s) & (alex['pMin']<=e)]\n",
        "rev_premium_aux = rev_premium[(rev_premium['pMin']>=s) & (rev_premium['pMin']<=e)]\n",
        "review_premium_aux = review_premium[(review_premium['pMin']>=s) & (review_premium['pMin']<=e)]\n",
        "review_free_aux = review_free[(review_free['pMin']>=s) & (review_free['pMin']<=e)]\n",
        "mikkel_aux = mikkel[(mikkel['pMin']>=s) & (mikkel['pMin']<=e)]\n",
        "fffix_aux = fffix[(fffix['pMin']>=s) & (fffix['pMin']<=e)]\n",
        "'''\n",
        "#BY MINUTES\n",
        "s = 0\n",
        "e = 90\n",
        "alex_aux = alex[(alex['rMin']>=s) & (alex['rMin']<=e)]\n",
        "rev_premium_aux = rev_premium[(rev_premium['rMin']>=s) & (rev_premium['rMin']<=e)]\n",
        "review_premium_aux = review_premium[(review_premium['rMin']>=s) & (review_premium['rMin']<=e)]\n",
        "review_free_aux = review_free[(review_free['rMin']>=s) & (review_free['rMin']<=e)]\n",
        "mikkel_aux = mikkel[(mikkel['rMin']>=s) & (mikkel['rMin']<=e)]\n",
        "fffix_aux = fffix[(fffix['rMin']>=s) & (fffix['rMin']<=e)]\n",
        "'''\n",
        "'''\n",
        "#BY POSITION\n",
        "pos = 'F'\n",
        "alex_aux = alex[alex['Pos']==pos]\n",
        "rev_premium_aux = rev_premium[rev_premium['Pos']==pos]\n",
        "review_premium_aux = review_premium[review_premium['Pos']==pos]               \n",
        "'''\n",
        "'''\n",
        "#BIG HITTERS\n",
        "alex_aux = alex[(alex['id']==318) | (alex['id']==283) | (alex['id']==124) | (alex['id']==427) | (alex['id']==357) | (alex['id']==133) | (alex['id']==13)]\n",
        "rev_premium_aux = rev_premium[(rev_premium['id']==318) | (rev_premium['id']==283) | (rev_premium['id']==124) | (rev_premium['id']==427) | (rev_premium['id']==357) | (rev_premium['id']==133) | (rev_premium['id']==13)]\n",
        "review_premium_aux = review_premium[(review_premium['id']==318) | (review_premium['id']==283) | (review_premium['id']==124) | (review_premium['id']==427) | (review_premium['id']==357) | (review_premium['id']==133) | (review_premium['id']==13)]\n",
        "mikkel_aux = mikkel[(mikkel['id']==318) | (mikkel['id']==283) | (mikkel['id']==124) | (mikkel['id']==427) | (mikkel['id']==357) | (mikkel['id']==133) | (mikkel['id']==13)]\n",
        "fffix_aux = fffix[(fffix['id']==318) | (fffix['id']==283) | (fffix['id']==124) | (fffix['id']==427) | (fffix['id']==357) | (fffix['id']==133) | (fffix['id']==13)]\n",
        "'''\n",
        "'''\n",
        "#BY TEAM\n",
        "team = 'Man City'\n",
        "alex_aux = alex[alex['Team']==team]\n",
        "rev_premium_aux = rev_premium[rev_premium['Team']==team]\n",
        "review_premium_aux = review_premium[review_premium['Team']==team] \n",
        "'''\n",
        "start_gw = 26\n",
        "end_gw = 38\n",
        "print('ALEX')\n",
        "results(alex_aux, start_gw, end_gw)\n",
        "print()\n",
        "print('REVIEW PREMIUM WITH THE SAME MINS')\n",
        "results(rev_premium_aux, start_gw, end_gw)\n",
        "print()\n",
        "print('REVIEW PREMIUM')\n",
        "results(review_premium_aux, start_gw, end_gw)\n",
        "print()\n",
        "print('REVIEW FREE')\n",
        "results(review_free_aux, start_gw, end_gw)\n",
        "print()\n",
        "print('MIKKEL')\n",
        "results(mikkel_aux, start_gw, end_gw)\n",
        "print()\n",
        "print('FFFIX')\n",
        "results(fffix_aux, start_gw, end_gw)"
      ]
    },
    {
      "attachments": {},
      "cell_type": "markdown",
      "metadata": {},
      "source": [
        "### Graphs"
      ]
    },
    {
      "cell_type": "code",
      "execution_count": 29,
      "metadata": {},
      "outputs": [],
      "source": [
        "import pandas as pd\n",
        "\n",
        "npg_dataset_final = pd.read_csv('./created_datasets/npg_dataset.csv')\n",
        "assists_dataset = pd.read_csv('./created_datasets/assists_dataset538.csv')\n",
        "pens_dataset = pd.read_csv('./created_datasets/pens_dataset.csv')\n",
        "saves_dataset = pd.read_csv('./created_datasets/saves_dataset.csv')\n",
        "bps_dataset = pd.read_csv('./created_datasets/bps_dataset.csv')\n"
      ]
    },
    {
      "cell_type": "code",
      "execution_count": 36,
      "metadata": {},
      "outputs": [
        {
          "data": {
            "text/html": [
              "<div>\n",
              "<style scoped>\n",
              "    .dataframe tbody tr th:only-of-type {\n",
              "        vertical-align: middle;\n",
              "    }\n",
              "\n",
              "    .dataframe tbody tr th {\n",
              "        vertical-align: top;\n",
              "    }\n",
              "\n",
              "    .dataframe thead th {\n",
              "        text-align: right;\n",
              "    }\n",
              "</style>\n",
              "<table border=\"1\" class=\"dataframe\">\n",
              "  <thead>\n",
              "    <tr style=\"text-align: right;\">\n",
              "      <th></th>\n",
              "      <th>bonusp90</th>\n",
              "      <th>position</th>\n",
              "      <th>npxGp90</th>\n",
              "      <th>xAp90</th>\n",
              "      <th>npxGAp90</th>\n",
              "      <th>opp_npxGp90</th>\n",
              "      <th>opp_npxGAp90</th>\n",
              "      <th>minutes</th>\n",
              "      <th>was_home</th>\n",
              "      <th>bonus</th>\n",
              "    </tr>\n",
              "  </thead>\n",
              "  <tbody>\n",
              "    <tr>\n",
              "      <th>0</th>\n",
              "      <td>0.000000</td>\n",
              "      <td>3</td>\n",
              "      <td>0.047185</td>\n",
              "      <td>0.021487</td>\n",
              "      <td>1.603144</td>\n",
              "      <td>1.240624</td>\n",
              "      <td>1.193515</td>\n",
              "      <td>85</td>\n",
              "      <td>False</td>\n",
              "      <td>0</td>\n",
              "    </tr>\n",
              "    <tr>\n",
              "      <th>1</th>\n",
              "      <td>0.000000</td>\n",
              "      <td>3</td>\n",
              "      <td>0.058353</td>\n",
              "      <td>0.029282</td>\n",
              "      <td>1.628964</td>\n",
              "      <td>0.811236</td>\n",
              "      <td>1.841220</td>\n",
              "      <td>88</td>\n",
              "      <td>False</td>\n",
              "      <td>0</td>\n",
              "    </tr>\n",
              "    <tr>\n",
              "      <th>2</th>\n",
              "      <td>0.000000</td>\n",
              "      <td>3</td>\n",
              "      <td>0.176132</td>\n",
              "      <td>0.060163</td>\n",
              "      <td>1.601297</td>\n",
              "      <td>2.022634</td>\n",
              "      <td>0.946348</td>\n",
              "      <td>82</td>\n",
              "      <td>True</td>\n",
              "      <td>0</td>\n",
              "    </tr>\n",
              "    <tr>\n",
              "      <th>3</th>\n",
              "      <td>0.000000</td>\n",
              "      <td>3</td>\n",
              "      <td>0.151468</td>\n",
              "      <td>0.059391</td>\n",
              "      <td>1.619451</td>\n",
              "      <td>1.368077</td>\n",
              "      <td>1.051573</td>\n",
              "      <td>58</td>\n",
              "      <td>False</td>\n",
              "      <td>0</td>\n",
              "    </tr>\n",
              "    <tr>\n",
              "      <th>4</th>\n",
              "      <td>0.000000</td>\n",
              "      <td>3</td>\n",
              "      <td>0.137636</td>\n",
              "      <td>0.053967</td>\n",
              "      <td>1.679854</td>\n",
              "      <td>1.457483</td>\n",
              "      <td>1.170328</td>\n",
              "      <td>22</td>\n",
              "      <td>True</td>\n",
              "      <td>0</td>\n",
              "    </tr>\n",
              "    <tr>\n",
              "      <th>...</th>\n",
              "      <td>...</td>\n",
              "      <td>...</td>\n",
              "      <td>...</td>\n",
              "      <td>...</td>\n",
              "      <td>...</td>\n",
              "      <td>...</td>\n",
              "      <td>...</td>\n",
              "      <td>...</td>\n",
              "      <td>...</td>\n",
              "      <td>...</td>\n",
              "    </tr>\n",
              "    <tr>\n",
              "      <th>47538</th>\n",
              "      <td>0.400000</td>\n",
              "      <td>1</td>\n",
              "      <td>0.000000</td>\n",
              "      <td>0.000000</td>\n",
              "      <td>1.283912</td>\n",
              "      <td>1.081400</td>\n",
              "      <td>1.590443</td>\n",
              "      <td>90</td>\n",
              "      <td>False</td>\n",
              "      <td>0</td>\n",
              "    </tr>\n",
              "    <tr>\n",
              "      <th>47539</th>\n",
              "      <td>0.375000</td>\n",
              "      <td>1</td>\n",
              "      <td>0.000000</td>\n",
              "      <td>0.000000</td>\n",
              "      <td>1.280326</td>\n",
              "      <td>1.548264</td>\n",
              "      <td>1.137279</td>\n",
              "      <td>90</td>\n",
              "      <td>True</td>\n",
              "      <td>0</td>\n",
              "    </tr>\n",
              "    <tr>\n",
              "      <th>47540</th>\n",
              "      <td>0.352941</td>\n",
              "      <td>1</td>\n",
              "      <td>0.000000</td>\n",
              "      <td>0.000000</td>\n",
              "      <td>1.348970</td>\n",
              "      <td>1.102438</td>\n",
              "      <td>1.352085</td>\n",
              "      <td>90</td>\n",
              "      <td>False</td>\n",
              "      <td>0</td>\n",
              "    </tr>\n",
              "    <tr>\n",
              "      <th>47541</th>\n",
              "      <td>0.333333</td>\n",
              "      <td>1</td>\n",
              "      <td>0.000000</td>\n",
              "      <td>0.000000</td>\n",
              "      <td>1.331375</td>\n",
              "      <td>1.026986</td>\n",
              "      <td>1.105956</td>\n",
              "      <td>90</td>\n",
              "      <td>True</td>\n",
              "      <td>3</td>\n",
              "    </tr>\n",
              "    <tr>\n",
              "      <th>47542</th>\n",
              "      <td>0.473684</td>\n",
              "      <td>1</td>\n",
              "      <td>0.000000</td>\n",
              "      <td>0.000000</td>\n",
              "      <td>1.299992</td>\n",
              "      <td>2.093865</td>\n",
              "      <td>0.840165</td>\n",
              "      <td>90</td>\n",
              "      <td>False</td>\n",
              "      <td>0</td>\n",
              "    </tr>\n",
              "  </tbody>\n",
              "</table>\n",
              "<p>47543 rows × 10 columns</p>\n",
              "</div>"
            ],
            "text/plain": [
              "       bonusp90  position   npxGp90     xAp90  npxGAp90  opp_npxGp90  \\\n",
              "0      0.000000         3  0.047185  0.021487  1.603144     1.240624   \n",
              "1      0.000000         3  0.058353  0.029282  1.628964     0.811236   \n",
              "2      0.000000         3  0.176132  0.060163  1.601297     2.022634   \n",
              "3      0.000000         3  0.151468  0.059391  1.619451     1.368077   \n",
              "4      0.000000         3  0.137636  0.053967  1.679854     1.457483   \n",
              "...         ...       ...       ...       ...       ...          ...   \n",
              "47538  0.400000         1  0.000000  0.000000  1.283912     1.081400   \n",
              "47539  0.375000         1  0.000000  0.000000  1.280326     1.548264   \n",
              "47540  0.352941         1  0.000000  0.000000  1.348970     1.102438   \n",
              "47541  0.333333         1  0.000000  0.000000  1.331375     1.026986   \n",
              "47542  0.473684         1  0.000000  0.000000  1.299992     2.093865   \n",
              "\n",
              "       opp_npxGAp90  minutes  was_home  bonus  \n",
              "0          1.193515       85     False      0  \n",
              "1          1.841220       88     False      0  \n",
              "2          0.946348       82      True      0  \n",
              "3          1.051573       58     False      0  \n",
              "4          1.170328       22      True      0  \n",
              "...             ...      ...       ...    ...  \n",
              "47538      1.590443       90     False      0  \n",
              "47539      1.137279       90      True      0  \n",
              "47540      1.352085       90     False      0  \n",
              "47541      1.105956       90      True      3  \n",
              "47542      0.840165       90     False      0  \n",
              "\n",
              "[47543 rows x 10 columns]"
            ]
          },
          "execution_count": 36,
          "metadata": {},
          "output_type": "execute_result"
        }
      ],
      "source": [
        "bps_dataset"
      ]
    },
    {
      "cell_type": "code",
      "execution_count": 37,
      "metadata": {},
      "outputs": [
        {
          "data": {
            "image/png": "[encoded data removed]",
            "text/plain": [
              "<Figure size 720x432 with 1 Axes>"
            ]
          },
          "metadata": {},
          "output_type": "display_data"
        }
      ],
      "source": [
        "from modules.graphs  import count_barplot\n",
        "bps_dataset_aux = bps_dataset[bps_dataset['minutes']>0]\n",
        "count_barplot(bps_dataset_aux['bonus'].value_counts(), 'bonus')"
      ]
    },
    {
      "cell_type": "code",
      "execution_count": 23,
      "metadata": {},
      "outputs": [
        {
          "data": {
            "image/png": "[encoded data removed]",
            "text/plain": [
              "<Figure size 576x432 with 1 Axes>"
            ]
          },
          "metadata": {},
          "output_type": "display_data"
        }
      ],
      "source": [
        "from modules.graphs  import scatterplot\n",
        "\n",
        "pens_dataset_aux = pens_dataset[pens_dataset['pen_rate']<0.5]\n",
        "scatterplot(pens_dataset_aux, 'pen_rate', 'proj_goals', 'team_pens')"
      ]
    },
    {
      "cell_type": "code",
      "execution_count": null,
      "metadata": {},
      "outputs": [],
      "source": [
        "from modules.graphs  import scatterplot\n",
        "\n",
        "assists_dataset_aux = assists_dataset[(assists_dataset['xAp90l100']<0.7) & (assists_dataset['assist_ratel100']<0.7)]\n",
        "scatterplot(pens_dataset, 'pen_rate', 'spi_opp_team', 'team_pens')"
      ]
    },
    {
      "cell_type": "code",
      "execution_count": 35,
      "metadata": {},
      "outputs": [
        {
          "data": {
            "image/png": "[encoded data removed]",
            "text/plain": [
              "<Figure size 864x576 with 5 Axes>"
            ]
          },
          "metadata": {},
          "output_type": "display_data"
        }
      ],
      "source": [
        "from modules.graphs  import plot_percentages\n",
        "\n",
        "saves_dataset_aux = saves_dataset[saves_dataset['minutes']>0]\n",
        "plot_percentages(saves_dataset_aux, 'opp_proj_goals', 0, 2.5, 0.5, 'saves')"
      ]
    }
  ],
  "metadata": {
    "colab": {
      "collapsed_sections": [],
      "provenance": []
    },
    "kernelspec": {
      "display_name": "Python 3.9.5 64-bit",
      "language": "python",
      "name": "python3"
    },
    "language_info": {
      "codemirror_mode": {
        "name": "ipython",
        "version": 3
      },
      "file_extension": ".py",
      "mimetype": "text/x-python",
      "name": "python",
      "nbconvert_exporter": "python",
      "pygments_lexer": "ipython3",
      "version": "3.9.5"
    },
    "vscode": {
      "interpreter": {
        "hash": "cf92aa13fedf815d5c8dd192b8d835913fde3e8bc926b2a0ad6cc74ef2ba3ca2"
      }
    }
  },
  "nbformat": 4,
  "nbformat_minor": 0
}
