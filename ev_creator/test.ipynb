{
 "cells": [
  {
   "cell_type": "code",
   "execution_count": 1,
   "metadata": {},
   "outputs": [
    {
     "name": "stdout",
     "output_type": "stream",
     "text": [
      "Requirement already satisfied: nest_asyncio in c:\\users\\user\\appdata\\local\\programs\\python\\python39\\lib\\site-packages (1.5.5)\n"
     ]
    },
    {
     "name": "stderr",
     "output_type": "stream",
     "text": [
      "WARNING: You are using pip version 21.1.1; however, version 23.1.2 is available.\n",
      "You should consider upgrading via the 'c:\\users\\user\\appdata\\local\\programs\\python\\python39\\python.exe -m pip install --upgrade pip' command.\n"
     ]
    }
   ],
   "source": [
    "!pip install nest_asyncio"
   ]
  },
  {
   "cell_type": "code",
   "execution_count": 1,
   "metadata": {},
   "outputs": [],
   "source": [
    "import nest_asyncio\n",
    "nest_asyncio.apply()"
   ]
  },
  {
   "cell_type": "code",
   "execution_count": 8,
   "metadata": {},
   "outputs": [],
   "source": [
    "import asyncio\n",
    "import json\n",
    "import pandas as pd\n",
    "import aiohttp\n",
    "import time\n",
    "import tqdm\n",
    "\n",
    "from understat import Understat\n",
    "\n",
    "\n",
    "# understat file for player id 1228\n",
    "async def player_understat_file(id):\n",
    "    async with aiohttp.ClientSession() as session:\n",
    "        understat = Understat(session)\n",
    "        # Using **kwargs\n",
    "        player_matches = await understat.get_player_matches(id)\n",
    "        player_matches = pd.DataFrame(player_matches)\n",
    "        cols=[i for i in player_matches.columns if i not in ['position', 'h_team', 'a_team', 'date']]\n",
    "        for col in cols:\n",
    "            player_matches[col]=pd.to_numeric(player_matches[col])\n",
    "        return player_matches\n",
    "        \n",
    "\n",
    "loop = asyncio.get_event_loop()\n",
    "for i in range(100):\n",
    "    time.sleep(0.5)\n",
    "    df = loop.run_until_complete(player_understat_file(6482))\n",
    "\n",
    "    \n"
   ]
  },
  {
   "cell_type": "code",
   "execution_count": 18,
   "metadata": {},
   "outputs": [],
   "source": [
    "import asyncio\n",
    "import json\n",
    "import pandas as pd\n",
    "import aiohttp\n",
    "import time\n",
    "import tqdm\n",
    "\n",
    "from understat import Understat\n",
    "\n",
    "async def main():\n",
    "    async with aiohttp.ClientSession() as session:\n",
    "        understat = Understat(session)\n",
    "        players = await understat.get_league_players(\n",
    "            \"epl\", 2023\n",
    "        )\n",
    "        return players\n",
    "    \n",
    "loop = asyncio.get_event_loop()\n",
    "df = loop.run_until_complete(main())"
   ]
  },
  {
   "cell_type": "code",
   "execution_count": 2,
   "metadata": {},
   "outputs": [],
   "source": [
    "# understat file for a specific team for a specific season\n",
    "async def team_understat_file(team, season):\n",
    "    async with aiohttp.ClientSession() as session:\n",
    "        understat = Understat(session)\n",
    "        teams = await understat.get_teams(\n",
    "            \"epl\",\n",
    "            season,\n",
    "            title=team\n",
    "        )\n",
    "        return pd.DataFrame(teams[0]['history'])\n"
   ]
  },
  {
   "cell_type": "code",
   "execution_count": 10,
   "metadata": {},
   "outputs": [
    {
     "data": {
      "text/html": [
       "<div>\n",
       "<style scoped>\n",
       "    .dataframe tbody tr th:only-of-type {\n",
       "        vertical-align: middle;\n",
       "    }\n",
       "\n",
       "    .dataframe tbody tr th {\n",
       "        vertical-align: top;\n",
       "    }\n",
       "\n",
       "    .dataframe thead th {\n",
       "        text-align: right;\n",
       "    }\n",
       "</style>\n",
       "<table border=\"1\" class=\"dataframe\">\n",
       "  <thead>\n",
       "    <tr style=\"text-align: right;\">\n",
       "      <th></th>\n",
       "    </tr>\n",
       "  </thead>\n",
       "  <tbody>\n",
       "  </tbody>\n",
       "</table>\n",
       "</div>"
      ],
      "text/plain": [
       "Empty DataFrame\n",
       "Columns: []\n",
       "Index: []"
      ]
     },
     "execution_count": 10,
     "metadata": {},
     "output_type": "execute_result"
    }
   ],
   "source": [
    "import asyncio\n",
    "import json\n",
    "import pandas as pd\n",
    "import aiohttp\n",
    "from understat import Understat\n",
    "\n",
    "loop = asyncio.get_event_loop()\n",
    "loop.run_until_complete(team_understat_file('Luton', 2023))"
   ]
  },
  {
   "cell_type": "code",
   "execution_count": 11,
   "metadata": {},
   "outputs": [],
   "source": [
    "season = '2022-23'\n",
    "loop = asyncio.get_event_loop()\n",
    "\n",
    "Arsenal_stats_df = loop.run_until_complete(team_understat_file('Arsenal', int(season[:4])))\n",
    "Aston_Villa_stats_df = loop.run_until_complete(team_understat_file('Aston Villa', int(season[:4])))\n",
    "Brentford_stats_df = loop.run_until_complete(team_understat_file('Brentford', int(season[:4])))"
   ]
  },
  {
   "cell_type": "code",
   "execution_count": null,
   "metadata": {},
   "outputs": [],
   "source": [
    "    import requests    \n",
    "    PATH = '../data/Fantasy-Premier-League/data/'    \n",
    "    url = 'https://fantasy.premierleague.com/api/fixtures/'\n",
    "    fixtures = {\n",
    "        '2019-20': pd.read_csv(PATH + '2019-20/fixtures.csv'),\n",
    "        '2020-21': pd.read_csv(PATH + '2020-21/fixtures.csv'),\n",
    "        '2021-22': pd.read_csv(PATH + '2021-22/fixtures.csv'),\n",
    "        '2022-23': pd.json_normalize(requests.get(url).json())\n",
    "    }\n",
    "\n",
    "    url = 'https://fantasy.premierleague.com/api/bootstrap-static/'\n",
    "    players_raw = {\n",
    "        '2019-20': pd.read_csv(PATH + '2019-20/players_raw.csv'),\n",
    "        '2020-21': pd.read_csv(PATH + '2020-21/players_raw.csv'),\n",
    "        '2021-22': pd.read_csv(PATH + '2021-22/players_raw.csv'),\n",
    "        '2022-23': pd.DataFrame(requests.get(url).json()['elements'])\n",
    "    }\n",
    "\n",
    "    teams = {\n",
    "        '2019-20': pd.read_csv(PATH + '2019-20/teams.csv'),\n",
    "        '2020-21': pd.read_csv(PATH + '2020-21/teams.csv'),\n",
    "        '2021-22': pd.read_csv(PATH + '2021-22/teams.csv'),\n",
    "        '2022-23': pd.DataFrame(requests.get(url).json()['teams'])\n",
    "    }"
   ]
  },
  {
   "cell_type": "code",
   "execution_count": 2,
   "metadata": {},
   "outputs": [],
   "source": [
    "import pandas as pd\n",
    "import requests\n",
    "\n",
    "url = 'https://fantasy.premierleague.com/api/bootstrap-static/'\n",
    "df = pd.DataFrame(requests.get(url).json()['elements'])"
   ]
  },
  {
   "cell_type": "code",
   "execution_count": 7,
   "metadata": {},
   "outputs": [
    {
     "data": {
      "text/plain": [
       "0           Folarin\n",
       "1            Cédric\n",
       "2           Mohamed\n",
       "3             Fábio\n",
       "4           Gabriel\n",
       "           ...     \n",
       "589          Matija\n",
       "590          Nélson\n",
       "591    Toti António\n",
       "592        Boubacar\n",
       "593         Matheus\n",
       "Name: first_name, Length: 594, dtype: object"
      ]
     },
     "execution_count": 7,
     "metadata": {},
     "output_type": "execute_result"
    }
   ],
   "source": [
    "df['first_name']"
   ]
  },
  {
   "cell_type": "code",
   "execution_count": 3,
   "metadata": {},
   "outputs": [],
   "source": [
    "import pandas as pd\n",
    "import requests\n",
    "\n",
    "url = 'https://fantasy.premierleague.com/api/bootstrap-static/'\n",
    "df = pd.DataFrame(requests.get(url).json()['elements'])\n"
   ]
  },
  {
   "cell_type": "code",
   "execution_count": 6,
   "metadata": {},
   "outputs": [
    {
     "data": {
      "text/plain": [
       "Index(['chance_of_playing_next_round', 'chance_of_playing_this_round', 'code',\n",
       "       'cost_change_event', 'cost_change_event_fall', 'cost_change_start',\n",
       "       'cost_change_start_fall', 'dreamteam_count', 'element_type', 'ep_next',\n",
       "       'ep_this', 'event_points', 'first_name', 'form', 'id', 'in_dreamteam',\n",
       "       'news', 'news_added', 'now_cost', 'photo', 'points_per_game',\n",
       "       'second_name', 'selected_by_percent', 'special', 'squad_number',\n",
       "       'status', 'team', 'team_code', 'total_points', 'transfers_in',\n",
       "       'transfers_in_event', 'transfers_out', 'transfers_out_event',\n",
       "       'value_form', 'value_season', 'web_name', 'minutes', 'goals_scored',\n",
       "       'assists', 'clean_sheets', 'goals_conceded', 'own_goals',\n",
       "       'penalties_saved', 'penalties_missed', 'yellow_cards', 'red_cards',\n",
       "       'saves', 'bonus', 'bps', 'influence', 'creativity', 'threat',\n",
       "       'ict_index', 'starts', 'expected_goals', 'expected_assists',\n",
       "       'expected_goal_involvements', 'expected_goals_conceded',\n",
       "       'influence_rank', 'influence_rank_type', 'creativity_rank',\n",
       "       'creativity_rank_type', 'threat_rank', 'threat_rank_type',\n",
       "       'ict_index_rank', 'ict_index_rank_type',\n",
       "       'corners_and_indirect_freekicks_order',\n",
       "       'corners_and_indirect_freekicks_text', 'direct_freekicks_order',\n",
       "       'direct_freekicks_text', 'penalties_order', 'penalties_text',\n",
       "       'expected_goals_per_90', 'saves_per_90', 'expected_assists_per_90',\n",
       "       'expected_goal_involvements_per_90', 'expected_goals_conceded_per_90',\n",
       "       'goals_conceded_per_90', 'now_cost_rank', 'now_cost_rank_type',\n",
       "       'form_rank', 'form_rank_type', 'points_per_game_rank',\n",
       "       'points_per_game_rank_type', 'selected_rank', 'selected_rank_type',\n",
       "       'starts_per_90', 'clean_sheets_per_90'],\n",
       "      dtype='object')"
      ]
     },
     "execution_count": 6,
     "metadata": {},
     "output_type": "execute_result"
    }
   ],
   "source": [
    "df.keys()"
   ]
  },
  {
   "cell_type": "code",
   "execution_count": 3,
   "metadata": {},
   "outputs": [
    {
     "data": {
      "text/plain": [
       "Index(['chance_of_playing_next_round', 'chance_of_playing_this_round', 'code',\n",
       "       'cost_change_event', 'cost_change_event_fall', 'cost_change_start',\n",
       "       'cost_change_start_fall', 'dreamteam_count', 'element_type', 'ep_next',\n",
       "       'ep_this', 'event_points', 'first_name', 'form', 'id', 'in_dreamteam',\n",
       "       'news', 'news_added', 'now_cost', 'photo', 'points_per_game',\n",
       "       'second_name', 'selected_by_percent', 'special', 'squad_number',\n",
       "       'status', 'team', 'team_code', 'total_points', 'transfers_in',\n",
       "       'transfers_in_event', 'transfers_out', 'transfers_out_event',\n",
       "       'value_form', 'value_season', 'web_name', 'minutes', 'goals_scored',\n",
       "       'assists', 'clean_sheets', 'goals_conceded', 'own_goals',\n",
       "       'penalties_saved', 'penalties_missed', 'yellow_cards', 'red_cards',\n",
       "       'saves', 'bonus', 'bps', 'influence', 'creativity', 'threat',\n",
       "       'ict_index', 'starts', 'expected_goals', 'expected_assists',\n",
       "       'expected_goal_involvements', 'expected_goals_conceded',\n",
       "       'influence_rank', 'influence_rank_type', 'creativity_rank',\n",
       "       'creativity_rank_type', 'threat_rank', 'threat_rank_type',\n",
       "       'ict_index_rank', 'ict_index_rank_type',\n",
       "       'corners_and_indirect_freekicks_order',\n",
       "       'corners_and_indirect_freekicks_text', 'direct_freekicks_order',\n",
       "       'direct_freekicks_text', 'penalties_order', 'penalties_text',\n",
       "       'expected_goals_per_90', 'saves_per_90', 'expected_assists_per_90',\n",
       "       'expected_goal_involvements_per_90', 'expected_goals_conceded_per_90',\n",
       "       'goals_conceded_per_90', 'now_cost_rank', 'now_cost_rank_type',\n",
       "       'form_rank', 'form_rank_type', 'points_per_game_rank',\n",
       "       'points_per_game_rank_type', 'selected_rank', 'selected_rank_type',\n",
       "       'starts_per_90', 'clean_sheets_per_90'],\n",
       "      dtype='object')"
      ]
     },
     "execution_count": 3,
     "metadata": {},
     "output_type": "execute_result"
    }
   ],
   "source": [
    "import pandas as pd\n",
    "import requests\n",
    "\n",
    "url = 'https://fantasy.premierleague.com/api/bootstrap-static/'\n",
    "pd.DataFrame(requests.get(url).json()['elements']).keys()"
   ]
  },
  {
   "cell_type": "code",
   "execution_count": 22,
   "metadata": {},
   "outputs": [],
   "source": [
    "import requests\n",
    "import pandas as pd\n",
    "\n",
    "id = 11\n",
    "url = 'https://fantasy.premierleague.com/api/element-summary/' + str(id) + '/'\n",
    "\n",
    "df = pd.DataFrame(requests.get(url).json()['history']) #gw.csv\n",
    "#pd.DataFrame(requests.get(url).json()['history_past']) #history.csv"
   ]
  },
  {
   "cell_type": "code",
   "execution_count": 23,
   "metadata": {},
   "outputs": [
    {
     "data": {
      "text/html": [
       "<div>\n",
       "<style scoped>\n",
       "    .dataframe tbody tr th:only-of-type {\n",
       "        vertical-align: middle;\n",
       "    }\n",
       "\n",
       "    .dataframe tbody tr th {\n",
       "        vertical-align: top;\n",
       "    }\n",
       "\n",
       "    .dataframe thead th {\n",
       "        text-align: right;\n",
       "    }\n",
       "</style>\n",
       "<table border=\"1\" class=\"dataframe\">\n",
       "  <thead>\n",
       "    <tr style=\"text-align: right;\">\n",
       "      <th></th>\n",
       "    </tr>\n",
       "  </thead>\n",
       "  <tbody>\n",
       "  </tbody>\n",
       "</table>\n",
       "</div>"
      ],
      "text/plain": [
       "Empty DataFrame\n",
       "Columns: []\n",
       "Index: []"
      ]
     },
     "execution_count": 23,
     "metadata": {},
     "output_type": "execute_result"
    }
   ],
   "source": [
    "df"
   ]
  },
  {
   "cell_type": "code",
   "execution_count": null,
   "metadata": {},
   "outputs": [],
   "source": [
    "url = 'https://fantasy.premierleague.com/api/bootstrap-static/'\n",
    "pd.DataFrame(requests.get(url).json()['teams']) #teams.csv\n",
    "pd.DataFrame(requests.get(url).json()['elements']) #players_raw.csv\n",
    "pd.DataFrame(requests.get(url).json()['events']) #events.csv extra"
   ]
  },
  {
   "cell_type": "code",
   "execution_count": null,
   "metadata": {},
   "outputs": [],
   "source": [
    "url = 'https://fantasy.premierleague.com/api/fixtures/'\n",
    "pd.json_normalize(requests.get(url).json())"
   ]
  },
  {
   "cell_type": "code",
   "execution_count": null,
   "metadata": {},
   "outputs": [],
   "source": [
    "!python -m pip install soccerdata"
   ]
  },
  {
   "cell_type": "code",
   "execution_count": null,
   "metadata": {},
   "outputs": [],
   "source": [
    "import soccerdata as sd\n",
    "\n",
    "fbref = sd.FBref(data_dir=\"/tmp\", no_cache=True, no_store=True)"
   ]
  }
 ],
 "metadata": {
  "kernelspec": {
   "display_name": "Python 3",
   "language": "python",
   "name": "python3"
  },
  "language_info": {
   "codemirror_mode": {
    "name": "ipython",
    "version": 3
   },
   "file_extension": ".py",
   "mimetype": "text/x-python",
   "name": "python",
   "nbconvert_exporter": "python",
   "pygments_lexer": "ipython3",
   "version": "3.9.5"
  },
  "orig_nbformat": 4,
  "vscode": {
   "interpreter": {
    "hash": "cf92aa13fedf815d5c8dd192b8d835913fde3e8bc926b2a0ad6cc74ef2ba3ca2"
   }
  }
 },
 "nbformat": 4,
 "nbformat_minor": 2
}
