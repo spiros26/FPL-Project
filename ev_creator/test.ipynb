{
 "cells": [
  {
   "cell_type": "code",
   "execution_count": 2,
   "metadata": {},
   "outputs": [
    {
     "name": "stdout",
     "output_type": "stream",
     "text": [
      "Requirement already satisfied: nest_asyncio in c:\\users\\user\\appdata\\local\\programs\\python\\python39\\lib\\site-packages (1.5.5)\n"
     ]
    },
    {
     "name": "stderr",
     "output_type": "stream",
     "text": [
      "WARNING: You are using pip version 21.1.1; however, version 22.3.1 is available.\n",
      "You should consider upgrading via the 'c:\\users\\user\\appdata\\local\\programs\\python\\python39\\python.exe -m pip install --upgrade pip' command.\n"
     ]
    }
   ],
   "source": [
    "!pip install nest_asyncio"
   ]
  },
  {
   "cell_type": "code",
   "execution_count": 5,
   "metadata": {},
   "outputs": [],
   "source": [
    "import nest_asyncio\n",
    "nest_asyncio.apply()"
   ]
  },
  {
   "cell_type": "code",
   "execution_count": 8,
   "metadata": {},
   "outputs": [],
   "source": [
    "import asyncio\n",
    "import json\n",
    "import pandas as pd\n",
    "import aiohttp\n",
    "\n",
    "from understat import Understat\n",
    "\n",
    "\n",
    "# understat file for player id 1228\n",
    "async def player_understat_file(id):\n",
    "    async with aiohttp.ClientSession() as session:\n",
    "        understat = Understat(session)\n",
    "        # Using **kwargs\n",
    "        player_matches = await understat.get_player_matches(id)\n",
    "        player_matches = pd.DataFrame(player_matches)\n",
    "        cols=[i for i in player_matches.columns if i not in ['position', 'h_team', 'a_team', 'date']]\n",
    "        for col in cols:\n",
    "            player_matches[col]=pd.to_numeric(player_matches[col])\n",
    "        return player_matches\n",
    "        \n",
    "\n",
    "loop = asyncio.get_event_loop()\n",
    "df = loop.run_until_complete(player_understat_file(6482))\n",
    "df = loop.run_until_complete(player_understat_file(6483))\n",
    "df = loop.run_until_complete(player_understat_file(6484))\n",
    "    \n"
   ]
  },
  {
   "cell_type": "code",
   "execution_count": 10,
   "metadata": {},
   "outputs": [],
   "source": [
    "# understat file for a specific team for a specific season\n",
    "async def team_understat_file(team, season):\n",
    "    async with aiohttp.ClientSession() as session:\n",
    "        understat = Understat(session)\n",
    "        teams = await understat.get_teams(\n",
    "            \"epl\",\n",
    "            season,\n",
    "            title=team\n",
    "        )\n",
    "        return pd.DataFrame(teams[0]['history'])\n"
   ]
  },
  {
   "cell_type": "code",
   "execution_count": 11,
   "metadata": {},
   "outputs": [],
   "source": [
    "season = '2022-23'\n",
    "loop = asyncio.get_event_loop()\n",
    "\n",
    "Arsenal_stats_df = loop.run_until_complete(team_understat_file('Arsenal', int(season[:4])))\n",
    "Aston_Villa_stats_df = loop.run_until_complete(team_understat_file('Aston Villa', int(season[:4])))\n",
    "Brentford_stats_df = loop.run_until_complete(team_understat_file('Brentford', int(season[:4])))"
   ]
  },
  {
   "cell_type": "code",
   "execution_count": 16,
   "metadata": {},
   "outputs": [],
   "source": [
    "    import requests    \n",
    "    PATH = '../data/Fantasy-Premier-League/data/'    \n",
    "    url = 'https://fantasy.premierleague.com/api/fixtures/'\n",
    "    fixtures = {\n",
    "        '2019-20': pd.read_csv(PATH + '2019-20/fixtures.csv'),\n",
    "        '2020-21': pd.read_csv(PATH + '2020-21/fixtures.csv'),\n",
    "        '2021-22': pd.read_csv(PATH + '2021-22/fixtures.csv'),\n",
    "        '2022-23': pd.json_normalize(requests.get(url).json())\n",
    "    }\n",
    "\n",
    "    url = 'https://fantasy.premierleague.com/api/bootstrap-static/'\n",
    "    players_raw = {\n",
    "        '2019-20': pd.read_csv(PATH + '2019-20/players_raw.csv'),\n",
    "        '2020-21': pd.read_csv(PATH + '2020-21/players_raw.csv'),\n",
    "        '2021-22': pd.read_csv(PATH + '2021-22/players_raw.csv'),\n",
    "        '2022-23': pd.DataFrame(requests.get(url).json()['elements'])\n",
    "    }\n",
    "\n",
    "    teams = {\n",
    "        '2019-20': pd.read_csv(PATH + '2019-20/teams.csv'),\n",
    "        '2020-21': pd.read_csv(PATH + '2020-21/teams.csv'),\n",
    "        '2021-22': pd.read_csv(PATH + '2021-22/teams.csv'),\n",
    "        '2022-23': pd.DataFrame(requests.get(url).json()['teams'])\n",
    "    }"
   ]
  },
  {
   "cell_type": "code",
   "execution_count": 11,
   "metadata": {},
   "outputs": [],
   "source": [
    "import requests\n",
    "import pandas as pd\n",
    "\n",
    "id = 11\n",
    "url = 'https://fantasy.premierleague.com/api/element-summary/' + str(id) + '/'\n",
    "\n",
    "df = pd.DataFrame(requests.get(url).json()['history']) #gw.csv\n",
    "#pd.DataFrame(requests.get(url).json()['history_past']) #history.csv"
   ]
  },
  {
   "cell_type": "code",
   "execution_count": 35,
   "metadata": {},
   "outputs": [
    {
     "data": {
      "text/plain": [
       "1"
      ]
     },
     "execution_count": 35,
     "metadata": {},
     "output_type": "execute_result"
    }
   ],
   "source": [
    "df['assists'].iloc[0]"
   ]
  },
  {
   "cell_type": "code",
   "execution_count": null,
   "metadata": {},
   "outputs": [],
   "source": [
    "url = 'https://fantasy.premierleague.com/api/bootstrap-static/'\n",
    "pd.DataFrame(requests.get(url).json()['teams']) #teams.csv\n",
    "pd.DataFrame(requests.get(url).json()['elements']) #players_raw.csv\n",
    "pd.DataFrame(requests.get(url).json()['events']) #events.csv extra"
   ]
  },
  {
   "cell_type": "code",
   "execution_count": null,
   "metadata": {},
   "outputs": [],
   "source": [
    "url = 'https://fantasy.premierleague.com/api/fixtures/'\n",
    "pd.json_normalize(requests.get(url).json())"
   ]
  },
  {
   "cell_type": "code",
   "execution_count": null,
   "metadata": {},
   "outputs": [],
   "source": [
    "!python -m pip install soccerdata"
   ]
  },
  {
   "cell_type": "code",
   "execution_count": null,
   "metadata": {},
   "outputs": [],
   "source": [
    "import soccerdata as sd\n",
    "\n",
    "fbref = sd.FBref(data_dir=\"/tmp\", no_cache=True, no_store=True)"
   ]
  }
 ],
 "metadata": {
  "kernelspec": {
   "display_name": "Python 3",
   "language": "python",
   "name": "python3"
  },
  "language_info": {
   "codemirror_mode": {
    "name": "ipython",
    "version": 3
   },
   "file_extension": ".py",
   "mimetype": "text/x-python",
   "name": "python",
   "nbconvert_exporter": "python",
   "pygments_lexer": "ipython3",
   "version": "3.9.5"
  },
  "orig_nbformat": 4,
  "vscode": {
   "interpreter": {
    "hash": "cf92aa13fedf815d5c8dd192b8d835913fde3e8bc926b2a0ad6cc74ef2ba3ca2"
   }
  }
 },
 "nbformat": 4,
 "nbformat_minor": 2
}
