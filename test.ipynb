{
 "cells": [
  {
   "cell_type": "code",
   "execution_count": 2,
   "metadata": {},
   "outputs": [
    {
     "name": "stdout",
     "output_type": "stream",
     "text": [
      "Requirement already satisfied: nest_asyncio in c:\\users\\user\\appdata\\local\\programs\\python\\python39\\lib\\site-packages (1.5.5)\n"
     ]
    },
    {
     "name": "stderr",
     "output_type": "stream",
     "text": [
      "WARNING: You are using pip version 21.1.1; however, version 22.3.1 is available.\n",
      "You should consider upgrading via the 'c:\\users\\user\\appdata\\local\\programs\\python\\python39\\python.exe -m pip install --upgrade pip' command.\n"
     ]
    }
   ],
   "source": [
    "!pip install nest_asyncio"
   ]
  },
  {
   "cell_type": "code",
   "execution_count": 3,
   "metadata": {},
   "outputs": [],
   "source": [
    "import nest_asyncio\n",
    "nest_asyncio.apply()"
   ]
  },
  {
   "cell_type": "code",
   "execution_count": null,
   "metadata": {},
   "outputs": [],
   "source": [
    "import soccerdata as sd\n",
    "\n",
    "# Create scraper class instance for the Premier League\n",
    "five38 = sd.FiveThirtyEight('ENG-Premier League', '1819')\n",
    "\n",
    "# Fetch dataframes\n",
    "games = five38.read_games()"
   ]
  },
  {
   "cell_type": "code",
   "execution_count": null,
   "metadata": {},
   "outputs": [],
   "source": []
  },
  {
   "cell_type": "code",
   "execution_count": 5,
   "metadata": {},
   "outputs": [],
   "source": [
    "import asyncio\n",
    "import json\n",
    "import pandas as pd\n",
    "import aiohttp\n",
    "\n",
    "from understat import Understat\n",
    "\n",
    "# understat file for player id 1228\n",
    "df = pd.DataFrame()\n",
    "async def player_understat_file(id):\n",
    "    async with aiohttp.ClientSession() as session:\n",
    "        understat = Understat(session)\n",
    "        # Using **kwargs\n",
    "        player_matches = await understat.get_player_matches(id)\n",
    "        player_matches = pd.DataFrame(player_matches)\n",
    "        return player_matches\n",
    "        \n",
    "\n",
    "loop = asyncio.get_event_loop()\n",
    "id = 1228\n",
    "df = loop.run_until_complete(player_understat_file(id))\n",
    "    \n"
   ]
  },
  {
   "cell_type": "code",
   "execution_count": 10,
   "metadata": {},
   "outputs": [
    {
     "ename": "IndexError",
     "evalue": "list index out of range",
     "output_type": "error",
     "traceback": [
      "\u001b[1;31m---------------------------------------------------------------------------\u001b[0m",
      "\u001b[1;31mIndexError\u001b[0m                                Traceback (most recent call last)",
      "\u001b[1;32mc:\\Users\\User\\Desktop\\FPL Project\\test.ipynb Cell 6\u001b[0m in \u001b[0;36m<cell line: 14>\u001b[1;34m()\u001b[0m\n\u001b[0;32m     <a href='vscode-notebook-cell:/c%3A/Users/User/Desktop/FPL%20Project/test.ipynb#W5sZmlsZQ%3D%3D?line=10'>11</a>\u001b[0m         \u001b[39mreturn\u001b[39;00m team\n\u001b[0;32m     <a href='vscode-notebook-cell:/c%3A/Users/User/Desktop/FPL%20Project/test.ipynb#W5sZmlsZQ%3D%3D?line=12'>13</a>\u001b[0m loop \u001b[39m=\u001b[39m asyncio\u001b[39m.\u001b[39mget_event_loop()\n\u001b[1;32m---> <a href='vscode-notebook-cell:/c%3A/Users/User/Desktop/FPL%20Project/test.ipynb#W5sZmlsZQ%3D%3D?line=13'>14</a>\u001b[0m loop\u001b[39m.\u001b[39;49mrun_until_complete(main(\u001b[39m'\u001b[39;49m\u001b[39mWest Bromwich Albion\u001b[39;49m\u001b[39m'\u001b[39;49m,\u001b[39m2018\u001b[39;49m))\n",
      "File \u001b[1;32mc:\\Users\\User\\AppData\\Local\\Programs\\Python\\Python39\\lib\\site-packages\\nest_asyncio.py:89\u001b[0m, in \u001b[0;36m_patch_loop.<locals>.run_until_complete\u001b[1;34m(self, future)\u001b[0m\n\u001b[0;32m     86\u001b[0m \u001b[39mif\u001b[39;00m \u001b[39mnot\u001b[39;00m f\u001b[39m.\u001b[39mdone():\n\u001b[0;32m     87\u001b[0m     \u001b[39mraise\u001b[39;00m \u001b[39mRuntimeError\u001b[39;00m(\n\u001b[0;32m     88\u001b[0m         \u001b[39m'\u001b[39m\u001b[39mEvent loop stopped before Future completed.\u001b[39m\u001b[39m'\u001b[39m)\n\u001b[1;32m---> 89\u001b[0m \u001b[39mreturn\u001b[39;00m f\u001b[39m.\u001b[39;49mresult()\n",
      "File \u001b[1;32mc:\\Users\\User\\AppData\\Local\\Programs\\Python\\Python39\\lib\\asyncio\\futures.py:201\u001b[0m, in \u001b[0;36mFuture.result\u001b[1;34m(self)\u001b[0m\n\u001b[0;32m    199\u001b[0m \u001b[39mself\u001b[39m\u001b[39m.\u001b[39m__log_traceback \u001b[39m=\u001b[39m \u001b[39mFalse\u001b[39;00m\n\u001b[0;32m    200\u001b[0m \u001b[39mif\u001b[39;00m \u001b[39mself\u001b[39m\u001b[39m.\u001b[39m_exception \u001b[39mis\u001b[39;00m \u001b[39mnot\u001b[39;00m \u001b[39mNone\u001b[39;00m:\n\u001b[1;32m--> 201\u001b[0m     \u001b[39mraise\u001b[39;00m \u001b[39mself\u001b[39m\u001b[39m.\u001b[39m_exception\n\u001b[0;32m    202\u001b[0m \u001b[39mreturn\u001b[39;00m \u001b[39mself\u001b[39m\u001b[39m.\u001b[39m_result\n",
      "File \u001b[1;32mc:\\Users\\User\\AppData\\Local\\Programs\\Python\\Python39\\lib\\asyncio\\tasks.py:256\u001b[0m, in \u001b[0;36mTask.__step\u001b[1;34m(***failed resolving arguments***)\u001b[0m\n\u001b[0;32m    252\u001b[0m \u001b[39mtry\u001b[39;00m:\n\u001b[0;32m    253\u001b[0m     \u001b[39mif\u001b[39;00m exc \u001b[39mis\u001b[39;00m \u001b[39mNone\u001b[39;00m:\n\u001b[0;32m    254\u001b[0m         \u001b[39m# We use the `send` method directly, because coroutines\u001b[39;00m\n\u001b[0;32m    255\u001b[0m         \u001b[39m# don't have `__iter__` and `__next__` methods.\u001b[39;00m\n\u001b[1;32m--> 256\u001b[0m         result \u001b[39m=\u001b[39m coro\u001b[39m.\u001b[39;49msend(\u001b[39mNone\u001b[39;49;00m)\n\u001b[0;32m    257\u001b[0m     \u001b[39melse\u001b[39;00m:\n\u001b[0;32m    258\u001b[0m         result \u001b[39m=\u001b[39m coro\u001b[39m.\u001b[39mthrow(exc)\n",
      "\u001b[1;32mc:\\Users\\User\\Desktop\\FPL Project\\test.ipynb Cell 6\u001b[0m in \u001b[0;36mmain\u001b[1;34m(team, season)\u001b[0m\n\u001b[0;32m      <a href='vscode-notebook-cell:/c%3A/Users/User/Desktop/FPL%20Project/test.ipynb#W5sZmlsZQ%3D%3D?line=3'>4</a>\u001b[0m understat \u001b[39m=\u001b[39m Understat(session)\n\u001b[0;32m      <a href='vscode-notebook-cell:/c%3A/Users/User/Desktop/FPL%20Project/test.ipynb#W5sZmlsZQ%3D%3D?line=4'>5</a>\u001b[0m teams \u001b[39m=\u001b[39m \u001b[39mawait\u001b[39;00m understat\u001b[39m.\u001b[39mget_teams(\n\u001b[0;32m      <a href='vscode-notebook-cell:/c%3A/Users/User/Desktop/FPL%20Project/test.ipynb#W5sZmlsZQ%3D%3D?line=5'>6</a>\u001b[0m     \u001b[39m\"\u001b[39m\u001b[39mepl\u001b[39m\u001b[39m\"\u001b[39m,\n\u001b[0;32m      <a href='vscode-notebook-cell:/c%3A/Users/User/Desktop/FPL%20Project/test.ipynb#W5sZmlsZQ%3D%3D?line=6'>7</a>\u001b[0m     season,\n\u001b[0;32m      <a href='vscode-notebook-cell:/c%3A/Users/User/Desktop/FPL%20Project/test.ipynb#W5sZmlsZQ%3D%3D?line=7'>8</a>\u001b[0m     title\u001b[39m=\u001b[39mteam\n\u001b[0;32m      <a href='vscode-notebook-cell:/c%3A/Users/User/Desktop/FPL%20Project/test.ipynb#W5sZmlsZQ%3D%3D?line=8'>9</a>\u001b[0m )\n\u001b[1;32m---> <a href='vscode-notebook-cell:/c%3A/Users/User/Desktop/FPL%20Project/test.ipynb#W5sZmlsZQ%3D%3D?line=9'>10</a>\u001b[0m team \u001b[39m=\u001b[39m pd\u001b[39m.\u001b[39mDataFrame(teams[\u001b[39m0\u001b[39;49m][\u001b[39m'\u001b[39m\u001b[39mhistory\u001b[39m\u001b[39m'\u001b[39m])\n\u001b[0;32m     <a href='vscode-notebook-cell:/c%3A/Users/User/Desktop/FPL%20Project/test.ipynb#W5sZmlsZQ%3D%3D?line=10'>11</a>\u001b[0m \u001b[39mreturn\u001b[39;00m team\n",
      "\u001b[1;31mIndexError\u001b[0m: list index out of range"
     ]
    }
   ],
   "source": [
    "# understat file for a specific team for a specific season\n",
    "async def main(team, season):\n",
    "    async with aiohttp.ClientSession() as session:\n",
    "        understat = Understat(session)\n",
    "        teams = await understat.get_teams(\n",
    "            \"epl\",\n",
    "            season,\n",
    "            title=team\n",
    "        )\n",
    "        team = pd.DataFrame(teams[0]['history'])\n",
    "        return team\n",
    "\n",
    "loop = asyncio.get_event_loop()\n",
    "loop.run_until_complete(main('West Bromwich Albion',2018))"
   ]
  },
  {
   "cell_type": "code",
   "execution_count": null,
   "metadata": {},
   "outputs": [],
   "source": [
    "import requests\n",
    "import pandas as pd\n",
    "\n",
    "id = 301\n",
    "url = 'https://fantasy.premierleague.com/api/element-summary/' + str(id) + '/'\n",
    "\n",
    "pd.DataFrame(requests.get(url).json()['history']) #gw.csv\n",
    "#pd.DataFrame(requests.get(url).json()['history_past']) #history.csv"
   ]
  },
  {
   "cell_type": "code",
   "execution_count": null,
   "metadata": {},
   "outputs": [],
   "source": [
    "url = 'https://fantasy.premierleague.com/api/bootstrap-static/'\n",
    "pd.DataFrame(requests.get(url).json()['teams']) #teams.csv\n",
    "pd.DataFrame(requests.get(url).json()['elements']) #players_raw.csv\n",
    "pd.DataFrame(requests.get(url).json()['events']) #events.csv extra"
   ]
  },
  {
   "cell_type": "code",
   "execution_count": null,
   "metadata": {},
   "outputs": [],
   "source": [
    "url = 'https://fantasy.premierleague.com/api/fixtures/'\n",
    "pd.json_normalize(requests.get(url).json())"
   ]
  },
  {
   "cell_type": "code",
   "execution_count": null,
   "metadata": {},
   "outputs": [],
   "source": [
    "!python -m pip install soccerdata"
   ]
  },
  {
   "cell_type": "code",
   "execution_count": null,
   "metadata": {},
   "outputs": [],
   "source": [
    "import soccerdata as sd\n",
    "\n",
    "fbref = sd.FBref(data_dir=\"/tmp\", no_cache=True, no_store=True)"
   ]
  }
 ],
 "metadata": {
  "kernelspec": {
   "display_name": "Python 3",
   "language": "python",
   "name": "python3"
  },
  "language_info": {
   "codemirror_mode": {
    "name": "ipython",
    "version": 3
   },
   "file_extension": ".py",
   "mimetype": "text/x-python",
   "name": "python",
   "nbconvert_exporter": "python",
   "pygments_lexer": "ipython3",
   "version": "3.9.5"
  },
  "orig_nbformat": 4,
  "vscode": {
   "interpreter": {
    "hash": "cf92aa13fedf815d5c8dd192b8d835913fde3e8bc926b2a0ad6cc74ef2ba3ca2"
   }
  }
 },
 "nbformat": 4,
 "nbformat_minor": 2
}
