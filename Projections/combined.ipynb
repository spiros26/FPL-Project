import pandas as pd

dataframes = []
for i in range(1, 10):
    data = pd.read_csv(f"./ALEX-23/alex-GW{i}.csv")
    
    # Rename columns
    data = data.rename(columns={"ID": "id", "Name": "orig_name"})
    
    # Select specific columns and add the "gw" column
    data = data[["id", "orig_name", "Pos", f"{i}_Pts"]]
    data["gw"] = i  # Add the "gw" column with the corresponding value
    
    # Rename the "X{i}_Pts" column to "pP"
    data = data.rename(columns={f"X{i}_Pts": "pP"})
    
    dataframes.append(data)
