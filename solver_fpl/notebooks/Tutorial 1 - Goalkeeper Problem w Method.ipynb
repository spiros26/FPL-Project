{
 "cells": [
  {
   "cell_type": "code",
   "execution_count": 1,
   "id": "limited-bachelor",
   "metadata": {},
   "outputs": [],
   "source": [
    "import pandas as pd\n",
    "import sasoptpy as so\n",
    "import os\n",
    "import time"
   ]
  },
  {
   "cell_type": "code",
   "execution_count": 2,
   "id": "creative-minister",
   "metadata": {},
   "outputs": [],
   "source": [
    "t0 = time.time()"
   ]
  },
  {
   "cell_type": "code",
   "execution_count": 3,
   "id": "alpha-kidney",
   "metadata": {},
   "outputs": [],
   "source": [
    "df = pd.read_csv('../data/input.csv')\n",
    "gk_data = df[df['Pos'] == 'G'].copy().reset_index()\n",
    "gk_data.set_index('index', inplace=True)"
   ]
  },
  {
   "cell_type": "code",
   "execution_count": 4,
   "id": "aware-english",
   "metadata": {},
   "outputs": [],
   "source": [
    "def solve_goalkeeper_problem(gk_data, budget):\n",
    "    model = so.Model(name='gk_model')\n",
    "    players = gk_data.index.tolist()\n",
    "    # Variables\n",
    "    lineup = model.add_variables(players, name='lineup', vartype=so.binary)\n",
    "    bench = model.add_variables(players, name='bench', vartype=so.binary)\n",
    "    # Objective\n",
    "    total_xp = so.expr_sum(lineup[p] * gk_data.loc[p,'27_Pts'] for p in players) + 0.1 * so.expr_sum(bench[p] * gk_data.loc[p, '27_Pts'] for p in players)\n",
    "    model.set_objective(-total_xp, name='total_xp_obj', sense='N')\n",
    "    # Constraints\n",
    "    model.add_constraints((lineup[p] + bench[p] <= 1 for p in players), name='lineup_or_bench')\n",
    "    model.add_constraint(so.expr_sum(lineup[p] for p in players) == 1, name='single_lineup')\n",
    "    model.add_constraint(so.expr_sum(bench[p] for p in players) == 1, name='single_bench')\n",
    "    model.add_constraint(so.expr_sum((lineup[p] + bench[p]) * gk_data.loc[p, 'BV'] for p in players) <= budget, name='budget_con')\n",
    "    # Solve Step\n",
    "    model.export_mps(filename='gk.mps')\n",
    "    command = 'cbc gk.mps solve solu solution.txt'\n",
    "    # !{command}\n",
    "    os.system(command)\n",
    "    with open('solution.txt', 'r') as f:\n",
    "        for v in model.get_variables():\n",
    "            v.set_value(0)\n",
    "        for line in f:\n",
    "            if 'objective value' in line:\n",
    "                continue\n",
    "            words = line.split()\n",
    "            var = model.get_variable(words[1])\n",
    "            var.set_value(float(words[2]))\n",
    "    print(\"LINEUP\")\n",
    "    for p in players:\n",
    "        if lineup[p].get_value() > 0.5:\n",
    "            print(p, gk_data.loc[p])\n",
    "    print(\"BENCH\")\n",
    "    for p in players:\n",
    "        if bench[p].get_value() > 0.5:\n",
    "            print(p, gk_data.loc[p])"
   ]
  },
  {
   "cell_type": "code",
   "execution_count": 5,
   "id": "hydraulic-monkey",
   "metadata": {
    "scrolled": true
   },
   "outputs": [
    {
     "name": "stdout",
     "output_type": "stream",
     "text": [
      "NOTE: Initialized model gk_model.\n",
      "LINEUP\n",
      "522 Pos                   G\n",
      "Name            Forster\n",
      "BV                    4\n",
      "SV                    4\n",
      "Team        Southampton\n",
      "27_xMins             81\n",
      "27_Pts            6.424\n",
      "Name: 522, dtype: object\n",
      "BENCH\n",
      "382 Pos              G\n",
      "Name        Lloris\n",
      "BV             5.6\n",
      "SV             5.6\n",
      "Team         Spurs\n",
      "27_xMins        89\n",
      "27_Pts       4.254\n",
      "Name: 382, dtype: object\n"
     ]
    }
   ],
   "source": [
    "solve_goalkeeper_problem(gk_data, 9.9)"
   ]
  },
  {
   "cell_type": "code",
   "execution_count": 6,
   "id": "useful-robertson",
   "metadata": {},
   "outputs": [
    {
     "name": "stdout",
     "output_type": "stream",
     "text": [
      "0.3951454162597656 seconds\n"
     ]
    }
   ],
   "source": [
    "t1 = time.time()\n",
    "print(t1-t0, 'seconds')"
   ]
  }
 ],
 "metadata": {
  "kernelspec": {
   "display_name": "Python 3",
   "language": "python",
   "name": "python3"
  },
  "language_info": {
   "codemirror_mode": {
    "name": "ipython",
    "version": 3
   },
   "file_extension": ".py",
   "mimetype": "text/x-python",
   "name": "python",
   "nbconvert_exporter": "python",
   "pygments_lexer": "ipython3",
   "version": "3.7.9"
  }
 },
 "nbformat": 4,
 "nbformat_minor": 5
}
