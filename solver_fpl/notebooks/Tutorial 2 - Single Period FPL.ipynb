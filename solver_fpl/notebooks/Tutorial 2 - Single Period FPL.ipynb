{
 "metadata": {
  "language_info": {
   "codemirror_mode": {
    "name": "ipython",
    "version": 3
   },
   "file_extension": ".py",
   "mimetype": "text/x-python",
   "name": "python",
   "nbconvert_exporter": "python",
   "pygments_lexer": "ipython3",
   "version": "3.7.1-final"
  },
  "orig_nbformat": 2,
  "kernelspec": {
   "name": "python3",
   "display_name": "Python 3.7.1 64-bit",
   "metadata": {
    "interpreter": {
     "hash": "cbc1630f6ac27d00c9f4ea5ff59d07a3d2920d2fb3e683b05679c37215caa53f"
    }
   }
  }
 },
 "nbformat": 4,
 "nbformat_minor": 2,
 "cells": [
  {
   "cell_type": "code",
   "execution_count": 1,
   "metadata": {},
   "outputs": [],
   "source": [
    "import pandas as pd\n",
    "import sasoptpy as so\n",
    "import requests\n",
    "import os\n",
    "import time"
   ]
  },
  {
   "cell_type": "code",
   "execution_count": 2,
   "metadata": {},
   "outputs": [],
   "source": [
    "# Data\n",
    "r = requests.get('https://fantasy.premierleague.com/api/bootstrap-static/')\n",
    "fpl_data = r.json()"
   ]
  },
  {
   "cell_type": "code",
   "execution_count": 3,
   "metadata": {},
   "outputs": [],
   "source": [
    "element_data = pd.DataFrame(fpl_data['elements'])"
   ]
  },
  {
   "cell_type": "code",
   "execution_count": 4,
   "metadata": {},
   "outputs": [
    {
     "output_type": "execute_result",
     "data": {
      "text/plain": [
       "   chance_of_playing_next_round  chance_of_playing_this_round   code  \\\n",
       "0                           0.0                           0.0  37605   \n",
       "1                           0.0                           0.0  39476   \n",
       "2                         100.0                         100.0  41270   \n",
       "3                         100.0                         100.0  54694   \n",
       "4                         100.0                         100.0  58822   \n",
       "\n",
       "   cost_change_event  cost_change_event_fall  cost_change_start  \\\n",
       "0                  0                       0                 -3   \n",
       "1                  0                       0                 -2   \n",
       "2                  0                       0                 -1   \n",
       "3                  0                       0                 -5   \n",
       "4                  0                       0                 -4   \n",
       "\n",
       "   cost_change_start_fall  dreamteam_count  element_type ep_next  ...  \\\n",
       "0                       3                0             3     0.0  ...   \n",
       "1                       2                0             2     0.0  ...   \n",
       "2                       1                0             2     1.7  ...   \n",
       "3                       5                2             3     3.3  ...   \n",
       "4                       4                0             2     0.7  ...   \n",
       "\n",
       "  threat_rank  threat_rank_type ict_index_rank ict_index_rank_type  \\\n",
       "0         686               278            686                 278   \n",
       "1         633               230            652                 232   \n",
       "2         219                61            272                  90   \n",
       "3          27                15             41                  27   \n",
       "4         323               113            332                 117   \n",
       "\n",
       "   corners_and_indirect_freekicks_order  corners_and_indirect_freekicks_text  \\\n",
       "0                                   NaN                                        \n",
       "1                                   NaN                                        \n",
       "2                                   NaN                                        \n",
       "3                                   NaN                                        \n",
       "4                                   NaN                                        \n",
       "\n",
       "  direct_freekicks_order direct_freekicks_text  penalties_order penalties_text  \n",
       "0                    NaN                                    NaN                 \n",
       "1                    NaN                                    NaN                 \n",
       "2                    4.0                                    NaN                 \n",
       "3                    NaN                                    1.0                 \n",
       "4                    5.0                                    NaN                 \n",
       "\n",
       "[5 rows x 67 columns]"
      ],
      "text/html": "<div>\n<style scoped>\n    .dataframe tbody tr th:only-of-type {\n        vertical-align: middle;\n    }\n\n    .dataframe tbody tr th {\n        vertical-align: top;\n    }\n\n    .dataframe thead th {\n        text-align: right;\n    }\n</style>\n<table border=\"1\" class=\"dataframe\">\n  <thead>\n    <tr style=\"text-align: right;\">\n      <th></th>\n      <th>chance_of_playing_next_round</th>\n      <th>chance_of_playing_this_round</th>\n      <th>code</th>\n      <th>cost_change_event</th>\n      <th>cost_change_event_fall</th>\n      <th>cost_change_start</th>\n      <th>cost_change_start_fall</th>\n      <th>dreamteam_count</th>\n      <th>element_type</th>\n      <th>ep_next</th>\n      <th>...</th>\n      <th>threat_rank</th>\n      <th>threat_rank_type</th>\n      <th>ict_index_rank</th>\n      <th>ict_index_rank_type</th>\n      <th>corners_and_indirect_freekicks_order</th>\n      <th>corners_and_indirect_freekicks_text</th>\n      <th>direct_freekicks_order</th>\n      <th>direct_freekicks_text</th>\n      <th>penalties_order</th>\n      <th>penalties_text</th>\n    </tr>\n  </thead>\n  <tbody>\n    <tr>\n      <th>0</th>\n      <td>0.0</td>\n      <td>0.0</td>\n      <td>37605</td>\n      <td>0</td>\n      <td>0</td>\n      <td>-3</td>\n      <td>3</td>\n      <td>0</td>\n      <td>3</td>\n      <td>0.0</td>\n      <td>...</td>\n      <td>686</td>\n      <td>278</td>\n      <td>686</td>\n      <td>278</td>\n      <td>NaN</td>\n      <td></td>\n      <td>NaN</td>\n      <td></td>\n      <td>NaN</td>\n      <td></td>\n    </tr>\n    <tr>\n      <th>1</th>\n      <td>0.0</td>\n      <td>0.0</td>\n      <td>39476</td>\n      <td>0</td>\n      <td>0</td>\n      <td>-2</td>\n      <td>2</td>\n      <td>0</td>\n      <td>2</td>\n      <td>0.0</td>\n      <td>...</td>\n      <td>633</td>\n      <td>230</td>\n      <td>652</td>\n      <td>232</td>\n      <td>NaN</td>\n      <td></td>\n      <td>NaN</td>\n      <td></td>\n      <td>NaN</td>\n      <td></td>\n    </tr>\n    <tr>\n      <th>2</th>\n      <td>100.0</td>\n      <td>100.0</td>\n      <td>41270</td>\n      <td>0</td>\n      <td>0</td>\n      <td>-1</td>\n      <td>1</td>\n      <td>0</td>\n      <td>2</td>\n      <td>1.7</td>\n      <td>...</td>\n      <td>219</td>\n      <td>61</td>\n      <td>272</td>\n      <td>90</td>\n      <td>NaN</td>\n      <td></td>\n      <td>4.0</td>\n      <td></td>\n      <td>NaN</td>\n      <td></td>\n    </tr>\n    <tr>\n      <th>3</th>\n      <td>100.0</td>\n      <td>100.0</td>\n      <td>54694</td>\n      <td>0</td>\n      <td>0</td>\n      <td>-5</td>\n      <td>5</td>\n      <td>2</td>\n      <td>3</td>\n      <td>3.3</td>\n      <td>...</td>\n      <td>27</td>\n      <td>15</td>\n      <td>41</td>\n      <td>27</td>\n      <td>NaN</td>\n      <td></td>\n      <td>NaN</td>\n      <td></td>\n      <td>1.0</td>\n      <td></td>\n    </tr>\n    <tr>\n      <th>4</th>\n      <td>100.0</td>\n      <td>100.0</td>\n      <td>58822</td>\n      <td>0</td>\n      <td>0</td>\n      <td>-4</td>\n      <td>4</td>\n      <td>0</td>\n      <td>2</td>\n      <td>0.7</td>\n      <td>...</td>\n      <td>323</td>\n      <td>113</td>\n      <td>332</td>\n      <td>117</td>\n      <td>NaN</td>\n      <td></td>\n      <td>5.0</td>\n      <td></td>\n      <td>NaN</td>\n      <td></td>\n    </tr>\n  </tbody>\n</table>\n<p>5 rows × 67 columns</p>\n</div>"
     },
     "metadata": {},
     "execution_count": 4
    }
   ],
   "source": [
    "element_data.head()"
   ]
  },
  {
   "cell_type": "code",
   "execution_count": 5,
   "metadata": {},
   "outputs": [
    {
     "output_type": "execute_result",
     "data": {
      "text/plain": [
       "   code  draw  form  id  loss         name  played  points  position  \\\n",
       "0     3     0  None   1     0      Arsenal       0       0         0   \n",
       "1     7     0  None   2     0  Aston Villa       0       0         0   \n",
       "2    36     0  None   3     0     Brighton       0       0         0   \n",
       "3    90     0  None   4     0      Burnley       0       0         0   \n",
       "4     8     0  None   5     0      Chelsea       0       0         0   \n",
       "\n",
       "  short_name  ...  team_division unavailable  win  strength_overall_home  \\\n",
       "0        ARS  ...           None       False    0                   1190   \n",
       "1        AVL  ...           None       False    0                   1150   \n",
       "2        BHA  ...           None       False    0                   1120   \n",
       "3        BUR  ...           None       False    0                   1070   \n",
       "4        CHE  ...           None       False    0                   1250   \n",
       "\n",
       "   strength_overall_away  strength_attack_home  strength_attack_away  \\\n",
       "0                   1210                  1170                  1210   \n",
       "1                   1150                  1150                  1150   \n",
       "2                   1100                  1150                  1180   \n",
       "3                   1080                  1120                  1190   \n",
       "4                   1300                  1240                  1280   \n",
       "\n",
       "   strength_defence_home  strength_defence_away  pulse_id  \n",
       "0                   1190                   1200         1  \n",
       "1                   1180                   1210         2  \n",
       "2                   1090                   1100       131  \n",
       "3                   1010                   1030        43  \n",
       "4                   1270                   1310         4  \n",
       "\n",
       "[5 rows x 21 columns]"
      ],
      "text/html": "<div>\n<style scoped>\n    .dataframe tbody tr th:only-of-type {\n        vertical-align: middle;\n    }\n\n    .dataframe tbody tr th {\n        vertical-align: top;\n    }\n\n    .dataframe thead th {\n        text-align: right;\n    }\n</style>\n<table border=\"1\" class=\"dataframe\">\n  <thead>\n    <tr style=\"text-align: right;\">\n      <th></th>\n      <th>code</th>\n      <th>draw</th>\n      <th>form</th>\n      <th>id</th>\n      <th>loss</th>\n      <th>name</th>\n      <th>played</th>\n      <th>points</th>\n      <th>position</th>\n      <th>short_name</th>\n      <th>...</th>\n      <th>team_division</th>\n      <th>unavailable</th>\n      <th>win</th>\n      <th>strength_overall_home</th>\n      <th>strength_overall_away</th>\n      <th>strength_attack_home</th>\n      <th>strength_attack_away</th>\n      <th>strength_defence_home</th>\n      <th>strength_defence_away</th>\n      <th>pulse_id</th>\n    </tr>\n  </thead>\n  <tbody>\n    <tr>\n      <th>0</th>\n      <td>3</td>\n      <td>0</td>\n      <td>None</td>\n      <td>1</td>\n      <td>0</td>\n      <td>Arsenal</td>\n      <td>0</td>\n      <td>0</td>\n      <td>0</td>\n      <td>ARS</td>\n      <td>...</td>\n      <td>None</td>\n      <td>False</td>\n      <td>0</td>\n      <td>1190</td>\n      <td>1210</td>\n      <td>1170</td>\n      <td>1210</td>\n      <td>1190</td>\n      <td>1200</td>\n      <td>1</td>\n    </tr>\n    <tr>\n      <th>1</th>\n      <td>7</td>\n      <td>0</td>\n      <td>None</td>\n      <td>2</td>\n      <td>0</td>\n      <td>Aston Villa</td>\n      <td>0</td>\n      <td>0</td>\n      <td>0</td>\n      <td>AVL</td>\n      <td>...</td>\n      <td>None</td>\n      <td>False</td>\n      <td>0</td>\n      <td>1150</td>\n      <td>1150</td>\n      <td>1150</td>\n      <td>1150</td>\n      <td>1180</td>\n      <td>1210</td>\n      <td>2</td>\n    </tr>\n    <tr>\n      <th>2</th>\n      <td>36</td>\n      <td>0</td>\n      <td>None</td>\n      <td>3</td>\n      <td>0</td>\n      <td>Brighton</td>\n      <td>0</td>\n      <td>0</td>\n      <td>0</td>\n      <td>BHA</td>\n      <td>...</td>\n      <td>None</td>\n      <td>False</td>\n      <td>0</td>\n      <td>1120</td>\n      <td>1100</td>\n      <td>1150</td>\n      <td>1180</td>\n      <td>1090</td>\n      <td>1100</td>\n      <td>131</td>\n    </tr>\n    <tr>\n      <th>3</th>\n      <td>90</td>\n      <td>0</td>\n      <td>None</td>\n      <td>4</td>\n      <td>0</td>\n      <td>Burnley</td>\n      <td>0</td>\n      <td>0</td>\n      <td>0</td>\n      <td>BUR</td>\n      <td>...</td>\n      <td>None</td>\n      <td>False</td>\n      <td>0</td>\n      <td>1070</td>\n      <td>1080</td>\n      <td>1120</td>\n      <td>1190</td>\n      <td>1010</td>\n      <td>1030</td>\n      <td>43</td>\n    </tr>\n    <tr>\n      <th>4</th>\n      <td>8</td>\n      <td>0</td>\n      <td>None</td>\n      <td>5</td>\n      <td>0</td>\n      <td>Chelsea</td>\n      <td>0</td>\n      <td>0</td>\n      <td>0</td>\n      <td>CHE</td>\n      <td>...</td>\n      <td>None</td>\n      <td>False</td>\n      <td>0</td>\n      <td>1250</td>\n      <td>1300</td>\n      <td>1240</td>\n      <td>1280</td>\n      <td>1270</td>\n      <td>1310</td>\n      <td>4</td>\n    </tr>\n  </tbody>\n</table>\n<p>5 rows × 21 columns</p>\n</div>"
     },
     "metadata": {},
     "execution_count": 5
    }
   ],
   "source": [
    "team_data = pd.DataFrame(fpl_data['teams'])\n",
    "team_data.head()"
   ]
  },
  {
   "cell_type": "code",
   "execution_count": 6,
   "metadata": {},
   "outputs": [
    {
     "output_type": "execute_result",
     "data": {
      "text/plain": [
       "Index(['chance_of_playing_next_round', 'chance_of_playing_this_round', 'code',\n",
       "       'cost_change_event', 'cost_change_event_fall', 'cost_change_start',\n",
       "       'cost_change_start_fall', 'dreamteam_count', 'element_type', 'ep_next',\n",
       "       'ep_this', 'event_points', 'first_name', 'form', 'id', 'in_dreamteam',\n",
       "       'news', 'news_added', 'now_cost', 'photo', 'points_per_game',\n",
       "       'second_name', 'selected_by_percent', 'special', 'squad_number',\n",
       "       'status', 'team', 'team_code', 'total_points', 'transfers_in',\n",
       "       'transfers_in_event', 'transfers_out', 'transfers_out_event',\n",
       "       'value_form', 'value_season', 'web_name', 'minutes', 'goals_scored',\n",
       "       'assists', 'clean_sheets', 'goals_conceded', 'own_goals',\n",
       "       'penalties_saved', 'penalties_missed', 'yellow_cards', 'red_cards',\n",
       "       'saves', 'bonus', 'bps', 'influence', 'creativity', 'threat',\n",
       "       'ict_index', 'influence_rank', 'influence_rank_type', 'creativity_rank',\n",
       "       'creativity_rank_type', 'threat_rank', 'threat_rank_type',\n",
       "       'ict_index_rank', 'ict_index_rank_type',\n",
       "       'corners_and_indirect_freekicks_order',\n",
       "       'corners_and_indirect_freekicks_text', 'direct_freekicks_order',\n",
       "       'direct_freekicks_text', 'penalties_order', 'penalties_text'],\n",
       "      dtype='object')"
      ]
     },
     "metadata": {},
     "execution_count": 6
    }
   ],
   "source": [
    "element_data.loc[0].keys()"
   ]
  },
  {
   "cell_type": "code",
   "execution_count": 7,
   "metadata": {},
   "outputs": [
    {
     "output_type": "execute_result",
     "data": {
      "text/plain": [
       "3"
      ]
     },
     "metadata": {},
     "execution_count": 7
    }
   ],
   "source": [
    "element_data.loc[0]['team_code']"
   ]
  },
  {
   "cell_type": "code",
   "execution_count": 8,
   "metadata": {},
   "outputs": [
    {
     "output_type": "stream",
     "name": "stdout",
     "text": [
      "chance_of_playing_next_round                                                            0\nchance_of_playing_this_round                                                            0\ncode_x                                                                              37605\ncost_change_event                                                                       0\ncost_change_event_fall                                                                  0\ncost_change_start                                                                      -3\ncost_change_start_fall                                                                  3\ndreamteam_count                                                                         0\nelement_type                                                                            3\nep_next                                                                               0.0\nep_this                                                                               0.0\nevent_points                                                                            0\nfirst_name                                                                          Mesut\nform_x                                                                                0.0\nid_x                                                                                    1\nin_dreamteam                                                                        False\nnews                                    Not included in Arsenal's 25-man Premier Leagu...\nnews_added                                                    2020-10-20T22:30:18.118477Z\nnow_cost                                                                               67\nphoto                                                                           37605.jpg\npoints_per_game                                                                       0.0\nsecond_name                                                                          Özil\nselected_by_percent                                                                   0.5\nspecial                                                                             False\nsquad_number                                                                         None\nstatus                                                                                  u\nteam                                                                                    1\nteam_code                                                                               3\ntotal_points                                                                            0\ntransfers_in                                                                         3441\ntransfers_in_event                                                                      0\ntransfers_out                                                                       54670\ntransfers_out_event                                                                    55\nvalue_form                                                                            0.0\nvalue_season                                                                          0.0\nweb_name                                                                             Özil\nminutes                                                                                 0\ngoals_scored                                                                            0\nassists                                                                                 0\nclean_sheets                                                                            0\ngoals_conceded                                                                          0\nown_goals                                                                               0\npenalties_saved                                                                         0\npenalties_missed                                                                        0\nyellow_cards                                                                            0\nred_cards                                                                               0\nsaves                                                                                   0\nbonus                                                                                   0\nbps                                                                                     0\ninfluence                                                                             0.0\ncreativity                                                                            0.0\nthreat                                                                                0.0\nict_index                                                                             0.0\ninfluence_rank                                                                        686\ninfluence_rank_type                                                                   278\ncreativity_rank                                                                       686\ncreativity_rank_type                                                                  278\nthreat_rank                                                                           686\nthreat_rank_type                                                                      278\nict_index_rank                                                                        686\nict_index_rank_type                                                                   278\ncorners_and_indirect_freekicks_order                                                  NaN\ncorners_and_indirect_freekicks_text                                                      \ndirect_freekicks_order                                                                NaN\ndirect_freekicks_text                                                                    \npenalties_order                                                                       NaN\npenalties_text                                                                           \ncode_y                                                                                  3\ndraw                                                                                    0\nform_y                                                                               None\nid_y                                                                                    1\nloss                                                                                    0\nname                                                                              Arsenal\nplayed                                                                                  0\npoints                                                                                  0\nposition                                                                                0\nshort_name                                                                            ARS\nstrength                                                                                4\nteam_division                                                                        None\nunavailable                                                                         False\nwin                                                                                     0\nstrength_overall_home                                                                1190\nstrength_overall_away                                                                1210\nstrength_attack_home                                                                 1170\nstrength_attack_away                                                                 1210\nstrength_defence_home                                                                1190\nstrength_defence_away                                                                1200\npulse_id                                                                                1\nName: 0, dtype: object\n"
     ]
    }
   ],
   "source": [
    "elements_team = pd.merge(element_data, team_data, left_on='team', right_on='id')\n",
    "with pd.option_context(\"display.max_rows\", None):\n",
    "    print(elements_team.loc[0])"
   ]
  },
  {
   "cell_type": "code",
   "execution_count": 9,
   "metadata": {},
   "outputs": [
    {
     "output_type": "execute_result",
     "data": {
      "text/plain": [
       "  Pos        Name    BV    SV     Team  30_xMins  30_Pts  31_xMins  31_Pts  \\\n",
       "0   M        Özil   6.7   6.7  Arsenal         0   0.000         0   0.000   \n",
       "1   D    Sokratis   4.8   4.8  Arsenal         0   0.000         0   0.000   \n",
       "2   D  David Luiz   5.4   5.4  Arsenal        77   2.170        78   3.755   \n",
       "3   M  Aubameyang  11.5  11.5  Arsenal        80   4.136        70   4.884   \n",
       "4   D      Cédric   4.6   4.6  Arsenal        28   0.830        28   1.383   \n",
       "\n",
       "   32_xMins  32_Pts  \n",
       "0         0   0.000  \n",
       "1         0   0.000  \n",
       "2        75   3.292  \n",
       "3        69   4.502  \n",
       "4        30   1.355  "
      ],
      "text/html": "<div>\n<style scoped>\n    .dataframe tbody tr th:only-of-type {\n        vertical-align: middle;\n    }\n\n    .dataframe tbody tr th {\n        vertical-align: top;\n    }\n\n    .dataframe thead th {\n        text-align: right;\n    }\n</style>\n<table border=\"1\" class=\"dataframe\">\n  <thead>\n    <tr style=\"text-align: right;\">\n      <th></th>\n      <th>Pos</th>\n      <th>Name</th>\n      <th>BV</th>\n      <th>SV</th>\n      <th>Team</th>\n      <th>30_xMins</th>\n      <th>30_Pts</th>\n      <th>31_xMins</th>\n      <th>31_Pts</th>\n      <th>32_xMins</th>\n      <th>32_Pts</th>\n    </tr>\n  </thead>\n  <tbody>\n    <tr>\n      <th>0</th>\n      <td>M</td>\n      <td>Özil</td>\n      <td>6.7</td>\n      <td>6.7</td>\n      <td>Arsenal</td>\n      <td>0</td>\n      <td>0.000</td>\n      <td>0</td>\n      <td>0.000</td>\n      <td>0</td>\n      <td>0.000</td>\n    </tr>\n    <tr>\n      <th>1</th>\n      <td>D</td>\n      <td>Sokratis</td>\n      <td>4.8</td>\n      <td>4.8</td>\n      <td>Arsenal</td>\n      <td>0</td>\n      <td>0.000</td>\n      <td>0</td>\n      <td>0.000</td>\n      <td>0</td>\n      <td>0.000</td>\n    </tr>\n    <tr>\n      <th>2</th>\n      <td>D</td>\n      <td>David Luiz</td>\n      <td>5.4</td>\n      <td>5.4</td>\n      <td>Arsenal</td>\n      <td>77</td>\n      <td>2.170</td>\n      <td>78</td>\n      <td>3.755</td>\n      <td>75</td>\n      <td>3.292</td>\n    </tr>\n    <tr>\n      <th>3</th>\n      <td>M</td>\n      <td>Aubameyang</td>\n      <td>11.5</td>\n      <td>11.5</td>\n      <td>Arsenal</td>\n      <td>80</td>\n      <td>4.136</td>\n      <td>70</td>\n      <td>4.884</td>\n      <td>69</td>\n      <td>4.502</td>\n    </tr>\n    <tr>\n      <th>4</th>\n      <td>D</td>\n      <td>Cédric</td>\n      <td>4.6</td>\n      <td>4.6</td>\n      <td>Arsenal</td>\n      <td>28</td>\n      <td>0.830</td>\n      <td>28</td>\n      <td>1.383</td>\n      <td>30</td>\n      <td>1.355</td>\n    </tr>\n  </tbody>\n</table>\n</div>"
     },
     "metadata": {},
     "execution_count": 9
    }
   ],
   "source": [
    "review_data = pd.read_csv('../data/fplreview.csv')\n",
    "review_data.head()"
   ]
  },
  {
   "cell_type": "code",
   "execution_count": 10,
   "metadata": {},
   "outputs": [
    {
     "output_type": "stream",
     "name": "stdout",
     "text": [
      "chance_of_playing_next_round                                    100\nchance_of_playing_this_round                                    100\ncode_x                                                       118748\ncost_change_event                                                 0\ncost_change_event_fall                                            0\ncost_change_start                                                 4\ncost_change_start_fall                                           -4\ndreamteam_count                                                   4\nelement_type                                                      3\nep_next                                                         2.3\nep_this                                                         0.0\nevent_points                                                      0\nfirst_name                                                  Mohamed\nform_x                                                          2.3\nid_x                                                            254\nin_dreamteam                                                   True\nnews                                                               \nnews_added                              2020-11-13T15:30:16.171973Z\nnow_cost                                                        124\nphoto                                                    118748.jpg\npoints_per_game                                                 6.2\nsecond_name                                                   Salah\nselected_by_percent                                            29.0\nspecial                                                       False\nsquad_number                                                   None\nstatus                                                            a\nteam                                                             11\nteam_code                                                        14\ntotal_points                                                    174\ntransfers_in                                                5084379\ntransfers_in_event                                            52880\ntransfers_out                                               5470502\ntransfers_out_event                                           34544\nvalue_form                                                      0.2\nvalue_season                                                   14.0\nweb_name                                                      Salah\nminutes                                                        2342\ngoals_scored                                                     17\nassists                                                           4\nclean_sheets                                                      7\ngoals_conceded                                                   35\nown_goals                                                         0\npenalties_saved                                                   0\npenalties_missed                                                  0\nyellow_cards                                                      0\nred_cards                                                         0\nsaves                                                             0\nbonus                                                            16\nbps                                                             515\ninfluence                                                     802.2\ncreativity                                                    597.4\nthreat                                                       1317.0\nict_index                                                     271.3\ninfluence_rank                                                    6\ninfluence_rank_type                                               3\ncreativity_rank                                                  22\ncreativity_rank_type                                             18\nthreat_rank                                                       1\nthreat_rank_type                                                  1\nict_index_rank                                                    2\nict_index_rank_type                                               2\ncorners_and_indirect_freekicks_order                            NaN\ncorners_and_indirect_freekicks_text                                \ndirect_freekicks_order                                            2\ndirect_freekicks_text                                              \npenalties_order                                                   2\npenalties_text                                                     \ncode_y                                                           14\ndraw                                                              0\nform_y                                                         None\nid_y                                                             11\nloss                                                              0\nname                                                      Liverpool\nplayed                                                            0\npoints                                                            0\nposition                                                          0\nshort_name                                                      LIV\nstrength                                                          4\nteam_division                                                  None\nunavailable                                                   False\nwin                                                               0\nstrength_overall_home                                          1250\nstrength_overall_away                                          1270\nstrength_attack_home                                           1240\nstrength_attack_away                                           1320\nstrength_defence_home                                          1330\nstrength_defence_away                                          1350\npulse_id                                                         10\nPos                                                               M\nName                                                          Salah\nBV                                                             12.4\nSV                                                             12.3\nTeam                                                      Liverpool\n30_xMins                                                         78\n30_Pts                                                        5.292\n31_xMins                                                         73\n31_Pts                                                        6.255\n32_xMins                                                         75\n32_Pts                                                        5.943\nName: 339, dtype: object\n"
     ]
    }
   ],
   "source": [
    "merged_data = pd.merge(elements_team, review_data, left_on=['name', 'web_name'], right_on=['Team', 'Name'])\n",
    "with pd.option_context(\"display.max_rows\", None):\n",
    "    print(merged_data[merged_data['web_name'] == 'Salah'].iloc[0])"
   ]
  },
  {
   "cell_type": "code",
   "execution_count": 11,
   "metadata": {},
   "outputs": [],
   "source": [
    "merged_data.set_index(['id_x'], inplace=True)"
   ]
  },
  {
   "cell_type": "code",
   "execution_count": 12,
   "metadata": {},
   "outputs": [
    {
     "output_type": "execute_result",
     "data": {
      "text/plain": [
       "30"
      ]
     },
     "metadata": {},
     "execution_count": 12
    }
   ],
   "source": [
    "next_gw = int(review_data.keys()[5].split('_')[0])\n",
    "next_gw"
   ]
  },
  {
   "cell_type": "code",
   "execution_count": 13,
   "metadata": {},
   "outputs": [
    {
     "output_type": "execute_result",
     "data": {
      "text/plain": [
       "    plural_name plural_name_short singular_name singular_name_short  \\\n",
       "id                                                                    \n",
       "1   Goalkeepers               GKP    Goalkeeper                 GKP   \n",
       "2     Defenders               DEF      Defender                 DEF   \n",
       "3   Midfielders               MID    Midfielder                 MID   \n",
       "4      Forwards               FWD       Forward                 FWD   \n",
       "\n",
       "    squad_select  squad_min_play  squad_max_play  ui_shirt_specific  \\\n",
       "id                                                                    \n",
       "1              2               1               1               True   \n",
       "2              5               3               5              False   \n",
       "3              5               2               5              False   \n",
       "4              3               1               3              False   \n",
       "\n",
       "   sub_positions_locked  element_count  \n",
       "id                                      \n",
       "1                  [12]             80  \n",
       "2                    []            239  \n",
       "3                    []            278  \n",
       "4                    []             89  "
      ],
      "text/html": "<div>\n<style scoped>\n    .dataframe tbody tr th:only-of-type {\n        vertical-align: middle;\n    }\n\n    .dataframe tbody tr th {\n        vertical-align: top;\n    }\n\n    .dataframe thead th {\n        text-align: right;\n    }\n</style>\n<table border=\"1\" class=\"dataframe\">\n  <thead>\n    <tr style=\"text-align: right;\">\n      <th></th>\n      <th>plural_name</th>\n      <th>plural_name_short</th>\n      <th>singular_name</th>\n      <th>singular_name_short</th>\n      <th>squad_select</th>\n      <th>squad_min_play</th>\n      <th>squad_max_play</th>\n      <th>ui_shirt_specific</th>\n      <th>sub_positions_locked</th>\n      <th>element_count</th>\n    </tr>\n    <tr>\n      <th>id</th>\n      <th></th>\n      <th></th>\n      <th></th>\n      <th></th>\n      <th></th>\n      <th></th>\n      <th></th>\n      <th></th>\n      <th></th>\n      <th></th>\n    </tr>\n  </thead>\n  <tbody>\n    <tr>\n      <th>1</th>\n      <td>Goalkeepers</td>\n      <td>GKP</td>\n      <td>Goalkeeper</td>\n      <td>GKP</td>\n      <td>2</td>\n      <td>1</td>\n      <td>1</td>\n      <td>True</td>\n      <td>[12]</td>\n      <td>80</td>\n    </tr>\n    <tr>\n      <th>2</th>\n      <td>Defenders</td>\n      <td>DEF</td>\n      <td>Defender</td>\n      <td>DEF</td>\n      <td>5</td>\n      <td>3</td>\n      <td>5</td>\n      <td>False</td>\n      <td>[]</td>\n      <td>239</td>\n    </tr>\n    <tr>\n      <th>3</th>\n      <td>Midfielders</td>\n      <td>MID</td>\n      <td>Midfielder</td>\n      <td>MID</td>\n      <td>5</td>\n      <td>2</td>\n      <td>5</td>\n      <td>False</td>\n      <td>[]</td>\n      <td>278</td>\n    </tr>\n    <tr>\n      <th>4</th>\n      <td>Forwards</td>\n      <td>FWD</td>\n      <td>Forward</td>\n      <td>FWD</td>\n      <td>3</td>\n      <td>1</td>\n      <td>3</td>\n      <td>False</td>\n      <td>[]</td>\n      <td>89</td>\n    </tr>\n  </tbody>\n</table>\n</div>"
     },
     "metadata": {},
     "execution_count": 13
    }
   ],
   "source": [
    "type_data = pd.DataFrame(fpl_data['element_types']).set_index(['id'])\n",
    "type_data.head()"
   ]
  },
  {
   "cell_type": "code",
   "execution_count": 14,
   "metadata": {},
   "outputs": [
    {
     "output_type": "stream",
     "name": "stdout",
     "text": [
      "NOTE: Initialized model single_period.\n"
     ]
    }
   ],
   "source": [
    "model = so.Model(name='single_period')"
   ]
  },
  {
   "cell_type": "code",
   "execution_count": 15,
   "metadata": {},
   "outputs": [],
   "source": [
    "players = merged_data.index.to_list()\n",
    "element_types = type_data.index.to_list()\n",
    "teams = team_data['name'].to_list()"
   ]
  },
  {
   "cell_type": "code",
   "execution_count": 16,
   "metadata": {},
   "outputs": [],
   "source": [
    "squad = model.add_variables(players, name='squad', vartype=so.binary)\n",
    "lineup = model.add_variables(players, name='lineup', vartype=so.binary)\n",
    "captain = model.add_variables(players, name='captain', vartype=so.binary)\n",
    "vicecap = model.add_variables(players, name='vicecap', vartype=so.binary)"
   ]
  },
  {
   "cell_type": "code",
   "execution_count": 17,
   "metadata": {},
   "outputs": [],
   "source": [
    "squad_count = so.expr_sum(squad[p] for p in players)"
   ]
  },
  {
   "cell_type": "code",
   "execution_count": 18,
   "metadata": {},
   "outputs": [],
   "source": [
    "model.add_constraint(squad_count == 15, name='squad_count');"
   ]
  },
  {
   "cell_type": "code",
   "execution_count": 19,
   "metadata": {},
   "outputs": [],
   "source": [
    "model.add_constraint(so.expr_sum(lineup[p] for p in players) == 11, name='lineup_count');"
   ]
  },
  {
   "cell_type": "code",
   "execution_count": 20,
   "metadata": {},
   "outputs": [],
   "source": [
    "model.add_constraint(so.expr_sum(captain[p] for p in players) == 1, name='captain_count')\n",
    "model.add_constraint(so.expr_sum(vicecap[p] for p in players) == 1, name='vicecap_count');"
   ]
  },
  {
   "cell_type": "code",
   "execution_count": 21,
   "metadata": {},
   "outputs": [],
   "source": [
    "model.add_constraints((lineup[p] <= squad[p] for p in players), name='lineup_squad_rel')\n",
    "model.add_constraints((captain[p] <= lineup[p] for p in players), name='captain_lineup_rel')\n",
    "model.add_constraints((vicecap[p] <= lineup[p] for p in players), name='vicecap_lineup_rel')\n",
    "model.add_constraints((captain[p] + vicecap[p] <= 1 for p in players), name='cap_vc_rel');"
   ]
  },
  {
   "cell_type": "code",
   "execution_count": 22,
   "metadata": {},
   "outputs": [],
   "source": [
    "lineup_type_count = {t: so.expr_sum(lineup[p] for p in players if merged_data.loc[p, 'element_type'] == t) for t in element_types}"
   ]
  },
  {
   "cell_type": "code",
   "execution_count": 23,
   "metadata": {},
   "outputs": [],
   "source": [
    "squad_type_count = {t: so.expr_sum(squad[p] for p in players if merged_data.loc[p, 'element_type'] == t) for t in element_types}"
   ]
  },
  {
   "cell_type": "code",
   "execution_count": 24,
   "metadata": {},
   "outputs": [],
   "source": [
    "model.add_constraints((lineup_type_count[t] == [type_data.loc[t, 'squad_min_play'], type_data.loc[t, 'squad_max_play']] for t in element_types), name='valid_formation');"
   ]
  },
  {
   "cell_type": "code",
   "execution_count": 25,
   "metadata": {},
   "outputs": [],
   "source": [
    "model.add_constraints((squad_type_count[t] == type_data.loc[t, 'squad_select'] for t in element_types), name='valid_squad');"
   ]
  },
  {
   "cell_type": "code",
   "execution_count": 26,
   "metadata": {},
   "outputs": [],
   "source": [
    "budget=100\n",
    "price = so.expr_sum(merged_data.loc[p, 'now_cost'] / 10 * squad[p] for p in players)"
   ]
  },
  {
   "cell_type": "code",
   "execution_count": 27,
   "metadata": {},
   "outputs": [],
   "source": [
    "model.add_constraint(price <= budget, name='budget_limit');"
   ]
  },
  {
   "cell_type": "code",
   "execution_count": 28,
   "metadata": {},
   "outputs": [],
   "source": [
    "model.add_constraints((so.expr_sum(squad[p] for p in players if merged_data.loc[p, 'name'] == t) <= 3 for t in teams), name='team_limit');"
   ]
  },
  {
   "cell_type": "code",
   "execution_count": 29,
   "metadata": {},
   "outputs": [],
   "source": [
    "total_points = so.expr_sum(merged_data.loc[p, f'{next_gw}_Pts'] * (lineup[p] + captain[p] + 0.1 * vicecap[p]) for p in players)"
   ]
  },
  {
   "cell_type": "code",
   "execution_count": 30,
   "metadata": {},
   "outputs": [],
   "source": [
    "model.set_objective(-total_points, sense='N', name='total_xp');"
   ]
  },
  {
   "cell_type": "code",
   "execution_count": 31,
   "metadata": {},
   "outputs": [],
   "source": [
    "model.export_mps('single_period.mps')"
   ]
  },
  {
   "cell_type": "code",
   "execution_count": 32,
   "metadata": {},
   "outputs": [
    {
     "output_type": "stream",
     "name": "stdout",
     "text": [
      "Welcome to the CBC MILP Solver \nVersion: devel \nBuild Date: Nov 25 2020 \n\ncommand line - cbc single_period.mps solve solu solution_sp.txt (default strategy 1)\nAt line 1 NAME     single_period\nAt line 2 ROWS\nAt line 2705 COLUMNS\nAt line 9376 RHS\nAt line 9727 RANGES\nAt line 9731 BOUNDS\nAt line 12400 ENDATA\nProblem single_period has 2701 rows, 2668 columns and 10672 elements\nCoin0008I single_period read with 0 errors\nContinuous objective value is -62.8741 - 0.02 seconds\nCgl0003I 0 fixed, 0 tightened bounds, 2001 strengthened rows, 0 substitutions\nCgl0004I processed model has 2032 rows, 2668 columns (2668 integer (2668 of which binary)) and 10666 elements\nCoin3009W Conflict graph built in 0.009 seconds, density: 3.186%\nCgl0015I Clique Strengthening extended 0 cliques, 0 were dominated\nCbc0038I Initial state - 2 integers unsatisfied sum - 0.266667\nCbc0038I Solution found of -62.8741\nCbc0038I Before mini branch and bound, 2666 integers at bound fixed and 0 continuous\nCbc0038I Mini branch and bound did not improve solution (0.21 seconds)\nCbc0038I After 0.21 seconds - Feasibility pump exiting with objective of -62.8741 - took 0.01 seconds\nCbc0012I Integer solution of -62.8741 found by feasibility pump after 0 iterations and 0 nodes (0.21 seconds)\nCbc0001I Search completed - best objective -62.8741, took 0 iterations and 0 nodes (0.22 seconds)\nCbc0035I Maximum depth 0, 0 variables fixed on reduced cost\nCuts at root node changed objective from -62.8741 to -62.8741\nProbing was tried 0 times and created 0 cuts of which 0 were active after adding rounds of cuts (0.000 seconds)\nGomory was tried 0 times and created 0 cuts of which 0 were active after adding rounds of cuts (0.000 seconds)\nKnapsack was tried 0 times and created 0 cuts of which 0 were active after adding rounds of cuts (0.000 seconds)\nClique was tried 0 times and created 0 cuts of which 0 were active after adding rounds of cuts (0.000 seconds)\nOddWheel was tried 0 times and created 0 cuts of which 0 were active after adding rounds of cuts (0.000 seconds)\nMixedIntegerRounding2 was tried 0 times and created 0 cuts of which 0 were active after adding rounds of cuts (0.000 seconds)\nFlowCover was tried 0 times and created 0 cuts of which 0 were active after adding rounds of cuts (0.000 seconds)\nTwoMirCuts was tried 0 times and created 0 cuts of which 0 were active after adding rounds of cuts (0.000 seconds)\nZeroHalf was tried 0 times and created 0 cuts of which 0 were active after adding rounds of cuts (0.000 seconds)\n\nResult - Optimal solution found\n\nObjective value:                -62.87410000\nEnumerated nodes:               0\nTotal iterations:               0\nTime (CPU seconds):             0.23\nTime (Wallclock seconds):       0.23\n\nTotal time (CPU seconds):       0.27   (Wallclock seconds):       0.27\n\n"
     ]
    }
   ],
   "source": [
    "command = 'cbc single_period.mps solve solu solution_sp.txt'\n",
    "!{command}"
   ]
  },
  {
   "cell_type": "code",
   "execution_count": 33,
   "metadata": {},
   "outputs": [],
   "source": [
    "for v in model.get_variables():\n",
    "    v.set_value(0)"
   ]
  },
  {
   "cell_type": "code",
   "execution_count": 34,
   "metadata": {},
   "outputs": [],
   "source": [
    "with open('solution_sp.txt', 'r') as f:\n",
    "    for line in f:\n",
    "        if 'objective value' in line:\n",
    "            continue\n",
    "        words = line.split()\n",
    "        var = model.get_variable(words[1])\n",
    "        var.set_value(float(words[2]))"
   ]
  },
  {
   "cell_type": "code",
   "execution_count": 35,
   "metadata": {},
   "outputs": [],
   "source": [
    "picks = []\n",
    "for p in players:\n",
    "    if squad[p].get_value() > 0.5:\n",
    "        lp = merged_data.loc[p]\n",
    "        is_captain = 1 if captain[p].get_value() > 0.5 else 0\n",
    "        is_lineup = 1 if lineup[p].get_value() > 0.5 else 0\n",
    "        is_vice = 1 if vicecap[p].get_value() > 0.5 else 0\n",
    "        position = type_data.loc[lp['element_type'], 'singular_name_short']\n",
    "        picks.append([\n",
    "            lp['web_name'], position, lp['element_type'], lp['name'], lp['now_cost']/10, round(lp[f'{next_gw}_Pts'], 2), is_lineup, is_captain, is_vice\n",
    "        ])\n",
    "\n",
    "picks_df = pd.DataFrame(picks, columns=['name', 'pos', 'type', 'team', 'price', 'xP', 'lineup', 'captain', 'vicecaptain']).sort_values(by=['lineup', 'type', 'xP'], ascending=[False, True, True])"
   ]
  },
  {
   "cell_type": "code",
   "execution_count": 36,
   "metadata": {},
   "outputs": [
    {
     "output_type": "execute_result",
     "data": {
      "text/plain": [
       "         name  pos  type       team  price    xP  lineup  captain  vicecaptain\n",
       "6       Mendy  GKP     1    Chelsea    5.2  4.76       1        0            0\n",
       "7       Digne  DEF     2    Everton    6.2  4.52       1        0            0\n",
       "8      Dallas  DEF     2      Leeds    5.1  4.52       1        0            0\n",
       "12       Shaw  DEF     2    Man Utd    5.2  4.96       1        0            0\n",
       "5       James  DEF     2    Chelsea    5.0  5.04       1        0            0\n",
       "10   Raphinha  MID     3      Leeds    5.7  4.76       1        0            0\n",
       "11      Salah  MID     3  Liverpool   12.4  5.29       1        0            0\n",
       "13  Fernandes  MID     3    Man Utd   11.5  5.42       1        0            0\n",
       "4       Mount  MID     3    Chelsea    7.0  5.65       1        0            1\n",
       "9     Bamford  FWD     4      Leeds    6.7  4.52       1        0            0\n",
       "14       Kane  FWD     4      Spurs   11.6  6.44       1        1            0\n",
       "1      Steele  GKP     1   Brighton    3.9  0.00       0        0            0\n",
       "3   Tarkowski  DEF     2    Burnley    5.3  2.81       0        0            0\n",
       "2    Stephens  MID     3    Burnley    4.2  0.10       0        0            0\n",
       "0      Murray  FWD     4   Brighton    4.8  0.00       0        0            0"
      ],
      "text/html": "<div>\n<style scoped>\n    .dataframe tbody tr th:only-of-type {\n        vertical-align: middle;\n    }\n\n    .dataframe tbody tr th {\n        vertical-align: top;\n    }\n\n    .dataframe thead th {\n        text-align: right;\n    }\n</style>\n<table border=\"1\" class=\"dataframe\">\n  <thead>\n    <tr style=\"text-align: right;\">\n      <th></th>\n      <th>name</th>\n      <th>pos</th>\n      <th>type</th>\n      <th>team</th>\n      <th>price</th>\n      <th>xP</th>\n      <th>lineup</th>\n      <th>captain</th>\n      <th>vicecaptain</th>\n    </tr>\n  </thead>\n  <tbody>\n    <tr>\n      <th>6</th>\n      <td>Mendy</td>\n      <td>GKP</td>\n      <td>1</td>\n      <td>Chelsea</td>\n      <td>5.2</td>\n      <td>4.76</td>\n      <td>1</td>\n      <td>0</td>\n      <td>0</td>\n    </tr>\n    <tr>\n      <th>7</th>\n      <td>Digne</td>\n      <td>DEF</td>\n      <td>2</td>\n      <td>Everton</td>\n      <td>6.2</td>\n      <td>4.52</td>\n      <td>1</td>\n      <td>0</td>\n      <td>0</td>\n    </tr>\n    <tr>\n      <th>8</th>\n      <td>Dallas</td>\n      <td>DEF</td>\n      <td>2</td>\n      <td>Leeds</td>\n      <td>5.1</td>\n      <td>4.52</td>\n      <td>1</td>\n      <td>0</td>\n      <td>0</td>\n    </tr>\n    <tr>\n      <th>12</th>\n      <td>Shaw</td>\n      <td>DEF</td>\n      <td>2</td>\n      <td>Man Utd</td>\n      <td>5.2</td>\n      <td>4.96</td>\n      <td>1</td>\n      <td>0</td>\n      <td>0</td>\n    </tr>\n    <tr>\n      <th>5</th>\n      <td>James</td>\n      <td>DEF</td>\n      <td>2</td>\n      <td>Chelsea</td>\n      <td>5.0</td>\n      <td>5.04</td>\n      <td>1</td>\n      <td>0</td>\n      <td>0</td>\n    </tr>\n    <tr>\n      <th>10</th>\n      <td>Raphinha</td>\n      <td>MID</td>\n      <td>3</td>\n      <td>Leeds</td>\n      <td>5.7</td>\n      <td>4.76</td>\n      <td>1</td>\n      <td>0</td>\n      <td>0</td>\n    </tr>\n    <tr>\n      <th>11</th>\n      <td>Salah</td>\n      <td>MID</td>\n      <td>3</td>\n      <td>Liverpool</td>\n      <td>12.4</td>\n      <td>5.29</td>\n      <td>1</td>\n      <td>0</td>\n      <td>0</td>\n    </tr>\n    <tr>\n      <th>13</th>\n      <td>Fernandes</td>\n      <td>MID</td>\n      <td>3</td>\n      <td>Man Utd</td>\n      <td>11.5</td>\n      <td>5.42</td>\n      <td>1</td>\n      <td>0</td>\n      <td>0</td>\n    </tr>\n    <tr>\n      <th>4</th>\n      <td>Mount</td>\n      <td>MID</td>\n      <td>3</td>\n      <td>Chelsea</td>\n      <td>7.0</td>\n      <td>5.65</td>\n      <td>1</td>\n      <td>0</td>\n      <td>1</td>\n    </tr>\n    <tr>\n      <th>9</th>\n      <td>Bamford</td>\n      <td>FWD</td>\n      <td>4</td>\n      <td>Leeds</td>\n      <td>6.7</td>\n      <td>4.52</td>\n      <td>1</td>\n      <td>0</td>\n      <td>0</td>\n    </tr>\n    <tr>\n      <th>14</th>\n      <td>Kane</td>\n      <td>FWD</td>\n      <td>4</td>\n      <td>Spurs</td>\n      <td>11.6</td>\n      <td>6.44</td>\n      <td>1</td>\n      <td>1</td>\n      <td>0</td>\n    </tr>\n    <tr>\n      <th>1</th>\n      <td>Steele</td>\n      <td>GKP</td>\n      <td>1</td>\n      <td>Brighton</td>\n      <td>3.9</td>\n      <td>0.00</td>\n      <td>0</td>\n      <td>0</td>\n      <td>0</td>\n    </tr>\n    <tr>\n      <th>3</th>\n      <td>Tarkowski</td>\n      <td>DEF</td>\n      <td>2</td>\n      <td>Burnley</td>\n      <td>5.3</td>\n      <td>2.81</td>\n      <td>0</td>\n      <td>0</td>\n      <td>0</td>\n    </tr>\n    <tr>\n      <th>2</th>\n      <td>Stephens</td>\n      <td>MID</td>\n      <td>3</td>\n      <td>Burnley</td>\n      <td>4.2</td>\n      <td>0.10</td>\n      <td>0</td>\n      <td>0</td>\n      <td>0</td>\n    </tr>\n    <tr>\n      <th>0</th>\n      <td>Murray</td>\n      <td>FWD</td>\n      <td>4</td>\n      <td>Brighton</td>\n      <td>4.8</td>\n      <td>0.00</td>\n      <td>0</td>\n      <td>0</td>\n      <td>0</td>\n    </tr>\n  </tbody>\n</table>\n</div>"
     },
     "metadata": {},
     "execution_count": 36
    }
   ],
   "source": [
    "picks_df"
   ]
  },
  {
   "cell_type": "code",
   "execution_count": 37,
   "metadata": {},
   "outputs": [
    {
     "output_type": "execute_result",
     "data": {
      "text/plain": [
       "62.309"
      ]
     },
     "metadata": {},
     "execution_count": 37
    }
   ],
   "source": [
    "total_xp = so.expr_sum((lineup[p] + captain[p]) * merged_data.loc[p, f'{next_gw}_Pts'] for p in players).get_value()\n",
    "total_xp"
   ]
  },
  {
   "cell_type": "code",
   "execution_count": 38,
   "metadata": {},
   "outputs": [
    {
     "output_type": "execute_result",
     "data": {
      "text/plain": [
       "99.80000000000001"
      ]
     },
     "metadata": {},
     "execution_count": 38
    }
   ],
   "source": [
    "price.get_value()"
   ]
  }
 ]
}